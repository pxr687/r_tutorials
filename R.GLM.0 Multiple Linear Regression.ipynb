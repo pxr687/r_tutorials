{
 "cells": [
  {
   "cell_type": "markdown",
   "metadata": {},
   "source": [
    "# Multiple Linear Regression with R\n",
    "\n",
    "This notebook is a brief tutorial on how to perform simple and multiple linear regression using the R programming language. The tutorial assumes prior knowledge of the theory of linear regression (estimation of coefficients; p-values etc.), but assumes no knowledge of the R programming language.\n",
    "\n",
    "This notebook is written in the Jupyter notebook format. Jupyter notebook is a browser interfact that lets you interface with a kernal running a programming language, in this case R. Notebooks also allow for writing text cells (like the one you are reading - technically called *markdown cells*) alongside the code. This format is useful for teaching, as well as writing up and sharing the results of an analysis, because text explaning the analysis can be embedded in the same document as the code that performs the analysis.\n",
    "\n",
    "The next section is a brisk introduction to the programming concepts we'll need to perform a linear regression...\n",
    "\n",
    "## A very, very brief introduction to programming\n",
    "\n",
    "Programming languages are, at root, fancy calculators (to borrow [Dr Juan Klopper's term](https://www.juanklopper.com/)). The cell below the markdown cell you are reading is a *code cell*. AS the name suggests, this is when we can run code. If you are using an interactive version of this notebook, click on the cell and press `Control` and `Enter` simultaneously to run it. This will perform a simple arithmetic operation. The output of the code will appear below the cell:\n",
    "\n",
    "*Note*: text in a code cell that appears after a `#` symbol is a *comment*. This is not executed as code, but is useful for documenting what specific code statements are doing:"
   ]
  },
  {
   "cell_type": "code",
   "execution_count": 1,
   "metadata": {},
   "outputs": [
    {
     "data": {
      "text/html": [
       "20"
      ],
      "text/latex": [
       "20"
      ],
      "text/markdown": [
       "20"
      ],
      "text/plain": [
       "[1] 20"
      ]
     },
     "metadata": {},
     "output_type": "display_data"
    }
   ],
   "source": [
    "# press Cntrl + Enter simultaneously to run this cell\n",
    "10 + 10"
   ]
  },
  {
   "cell_type": "markdown",
   "metadata": {},
   "source": [
    "One of the useful aspects of programming languages is that they let us store the results of computational procedures as *variables*. These are stored in the computer's memory and can be accessed later:"
   ]
  },
  {
   "cell_type": "code",
   "execution_count": 2,
   "metadata": {},
   "outputs": [
    {
     "data": {
      "text/html": [
       "20"
      ],
      "text/latex": [
       "20"
      ],
      "text/markdown": [
       "20"
      ],
      "text/plain": [
       "[1] 20"
      ]
     },
     "metadata": {},
     "output_type": "display_data"
    }
   ],
   "source": [
    "# store the result of 10 + 10 in a variable called `my_variable`\n",
    "my_variable = 10 + 10\n",
    "\n",
    "# show what is in my_variable (the cell output will show the whatever is contained in the final line of the cell)\n",
    "my_variable"
   ]
  },
  {
   "cell_type": "markdown",
   "metadata": {},
   "source": [
    "For example, if we had a set of scores on a cognitive task:"
   ]
  },
  {
   "cell_type": "code",
   "execution_count": 3,
   "metadata": {},
   "outputs": [
    {
     "data": {
      "text/html": [
       "<style>\n",
       ".list-inline {list-style: none; margin:0; padding: 0}\n",
       ".list-inline>li {display: inline-block}\n",
       ".list-inline>li:not(:last-child)::after {content: \"\\00b7\"; padding: 0 .5ex}\n",
       "</style>\n",
       "<ol class=list-inline><li>78</li><li>21</li><li>63</li><li>37</li><li>19</li><li>8</li><li>49</li><li>88</li><li>31</li><li>36</li><li>96</li><li>79</li><li>59</li><li>29</li><li>7</li><li>86</li><li>25</li><li>81</li><li>71</li><li>24</li></ol>\n"
      ],
      "text/latex": [
       "\\begin{enumerate*}\n",
       "\\item 78\n",
       "\\item 21\n",
       "\\item 63\n",
       "\\item 37\n",
       "\\item 19\n",
       "\\item 8\n",
       "\\item 49\n",
       "\\item 88\n",
       "\\item 31\n",
       "\\item 36\n",
       "\\item 96\n",
       "\\item 79\n",
       "\\item 59\n",
       "\\item 29\n",
       "\\item 7\n",
       "\\item 86\n",
       "\\item 25\n",
       "\\item 81\n",
       "\\item 71\n",
       "\\item 24\n",
       "\\end{enumerate*}\n"
      ],
      "text/markdown": [
       "1. 78\n",
       "2. 21\n",
       "3. 63\n",
       "4. 37\n",
       "5. 19\n",
       "6. 8\n",
       "7. 49\n",
       "8. 88\n",
       "9. 31\n",
       "10. 36\n",
       "11. 96\n",
       "12. 79\n",
       "13. 59\n",
       "14. 29\n",
       "15. 7\n",
       "16. 86\n",
       "17. 25\n",
       "18. 81\n",
       "19. 71\n",
       "20. 24\n",
       "\n",
       "\n"
      ],
      "text/plain": [
       " [1] 78 21 63 37 19  8 49 88 31 36 96 79 59 29  7 86 25 81 71 24"
      ]
     },
     "metadata": {},
     "output_type": "display_data"
    }
   ],
   "source": [
    "# generate some random scores, don't worry about this code for now\n",
    "scores = c(sample(seq(1, 100), size = 20))\n",
    "\n",
    "# show the scores\n",
    "scores"
   ]
  },
  {
   "cell_type": "code",
   "execution_count": 4,
   "metadata": {},
   "outputs": [
    {
     "data": {
      "text/html": [
       "<style>\n",
       ".list-inline {list-style: none; margin:0; padding: 0}\n",
       ".list-inline>li {display: inline-block}\n",
       ".list-inline>li:not(:last-child)::after {content: \"\\00b7\"; padding: 0 .5ex}\n",
       "</style>\n",
       "<ol class=list-inline><li>1</li><li>100</li></ol>\n"
      ],
      "text/latex": [
       "\\begin{enumerate*}\n",
       "\\item 1\n",
       "\\item 100\n",
       "\\end{enumerate*}\n"
      ],
      "text/markdown": [
       "1. 1\n",
       "2. 100\n",
       "\n",
       "\n"
      ],
      "text/plain": [
       "[1]   1 100"
      ]
     },
     "metadata": {},
     "output_type": "display_data"
    }
   ],
   "source": [
    "c(range(1, 100))"
   ]
  },
  {
   "cell_type": "markdown",
   "metadata": {},
   "source": [
    "If we mean-centred the scores, we can store the mean-centred scores as a variable, for use later in the analysis:"
   ]
  },
  {
   "cell_type": "code",
   "execution_count": 5,
   "metadata": {},
   "outputs": [
    {
     "data": {
      "text/html": [
       "<style>\n",
       ".list-inline {list-style: none; margin:0; padding: 0}\n",
       ".list-inline>li {display: inline-block}\n",
       ".list-inline>li:not(:last-child)::after {content: \"\\00b7\"; padding: 0 .5ex}\n",
       "</style>\n",
       "<ol class=list-inline><li>28.65</li><li>-28.35</li><li>13.65</li><li>-12.35</li><li>-30.35</li><li>-41.35</li><li>-0.350000000000001</li><li>38.65</li><li>-18.35</li><li>-13.35</li><li>46.65</li><li>29.65</li><li>9.65</li><li>-20.35</li><li>-42.35</li><li>36.65</li><li>-24.35</li><li>31.65</li><li>21.65</li><li>-25.35</li></ol>\n"
      ],
      "text/latex": [
       "\\begin{enumerate*}\n",
       "\\item 28.65\n",
       "\\item -28.35\n",
       "\\item 13.65\n",
       "\\item -12.35\n",
       "\\item -30.35\n",
       "\\item -41.35\n",
       "\\item -0.350000000000001\n",
       "\\item 38.65\n",
       "\\item -18.35\n",
       "\\item -13.35\n",
       "\\item 46.65\n",
       "\\item 29.65\n",
       "\\item 9.65\n",
       "\\item -20.35\n",
       "\\item -42.35\n",
       "\\item 36.65\n",
       "\\item -24.35\n",
       "\\item 31.65\n",
       "\\item 21.65\n",
       "\\item -25.35\n",
       "\\end{enumerate*}\n"
      ],
      "text/markdown": [
       "1. 28.65\n",
       "2. -28.35\n",
       "3. 13.65\n",
       "4. -12.35\n",
       "5. -30.35\n",
       "6. -41.35\n",
       "7. -0.350000000000001\n",
       "8. 38.65\n",
       "9. -18.35\n",
       "10. -13.35\n",
       "11. 46.65\n",
       "12. 29.65\n",
       "13. 9.65\n",
       "14. -20.35\n",
       "15. -42.35\n",
       "16. 36.65\n",
       "17. -24.35\n",
       "18. 31.65\n",
       "19. 21.65\n",
       "20. -25.35\n",
       "\n",
       "\n"
      ],
      "text/plain": [
       " [1]  28.65 -28.35  13.65 -12.35 -30.35 -41.35  -0.35  38.65 -18.35 -13.35\n",
       "[11]  46.65  29.65   9.65 -20.35 -42.35  36.65 -24.35  31.65  21.65 -25.35"
      ]
     },
     "metadata": {},
     "output_type": "display_data"
    }
   ],
   "source": [
    "# mean centre the random scores\n",
    "mean_centered_scores = scores - mean(scores)\n",
    "\n",
    "# show the mean centred scores\n",
    "mean_centered_scores"
   ]
  },
  {
   "cell_type": "markdown",
   "metadata": {},
   "source": [
    "In the cell above `mean()` is a built-in R *function*. A function carries out a set of steps on whatever it is supplied as input. We pass something to a function by putting it in between the parentheses `()` at the end of the function. As the name implies, the function `mean()` will calculate the average of whatever values are passed to it.\n",
    "\n",
    "The function `exp()` raises the constant $e$ to the power of whatever input it is given. E.g. the code `exp(10 + 10)` is equivalent to $e^{(10 + 10)}$:"
   ]
  },
  {
   "cell_type": "code",
   "execution_count": 6,
   "metadata": {},
   "outputs": [
    {
     "data": {
      "text/html": [
       "485165195.40979"
      ],
      "text/latex": [
       "485165195.40979"
      ],
      "text/markdown": [
       "485165195.40979"
      ],
      "text/plain": [
       "[1] 485165195"
      ]
     },
     "metadata": {},
     "output_type": "display_data"
    }
   ],
   "source": [
    "exp(10 + 10)"
   ]
  },
  {
   "cell_type": "markdown",
   "metadata": {},
   "source": [
    "We can pass variables to functions also:"
   ]
  },
  {
   "cell_type": "code",
   "execution_count": 7,
   "metadata": {},
   "outputs": [
    {
     "data": {
      "text/html": [
       "<style>\n",
       ".list-inline {list-style: none; margin:0; padding: 0}\n",
       ".list-inline>li {display: inline-block}\n",
       ".list-inline>li:not(:last-child)::after {content: \"\\00b7\"; padding: 0 .5ex}\n",
       "</style>\n",
       "<ol class=list-inline><li>2770364455900.09</li><li>4.87249540291055e-13</li><li>847460.915695616</li><li>4.32975326609297e-06</li><li>6.59420545421993e-14</li><li>1.10134446445787e-18</li><li>0.704688089718712</li><li>61021337927031696</li><li>1.07323853327562e-08</li><li>1.59282721194051e-06</li><li>1.81902044673557e+20</li><li>7530631358682.05</li><li>15521.7881041969</li><li>1.45247040881303e-09</li><li>4.05161986122023e-19</li><li>8258340051831891</li><li>2.66029235043916e-11</li><li>55644257569668</li><li>2526245385.34854</li><li>9.78666863232221e-12</li></ol>\n"
      ],
      "text/latex": [
       "\\begin{enumerate*}\n",
       "\\item 2770364455900.09\n",
       "\\item 4.87249540291055e-13\n",
       "\\item 847460.915695616\n",
       "\\item 4.32975326609297e-06\n",
       "\\item 6.59420545421993e-14\n",
       "\\item 1.10134446445787e-18\n",
       "\\item 0.704688089718712\n",
       "\\item 61021337927031696\n",
       "\\item 1.07323853327562e-08\n",
       "\\item 1.59282721194051e-06\n",
       "\\item 1.81902044673557e+20\n",
       "\\item 7530631358682.05\n",
       "\\item 15521.7881041969\n",
       "\\item 1.45247040881303e-09\n",
       "\\item 4.05161986122023e-19\n",
       "\\item 8258340051831891\n",
       "\\item 2.66029235043916e-11\n",
       "\\item 55644257569668\n",
       "\\item 2526245385.34854\n",
       "\\item 9.78666863232221e-12\n",
       "\\end{enumerate*}\n"
      ],
      "text/markdown": [
       "1. 2770364455900.09\n",
       "2. 4.87249540291055e-13\n",
       "3. 847460.915695616\n",
       "4. 4.32975326609297e-06\n",
       "5. 6.59420545421993e-14\n",
       "6. 1.10134446445787e-18\n",
       "7. 0.704688089718712\n",
       "8. 61021337927031696\n",
       "9. 1.07323853327562e-08\n",
       "10. 1.59282721194051e-06\n",
       "11. 1.81902044673557e+20\n",
       "12. 7530631358682.05\n",
       "13. 15521.7881041969\n",
       "14. 1.45247040881303e-09\n",
       "15. 4.05161986122023e-19\n",
       "16. 8258340051831891\n",
       "17. 2.66029235043916e-11\n",
       "18. 55644257569668\n",
       "19. 2526245385.34854\n",
       "20. 9.78666863232221e-12\n",
       "\n",
       "\n"
      ],
      "text/plain": [
       " [1] 2.770364e+12 4.872495e-13 8.474609e+05 4.329753e-06 6.594205e-14\n",
       " [6] 1.101344e-18 7.046881e-01 6.102134e+16 1.073239e-08 1.592827e-06\n",
       "[11] 1.819020e+20 7.530631e+12 1.552179e+04 1.452470e-09 4.051620e-19\n",
       "[16] 8.258340e+15 2.660292e-11 5.564426e+13 2.526245e+09 9.786669e-12"
      ]
     },
     "metadata": {},
     "output_type": "display_data"
    }
   ],
   "source": [
    "# pass the mean_centered scores variable to the exp() function\n",
    "exp(mean_centered_scores)"
   ]
  },
  {
   "cell_type": "markdown",
   "metadata": {},
   "source": [
    "To get information about what a function does (e.g. to read its documentation) we can place a `?` before the function, and run the cell:"
   ]
  },
  {
   "cell_type": "code",
   "execution_count": 8,
   "metadata": {},
   "outputs": [],
   "source": [
    "# view the documentatin of the exp() function\n",
    "?exp()\n",
    "\n",
    "# in case you are not using an interactive version of this notebook, the image below shows the window that pops up when \n",
    "# you run the command above"
   ]
  },
  {
   "cell_type": "markdown",
   "metadata": {},
   "source": [
    "![](R_docs.png)"
   ]
  },
  {
   "cell_type": "markdown",
   "metadata": {},
   "source": [
    "`exp()` is a built in function, part of R. Other functions can be imported, to expand the functionality of the language (I will mention when I use the libraries that are imported below):\n",
    "\n",
    "*Note*: `library()` is a function that loads a library of other functions."
   ]
  },
  {
   "cell_type": "code",
   "execution_count": 9,
   "metadata": {
    "scrolled": false
   },
   "outputs": [
    {
     "name": "stderr",
     "output_type": "stream",
     "text": [
      "Loading required package: carData\n",
      "\n"
     ]
    }
   ],
   "source": [
    "# import the libraries needed for this page\n",
    "library(\"scatterplot3d\") \n",
    "library(car)\n",
    "library(MASS)"
   ]
  },
  {
   "cell_type": "markdown",
   "metadata": {},
   "source": [
    "With that very brief tour of programming aside, let's delve into importing the data we will use to perform linear regression...\n",
    "\n",
    "## Importing data, dataframes and indexing\n",
    "\n",
    "The data we will analyse in this notebook is from https://ratemyprofessors.com. It shows the average ratings across all the professors within a specific academic subject.\n",
    "\n",
    "The `read_csv()` function will load a csv file into the notebook. The code `df = ` stores the data in a variable called `df`, standing for *dataframe* (which is essentially a spreadsheet):"
   ]
  },
  {
   "cell_type": "code",
   "execution_count": 10,
   "metadata": {},
   "outputs": [
    {
     "data": {
      "text/html": [
       "<table>\n",
       "<caption>A data.frame: 75 × 6</caption>\n",
       "<thead>\n",
       "\t<tr><th scope=col>discipline</th><th scope=col>no_of_professors</th><th scope=col>clarity</th><th scope=col>helpfulness</th><th scope=col>overall_quality</th><th scope=col>easiness</th></tr>\n",
       "\t<tr><th scope=col>&lt;chr&gt;</th><th scope=col>&lt;int&gt;</th><th scope=col>&lt;dbl&gt;</th><th scope=col>&lt;dbl&gt;</th><th scope=col>&lt;dbl&gt;</th><th scope=col>&lt;dbl&gt;</th></tr>\n",
       "</thead>\n",
       "<tbody>\n",
       "\t<tr><td>English          </td><td>23343</td><td>3.756147</td><td>3.821866</td><td>3.791364</td><td>3.162754</td></tr>\n",
       "\t<tr><td>Mathematics      </td><td>22394</td><td>3.487379</td><td>3.641526</td><td>3.566867</td><td>3.063322</td></tr>\n",
       "\t<tr><td>Biology          </td><td>11774</td><td>3.608331</td><td>3.701530</td><td>3.657641</td><td>2.710459</td></tr>\n",
       "\t<tr><td>Psychology       </td><td>11179</td><td>3.909520</td><td>3.887536</td><td>3.900949</td><td>3.316210</td></tr>\n",
       "\t<tr><td>History          </td><td>11145</td><td>3.788818</td><td>3.753642</td><td>3.773746</td><td>3.053803</td></tr>\n",
       "\t<tr><td>Chemistry        </td><td> 7346</td><td>3.387174</td><td>3.538980</td><td>3.465485</td><td>2.652054</td></tr>\n",
       "\t<tr><td>Communications   </td><td> 6940</td><td>3.867349</td><td>3.878602</td><td>3.875019</td><td>3.379829</td></tr>\n",
       "\t<tr><td>Business         </td><td> 6120</td><td>3.640327</td><td>3.680503</td><td>3.663332</td><td>3.172033</td></tr>\n",
       "\t<tr><td>Political Science</td><td> 5824</td><td>3.759018</td><td>3.748676</td><td>3.756197</td><td>3.057758</td></tr>\n",
       "\t<tr><td>Economics        </td><td> 5540</td><td>3.382735</td><td>3.483617</td><td>3.435038</td><td>2.910078</td></tr>\n",
       "\t<tr><td>Philosophy       </td><td> 4973</td><td>3.632302</td><td>3.745327</td><td>3.690967</td><td>3.115357</td></tr>\n",
       "\t<tr><td>Sociology        </td><td> 4839</td><td>3.740980</td><td>3.748169</td><td>3.746962</td><td>3.395819</td></tr>\n",
       "\t<tr><td>Computer Science </td><td> 4809</td><td>3.372618</td><td>3.468661</td><td>3.422907</td><td>3.132724</td></tr>\n",
       "\t<tr><td>Accounting       </td><td> 3895</td><td>3.484249</td><td>3.572727</td><td>3.531315</td><td>2.784706</td></tr>\n",
       "\t<tr><td>Languages        </td><td> 3867</td><td>3.772780</td><td>3.917949</td><td>3.846951</td><td>3.277406</td></tr>\n",
       "\t<tr><td>Science          </td><td> 3832</td><td>3.519402</td><td>3.611681</td><td>3.567557</td><td>2.854413</td></tr>\n",
       "\t<tr><td>Physics          </td><td> 2629</td><td>3.294321</td><td>3.464024</td><td>3.382020</td><td>2.785668</td></tr>\n",
       "\t<tr><td>Anthropology     </td><td> 2598</td><td>3.693222</td><td>3.704761</td><td>3.701674</td><td>3.248045</td></tr>\n",
       "\t<tr><td>Education        </td><td> 2544</td><td>3.707429</td><td>3.806128</td><td>3.758211</td><td>3.430916</td></tr>\n",
       "\t<tr><td>Music            </td><td> 2455</td><td>3.844509</td><td>3.787804</td><td>3.818114</td><td>3.542273</td></tr>\n",
       "\t<tr><td>Fine Arts        </td><td> 1949</td><td>3.659497</td><td>3.697229</td><td>3.679887</td><td>3.138076</td></tr>\n",
       "\t<tr><td>Health           </td><td> 1937</td><td>3.891177</td><td>3.884729</td><td>3.891213</td><td>3.468012</td></tr>\n",
       "\t<tr><td>Humanities       </td><td> 1897</td><td>3.806969</td><td>3.816299</td><td>3.813569</td><td>3.344138</td></tr>\n",
       "\t<tr><td>Engineering      </td><td> 1864</td><td>3.356679</td><td>3.418385</td><td>3.389147</td><td>2.885714</td></tr>\n",
       "\t<tr><td>Criminal Justice </td><td> 1786</td><td>4.056685</td><td>4.033779</td><td>4.046702</td><td>3.469440</td></tr>\n",
       "\t<tr><td>Geography        </td><td> 1694</td><td>3.638341</td><td>3.692072</td><td>3.667279</td><td>3.244433</td></tr>\n",
       "\t<tr><td>Marketing        </td><td> 1458</td><td>3.618333</td><td>3.634108</td><td>3.628333</td><td>3.194300</td></tr>\n",
       "\t<tr><td>Social Science   </td><td> 1412</td><td>3.683555</td><td>3.691133</td><td>3.690262</td><td>3.338846</td></tr>\n",
       "\t<tr><td>Management       </td><td> 1397</td><td>3.604395</td><td>3.625125</td><td>3.618733</td><td>3.144567</td></tr>\n",
       "\t<tr><td>Law              </td><td> 1236</td><td>3.715194</td><td>3.728366</td><td>3.724466</td><td>2.868762</td></tr>\n",
       "\t<tr><td>...</td><td>...</td><td>...</td><td>...</td><td>...</td><td>...</td></tr>\n",
       "\t<tr><td>Film                  </td><td>450</td><td>3.788933</td><td>3.764689</td><td>3.778689</td><td>3.324156</td></tr>\n",
       "\t<tr><td>Women's Studies       </td><td>393</td><td>3.639949</td><td>3.652087</td><td>3.646743</td><td>3.276412</td></tr>\n",
       "\t<tr><td>Classics              </td><td>390</td><td>3.963872</td><td>3.947333</td><td>3.958692</td><td>3.180846</td></tr>\n",
       "\t<tr><td>Government            </td><td>374</td><td>3.957540</td><td>3.916070</td><td>3.938663</td><td>3.423021</td></tr>\n",
       "\t<tr><td>Speech                </td><td>351</td><td>4.133191</td><td>4.101197</td><td>4.119345</td><td>3.674701</td></tr>\n",
       "\t<tr><td>Social Work           </td><td>317</td><td>3.770726</td><td>3.834700</td><td>3.806246</td><td>3.314322</td></tr>\n",
       "\t<tr><td>Statistics            </td><td>317</td><td>3.526814</td><td>3.663407</td><td>3.597066</td><td>3.199716</td></tr>\n",
       "\t<tr><td>Graphic Arts          </td><td>297</td><td>3.561717</td><td>3.640774</td><td>3.603367</td><td>2.978182</td></tr>\n",
       "\t<tr><td>International Studies </td><td>295</td><td>3.621356</td><td>3.666915</td><td>3.646983</td><td>2.977254</td></tr>\n",
       "\t<tr><td>Hospitality           </td><td>267</td><td>3.697228</td><td>3.744607</td><td>3.719476</td><td>3.471498</td></tr>\n",
       "\t<tr><td>Architecture          </td><td>263</td><td>3.376312</td><td>3.448555</td><td>3.416996</td><td>2.825019</td></tr>\n",
       "\t<tr><td>Astronomy             </td><td>238</td><td>3.714076</td><td>3.782521</td><td>3.750966</td><td>3.178866</td></tr>\n",
       "\t<tr><td>Design                </td><td>233</td><td>3.525880</td><td>3.624678</td><td>3.576695</td><td>2.887940</td></tr>\n",
       "\t<tr><td>Foreign Language      </td><td>209</td><td>3.914641</td><td>4.057751</td><td>3.991675</td><td>3.323158</td></tr>\n",
       "\t<tr><td>Religious Studies     </td><td>193</td><td>3.932746</td><td>3.985751</td><td>3.962280</td><td>3.365544</td></tr>\n",
       "\t<tr><td>Electrical Engineering</td><td>176</td><td>3.451534</td><td>3.513182</td><td>3.486591</td><td>2.830455</td></tr>\n",
       "\t<tr><td>Child Development     </td><td>171</td><td>3.950585</td><td>4.008070</td><td>3.979766</td><td>3.606082</td></tr>\n",
       "\t<tr><td>ESL                   </td><td>168</td><td>3.691190</td><td>3.682857</td><td>3.690655</td><td>3.002857</td></tr>\n",
       "\t<tr><td>French                </td><td>162</td><td>3.775370</td><td>3.943086</td><td>3.860679</td><td>3.267099</td></tr>\n",
       "\t<tr><td>Reading               </td><td>148</td><td>4.159392</td><td>4.188919</td><td>4.177500</td><td>3.882635</td></tr>\n",
       "\t<tr><td>Modern Languages      </td><td>147</td><td>3.858503</td><td>3.971293</td><td>3.916259</td><td>3.275238</td></tr>\n",
       "\t<tr><td>Agriculture           </td><td>146</td><td>3.767466</td><td>3.863219</td><td>3.820068</td><td>3.402397</td></tr>\n",
       "\t<tr><td>Kinesiology           </td><td>132</td><td>3.995000</td><td>3.972879</td><td>3.988712</td><td>3.541439</td></tr>\n",
       "\t<tr><td>Nutrition             </td><td>120</td><td>3.815167</td><td>3.844333</td><td>3.831500</td><td>3.468333</td></tr>\n",
       "\t<tr><td>Physical Sciences     </td><td>120</td><td>3.627333</td><td>3.750917</td><td>3.688583</td><td>2.969417</td></tr>\n",
       "\t<tr><td>Anatomy               </td><td>117</td><td>3.932991</td><td>3.974701</td><td>3.954188</td><td>2.863504</td></tr>\n",
       "\t<tr><td>Earth Science         </td><td>110</td><td>3.636182</td><td>3.671364</td><td>3.655091</td><td>3.106727</td></tr>\n",
       "\t<tr><td>Linguistics           </td><td>110</td><td>3.749000</td><td>3.834545</td><td>3.798182</td><td>3.309636</td></tr>\n",
       "\t<tr><td>Mechanical Engineering</td><td>104</td><td>3.441923</td><td>3.531154</td><td>3.489327</td><td>2.799135</td></tr>\n",
       "\t<tr><td>Medicine              </td><td>102</td><td>3.927255</td><td>3.934216</td><td>3.929118</td><td>3.109118</td></tr>\n",
       "</tbody>\n",
       "</table>\n"
      ],
      "text/latex": [
       "A data.frame: 75 × 6\n",
       "\\begin{tabular}{llllll}\n",
       " discipline & no\\_of\\_professors & clarity & helpfulness & overall\\_quality & easiness\\\\\n",
       " <chr> & <int> & <dbl> & <dbl> & <dbl> & <dbl>\\\\\n",
       "\\hline\n",
       "\t English           & 23343 & 3.756147 & 3.821866 & 3.791364 & 3.162754\\\\\n",
       "\t Mathematics       & 22394 & 3.487379 & 3.641526 & 3.566867 & 3.063322\\\\\n",
       "\t Biology           & 11774 & 3.608331 & 3.701530 & 3.657641 & 2.710459\\\\\n",
       "\t Psychology        & 11179 & 3.909520 & 3.887536 & 3.900949 & 3.316210\\\\\n",
       "\t History           & 11145 & 3.788818 & 3.753642 & 3.773746 & 3.053803\\\\\n",
       "\t Chemistry         &  7346 & 3.387174 & 3.538980 & 3.465485 & 2.652054\\\\\n",
       "\t Communications    &  6940 & 3.867349 & 3.878602 & 3.875019 & 3.379829\\\\\n",
       "\t Business          &  6120 & 3.640327 & 3.680503 & 3.663332 & 3.172033\\\\\n",
       "\t Political Science &  5824 & 3.759018 & 3.748676 & 3.756197 & 3.057758\\\\\n",
       "\t Economics         &  5540 & 3.382735 & 3.483617 & 3.435038 & 2.910078\\\\\n",
       "\t Philosophy        &  4973 & 3.632302 & 3.745327 & 3.690967 & 3.115357\\\\\n",
       "\t Sociology         &  4839 & 3.740980 & 3.748169 & 3.746962 & 3.395819\\\\\n",
       "\t Computer Science  &  4809 & 3.372618 & 3.468661 & 3.422907 & 3.132724\\\\\n",
       "\t Accounting        &  3895 & 3.484249 & 3.572727 & 3.531315 & 2.784706\\\\\n",
       "\t Languages         &  3867 & 3.772780 & 3.917949 & 3.846951 & 3.277406\\\\\n",
       "\t Science           &  3832 & 3.519402 & 3.611681 & 3.567557 & 2.854413\\\\\n",
       "\t Physics           &  2629 & 3.294321 & 3.464024 & 3.382020 & 2.785668\\\\\n",
       "\t Anthropology      &  2598 & 3.693222 & 3.704761 & 3.701674 & 3.248045\\\\\n",
       "\t Education         &  2544 & 3.707429 & 3.806128 & 3.758211 & 3.430916\\\\\n",
       "\t Music             &  2455 & 3.844509 & 3.787804 & 3.818114 & 3.542273\\\\\n",
       "\t Fine Arts         &  1949 & 3.659497 & 3.697229 & 3.679887 & 3.138076\\\\\n",
       "\t Health            &  1937 & 3.891177 & 3.884729 & 3.891213 & 3.468012\\\\\n",
       "\t Humanities        &  1897 & 3.806969 & 3.816299 & 3.813569 & 3.344138\\\\\n",
       "\t Engineering       &  1864 & 3.356679 & 3.418385 & 3.389147 & 2.885714\\\\\n",
       "\t Criminal Justice  &  1786 & 4.056685 & 4.033779 & 4.046702 & 3.469440\\\\\n",
       "\t Geography         &  1694 & 3.638341 & 3.692072 & 3.667279 & 3.244433\\\\\n",
       "\t Marketing         &  1458 & 3.618333 & 3.634108 & 3.628333 & 3.194300\\\\\n",
       "\t Social Science    &  1412 & 3.683555 & 3.691133 & 3.690262 & 3.338846\\\\\n",
       "\t Management        &  1397 & 3.604395 & 3.625125 & 3.618733 & 3.144567\\\\\n",
       "\t Law               &  1236 & 3.715194 & 3.728366 & 3.724466 & 2.868762\\\\\n",
       "\t ... & ... & ... & ... & ... & ...\\\\\n",
       "\t Film                   & 450 & 3.788933 & 3.764689 & 3.778689 & 3.324156\\\\\n",
       "\t Women's Studies        & 393 & 3.639949 & 3.652087 & 3.646743 & 3.276412\\\\\n",
       "\t Classics               & 390 & 3.963872 & 3.947333 & 3.958692 & 3.180846\\\\\n",
       "\t Government             & 374 & 3.957540 & 3.916070 & 3.938663 & 3.423021\\\\\n",
       "\t Speech                 & 351 & 4.133191 & 4.101197 & 4.119345 & 3.674701\\\\\n",
       "\t Social Work            & 317 & 3.770726 & 3.834700 & 3.806246 & 3.314322\\\\\n",
       "\t Statistics             & 317 & 3.526814 & 3.663407 & 3.597066 & 3.199716\\\\\n",
       "\t Graphic Arts           & 297 & 3.561717 & 3.640774 & 3.603367 & 2.978182\\\\\n",
       "\t International Studies  & 295 & 3.621356 & 3.666915 & 3.646983 & 2.977254\\\\\n",
       "\t Hospitality            & 267 & 3.697228 & 3.744607 & 3.719476 & 3.471498\\\\\n",
       "\t Architecture           & 263 & 3.376312 & 3.448555 & 3.416996 & 2.825019\\\\\n",
       "\t Astronomy              & 238 & 3.714076 & 3.782521 & 3.750966 & 3.178866\\\\\n",
       "\t Design                 & 233 & 3.525880 & 3.624678 & 3.576695 & 2.887940\\\\\n",
       "\t Foreign Language       & 209 & 3.914641 & 4.057751 & 3.991675 & 3.323158\\\\\n",
       "\t Religious Studies      & 193 & 3.932746 & 3.985751 & 3.962280 & 3.365544\\\\\n",
       "\t Electrical Engineering & 176 & 3.451534 & 3.513182 & 3.486591 & 2.830455\\\\\n",
       "\t Child Development      & 171 & 3.950585 & 4.008070 & 3.979766 & 3.606082\\\\\n",
       "\t ESL                    & 168 & 3.691190 & 3.682857 & 3.690655 & 3.002857\\\\\n",
       "\t French                 & 162 & 3.775370 & 3.943086 & 3.860679 & 3.267099\\\\\n",
       "\t Reading                & 148 & 4.159392 & 4.188919 & 4.177500 & 3.882635\\\\\n",
       "\t Modern Languages       & 147 & 3.858503 & 3.971293 & 3.916259 & 3.275238\\\\\n",
       "\t Agriculture            & 146 & 3.767466 & 3.863219 & 3.820068 & 3.402397\\\\\n",
       "\t Kinesiology            & 132 & 3.995000 & 3.972879 & 3.988712 & 3.541439\\\\\n",
       "\t Nutrition              & 120 & 3.815167 & 3.844333 & 3.831500 & 3.468333\\\\\n",
       "\t Physical Sciences      & 120 & 3.627333 & 3.750917 & 3.688583 & 2.969417\\\\\n",
       "\t Anatomy                & 117 & 3.932991 & 3.974701 & 3.954188 & 2.863504\\\\\n",
       "\t Earth Science          & 110 & 3.636182 & 3.671364 & 3.655091 & 3.106727\\\\\n",
       "\t Linguistics            & 110 & 3.749000 & 3.834545 & 3.798182 & 3.309636\\\\\n",
       "\t Mechanical Engineering & 104 & 3.441923 & 3.531154 & 3.489327 & 2.799135\\\\\n",
       "\t Medicine               & 102 & 3.927255 & 3.934216 & 3.929118 & 3.109118\\\\\n",
       "\\end{tabular}\n"
      ],
      "text/markdown": [
       "\n",
       "A data.frame: 75 × 6\n",
       "\n",
       "| discipline &lt;chr&gt; | no_of_professors &lt;int&gt; | clarity &lt;dbl&gt; | helpfulness &lt;dbl&gt; | overall_quality &lt;dbl&gt; | easiness &lt;dbl&gt; |\n",
       "|---|---|---|---|---|---|\n",
       "| English           | 23343 | 3.756147 | 3.821866 | 3.791364 | 3.162754 |\n",
       "| Mathematics       | 22394 | 3.487379 | 3.641526 | 3.566867 | 3.063322 |\n",
       "| Biology           | 11774 | 3.608331 | 3.701530 | 3.657641 | 2.710459 |\n",
       "| Psychology        | 11179 | 3.909520 | 3.887536 | 3.900949 | 3.316210 |\n",
       "| History           | 11145 | 3.788818 | 3.753642 | 3.773746 | 3.053803 |\n",
       "| Chemistry         |  7346 | 3.387174 | 3.538980 | 3.465485 | 2.652054 |\n",
       "| Communications    |  6940 | 3.867349 | 3.878602 | 3.875019 | 3.379829 |\n",
       "| Business          |  6120 | 3.640327 | 3.680503 | 3.663332 | 3.172033 |\n",
       "| Political Science |  5824 | 3.759018 | 3.748676 | 3.756197 | 3.057758 |\n",
       "| Economics         |  5540 | 3.382735 | 3.483617 | 3.435038 | 2.910078 |\n",
       "| Philosophy        |  4973 | 3.632302 | 3.745327 | 3.690967 | 3.115357 |\n",
       "| Sociology         |  4839 | 3.740980 | 3.748169 | 3.746962 | 3.395819 |\n",
       "| Computer Science  |  4809 | 3.372618 | 3.468661 | 3.422907 | 3.132724 |\n",
       "| Accounting        |  3895 | 3.484249 | 3.572727 | 3.531315 | 2.784706 |\n",
       "| Languages         |  3867 | 3.772780 | 3.917949 | 3.846951 | 3.277406 |\n",
       "| Science           |  3832 | 3.519402 | 3.611681 | 3.567557 | 2.854413 |\n",
       "| Physics           |  2629 | 3.294321 | 3.464024 | 3.382020 | 2.785668 |\n",
       "| Anthropology      |  2598 | 3.693222 | 3.704761 | 3.701674 | 3.248045 |\n",
       "| Education         |  2544 | 3.707429 | 3.806128 | 3.758211 | 3.430916 |\n",
       "| Music             |  2455 | 3.844509 | 3.787804 | 3.818114 | 3.542273 |\n",
       "| Fine Arts         |  1949 | 3.659497 | 3.697229 | 3.679887 | 3.138076 |\n",
       "| Health            |  1937 | 3.891177 | 3.884729 | 3.891213 | 3.468012 |\n",
       "| Humanities        |  1897 | 3.806969 | 3.816299 | 3.813569 | 3.344138 |\n",
       "| Engineering       |  1864 | 3.356679 | 3.418385 | 3.389147 | 2.885714 |\n",
       "| Criminal Justice  |  1786 | 4.056685 | 4.033779 | 4.046702 | 3.469440 |\n",
       "| Geography         |  1694 | 3.638341 | 3.692072 | 3.667279 | 3.244433 |\n",
       "| Marketing         |  1458 | 3.618333 | 3.634108 | 3.628333 | 3.194300 |\n",
       "| Social Science    |  1412 | 3.683555 | 3.691133 | 3.690262 | 3.338846 |\n",
       "| Management        |  1397 | 3.604395 | 3.625125 | 3.618733 | 3.144567 |\n",
       "| Law               |  1236 | 3.715194 | 3.728366 | 3.724466 | 2.868762 |\n",
       "| ... | ... | ... | ... | ... | ... |\n",
       "| Film                   | 450 | 3.788933 | 3.764689 | 3.778689 | 3.324156 |\n",
       "| Women's Studies        | 393 | 3.639949 | 3.652087 | 3.646743 | 3.276412 |\n",
       "| Classics               | 390 | 3.963872 | 3.947333 | 3.958692 | 3.180846 |\n",
       "| Government             | 374 | 3.957540 | 3.916070 | 3.938663 | 3.423021 |\n",
       "| Speech                 | 351 | 4.133191 | 4.101197 | 4.119345 | 3.674701 |\n",
       "| Social Work            | 317 | 3.770726 | 3.834700 | 3.806246 | 3.314322 |\n",
       "| Statistics             | 317 | 3.526814 | 3.663407 | 3.597066 | 3.199716 |\n",
       "| Graphic Arts           | 297 | 3.561717 | 3.640774 | 3.603367 | 2.978182 |\n",
       "| International Studies  | 295 | 3.621356 | 3.666915 | 3.646983 | 2.977254 |\n",
       "| Hospitality            | 267 | 3.697228 | 3.744607 | 3.719476 | 3.471498 |\n",
       "| Architecture           | 263 | 3.376312 | 3.448555 | 3.416996 | 2.825019 |\n",
       "| Astronomy              | 238 | 3.714076 | 3.782521 | 3.750966 | 3.178866 |\n",
       "| Design                 | 233 | 3.525880 | 3.624678 | 3.576695 | 2.887940 |\n",
       "| Foreign Language       | 209 | 3.914641 | 4.057751 | 3.991675 | 3.323158 |\n",
       "| Religious Studies      | 193 | 3.932746 | 3.985751 | 3.962280 | 3.365544 |\n",
       "| Electrical Engineering | 176 | 3.451534 | 3.513182 | 3.486591 | 2.830455 |\n",
       "| Child Development      | 171 | 3.950585 | 4.008070 | 3.979766 | 3.606082 |\n",
       "| ESL                    | 168 | 3.691190 | 3.682857 | 3.690655 | 3.002857 |\n",
       "| French                 | 162 | 3.775370 | 3.943086 | 3.860679 | 3.267099 |\n",
       "| Reading                | 148 | 4.159392 | 4.188919 | 4.177500 | 3.882635 |\n",
       "| Modern Languages       | 147 | 3.858503 | 3.971293 | 3.916259 | 3.275238 |\n",
       "| Agriculture            | 146 | 3.767466 | 3.863219 | 3.820068 | 3.402397 |\n",
       "| Kinesiology            | 132 | 3.995000 | 3.972879 | 3.988712 | 3.541439 |\n",
       "| Nutrition              | 120 | 3.815167 | 3.844333 | 3.831500 | 3.468333 |\n",
       "| Physical Sciences      | 120 | 3.627333 | 3.750917 | 3.688583 | 2.969417 |\n",
       "| Anatomy                | 117 | 3.932991 | 3.974701 | 3.954188 | 2.863504 |\n",
       "| Earth Science          | 110 | 3.636182 | 3.671364 | 3.655091 | 3.106727 |\n",
       "| Linguistics            | 110 | 3.749000 | 3.834545 | 3.798182 | 3.309636 |\n",
       "| Mechanical Engineering | 104 | 3.441923 | 3.531154 | 3.489327 | 2.799135 |\n",
       "| Medicine               | 102 | 3.927255 | 3.934216 | 3.929118 | 3.109118 |\n",
       "\n"
      ],
      "text/plain": [
       "    discipline             no_of_professors clarity  helpfulness\n",
       "1   English                23343            3.756147 3.821866   \n",
       "2   Mathematics            22394            3.487379 3.641526   \n",
       "3   Biology                11774            3.608331 3.701530   \n",
       "4   Psychology             11179            3.909520 3.887536   \n",
       "5   History                11145            3.788818 3.753642   \n",
       "6   Chemistry               7346            3.387174 3.538980   \n",
       "7   Communications          6940            3.867349 3.878602   \n",
       "8   Business                6120            3.640327 3.680503   \n",
       "9   Political Science       5824            3.759018 3.748676   \n",
       "10  Economics               5540            3.382735 3.483617   \n",
       "11  Philosophy              4973            3.632302 3.745327   \n",
       "12  Sociology               4839            3.740980 3.748169   \n",
       "13  Computer Science        4809            3.372618 3.468661   \n",
       "14  Accounting              3895            3.484249 3.572727   \n",
       "15  Languages               3867            3.772780 3.917949   \n",
       "16  Science                 3832            3.519402 3.611681   \n",
       "17  Physics                 2629            3.294321 3.464024   \n",
       "18  Anthropology            2598            3.693222 3.704761   \n",
       "19  Education               2544            3.707429 3.806128   \n",
       "20  Music                   2455            3.844509 3.787804   \n",
       "21  Fine Arts               1949            3.659497 3.697229   \n",
       "22  Health                  1937            3.891177 3.884729   \n",
       "23  Humanities              1897            3.806969 3.816299   \n",
       "24  Engineering             1864            3.356679 3.418385   \n",
       "25  Criminal Justice        1786            4.056685 4.033779   \n",
       "26  Geography               1694            3.638341 3.692072   \n",
       "27  Marketing               1458            3.618333 3.634108   \n",
       "28  Social Science          1412            3.683555 3.691133   \n",
       "29  Management              1397            3.604395 3.625125   \n",
       "30  Law                     1236            3.715194 3.728366   \n",
       "... ...                    ...              ...      ...        \n",
       "46  Film                   450              3.788933 3.764689   \n",
       "47  Women's Studies        393              3.639949 3.652087   \n",
       "48  Classics               390              3.963872 3.947333   \n",
       "49  Government             374              3.957540 3.916070   \n",
       "50  Speech                 351              4.133191 4.101197   \n",
       "51  Social Work            317              3.770726 3.834700   \n",
       "52  Statistics             317              3.526814 3.663407   \n",
       "53  Graphic Arts           297              3.561717 3.640774   \n",
       "54  International Studies  295              3.621356 3.666915   \n",
       "55  Hospitality            267              3.697228 3.744607   \n",
       "56  Architecture           263              3.376312 3.448555   \n",
       "57  Astronomy              238              3.714076 3.782521   \n",
       "58  Design                 233              3.525880 3.624678   \n",
       "59  Foreign Language       209              3.914641 4.057751   \n",
       "60  Religious Studies      193              3.932746 3.985751   \n",
       "61  Electrical Engineering 176              3.451534 3.513182   \n",
       "62  Child Development      171              3.950585 4.008070   \n",
       "63  ESL                    168              3.691190 3.682857   \n",
       "64  French                 162              3.775370 3.943086   \n",
       "65  Reading                148              4.159392 4.188919   \n",
       "66  Modern Languages       147              3.858503 3.971293   \n",
       "67  Agriculture            146              3.767466 3.863219   \n",
       "68  Kinesiology            132              3.995000 3.972879   \n",
       "69  Nutrition              120              3.815167 3.844333   \n",
       "70  Physical Sciences      120              3.627333 3.750917   \n",
       "71  Anatomy                117              3.932991 3.974701   \n",
       "72  Earth Science          110              3.636182 3.671364   \n",
       "73  Linguistics            110              3.749000 3.834545   \n",
       "74  Mechanical Engineering 104              3.441923 3.531154   \n",
       "75  Medicine               102              3.927255 3.934216   \n",
       "    overall_quality easiness\n",
       "1   3.791364        3.162754\n",
       "2   3.566867        3.063322\n",
       "3   3.657641        2.710459\n",
       "4   3.900949        3.316210\n",
       "5   3.773746        3.053803\n",
       "6   3.465485        2.652054\n",
       "7   3.875019        3.379829\n",
       "8   3.663332        3.172033\n",
       "9   3.756197        3.057758\n",
       "10  3.435038        2.910078\n",
       "11  3.690967        3.115357\n",
       "12  3.746962        3.395819\n",
       "13  3.422907        3.132724\n",
       "14  3.531315        2.784706\n",
       "15  3.846951        3.277406\n",
       "16  3.567557        2.854413\n",
       "17  3.382020        2.785668\n",
       "18  3.701674        3.248045\n",
       "19  3.758211        3.430916\n",
       "20  3.818114        3.542273\n",
       "21  3.679887        3.138076\n",
       "22  3.891213        3.468012\n",
       "23  3.813569        3.344138\n",
       "24  3.389147        2.885714\n",
       "25  4.046702        3.469440\n",
       "26  3.667279        3.244433\n",
       "27  3.628333        3.194300\n",
       "28  3.690262        3.338846\n",
       "29  3.618733        3.144567\n",
       "30  3.724466        2.868762\n",
       "... ...             ...     \n",
       "46  3.778689        3.324156\n",
       "47  3.646743        3.276412\n",
       "48  3.958692        3.180846\n",
       "49  3.938663        3.423021\n",
       "50  4.119345        3.674701\n",
       "51  3.806246        3.314322\n",
       "52  3.597066        3.199716\n",
       "53  3.603367        2.978182\n",
       "54  3.646983        2.977254\n",
       "55  3.719476        3.471498\n",
       "56  3.416996        2.825019\n",
       "57  3.750966        3.178866\n",
       "58  3.576695        2.887940\n",
       "59  3.991675        3.323158\n",
       "60  3.962280        3.365544\n",
       "61  3.486591        2.830455\n",
       "62  3.979766        3.606082\n",
       "63  3.690655        3.002857\n",
       "64  3.860679        3.267099\n",
       "65  4.177500        3.882635\n",
       "66  3.916259        3.275238\n",
       "67  3.820068        3.402397\n",
       "68  3.988712        3.541439\n",
       "69  3.831500        3.468333\n",
       "70  3.688583        2.969417\n",
       "71  3.954188        2.863504\n",
       "72  3.655091        3.106727\n",
       "73  3.798182        3.309636\n",
       "74  3.489327        2.799135\n",
       "75  3.929118        3.109118"
      ]
     },
     "metadata": {},
     "output_type": "display_data"
    }
   ],
   "source": [
    "# read in the data from a csv\n",
    "df = read.csv('rate_my_course.csv')\n",
    "\n",
    "# show the dataframe\n",
    "df"
   ]
  },
  {
   "cell_type": "markdown",
   "metadata": {},
   "source": [
    "Note, to use `read_csv()` the way it is used above (e.g. by passing it the name of the file we want to read in) the csv file must be in the same folder as the notebook. You can use the function `getcwd()` to print out the current working directory to show the path of the folder you need to place the csv file in."
   ]
  },
  {
   "cell_type": "code",
   "execution_count": 11,
   "metadata": {},
   "outputs": [
    {
     "data": {
      "text/html": [
       "'C:/Users/peter/r_statistics_code'"
      ],
      "text/latex": [
       "'C:/Users/peter/r\\_statistics\\_code'"
      ],
      "text/markdown": [
       "'C:/Users/peter/r_statistics_code'"
      ],
      "text/plain": [
       "[1] \"C:/Users/peter/r_statistics_code\""
      ]
     },
     "metadata": {},
     "output_type": "display_data"
    }
   ],
   "source": [
    "getwd()"
   ]
  },
  {
   "cell_type": "markdown",
   "metadata": {},
   "source": [
    "To get data out from a dataframe, in order to analyse it, we can use the following syntax (where `df` is whatever we have called the dataframe): `df[row, column]`.\n",
    "\n",
    "So if we want the data from the first column, third row we would use:"
   ]
  },
  {
   "cell_type": "code",
   "execution_count": 12,
   "metadata": {},
   "outputs": [
    {
     "data": {
      "text/html": [
       "3.756147025"
      ],
      "text/latex": [
       "3.756147025"
      ],
      "text/markdown": [
       "3.756147025"
      ],
      "text/plain": [
       "[1] 3.756147"
      ]
     },
     "metadata": {},
     "output_type": "display_data"
    }
   ],
   "source": [
    "# get the data from the 1st row, third column\n",
    "df[1, 3]"
   ]
  },
  {
   "cell_type": "markdown",
   "metadata": {},
   "source": [
    "Missing out the second number says 'give me all the columns'. So if we wanted the first row, all columns, we would use:"
   ]
  },
  {
   "cell_type": "code",
   "execution_count": 13,
   "metadata": {},
   "outputs": [
    {
     "data": {
      "text/html": [
       "<table>\n",
       "<caption>A data.frame: 1 × 6</caption>\n",
       "<thead>\n",
       "\t<tr><th></th><th scope=col>discipline</th><th scope=col>no_of_professors</th><th scope=col>clarity</th><th scope=col>helpfulness</th><th scope=col>overall_quality</th><th scope=col>easiness</th></tr>\n",
       "\t<tr><th></th><th scope=col>&lt;chr&gt;</th><th scope=col>&lt;int&gt;</th><th scope=col>&lt;dbl&gt;</th><th scope=col>&lt;dbl&gt;</th><th scope=col>&lt;dbl&gt;</th><th scope=col>&lt;dbl&gt;</th></tr>\n",
       "</thead>\n",
       "<tbody>\n",
       "\t<tr><th scope=row>1</th><td>English</td><td>23343</td><td>3.756147</td><td>3.821866</td><td>3.791364</td><td>3.162754</td></tr>\n",
       "</tbody>\n",
       "</table>\n"
      ],
      "text/latex": [
       "A data.frame: 1 × 6\n",
       "\\begin{tabular}{r|llllll}\n",
       "  & discipline & no\\_of\\_professors & clarity & helpfulness & overall\\_quality & easiness\\\\\n",
       "  & <chr> & <int> & <dbl> & <dbl> & <dbl> & <dbl>\\\\\n",
       "\\hline\n",
       "\t1 & English & 23343 & 3.756147 & 3.821866 & 3.791364 & 3.162754\\\\\n",
       "\\end{tabular}\n"
      ],
      "text/markdown": [
       "\n",
       "A data.frame: 1 × 6\n",
       "\n",
       "| <!--/--> | discipline &lt;chr&gt; | no_of_professors &lt;int&gt; | clarity &lt;dbl&gt; | helpfulness &lt;dbl&gt; | overall_quality &lt;dbl&gt; | easiness &lt;dbl&gt; |\n",
       "|---|---|---|---|---|---|---|\n",
       "| 1 | English | 23343 | 3.756147 | 3.821866 | 3.791364 | 3.162754 |\n",
       "\n"
      ],
      "text/plain": [
       "  discipline no_of_professors clarity  helpfulness overall_quality easiness\n",
       "1 English    23343            3.756147 3.821866    3.791364        3.162754"
      ]
     },
     "metadata": {},
     "output_type": "display_data"
    }
   ],
   "source": [
    "# show the first row, all columns\n",
    "df[1, ]"
   ]
  },
  {
   "cell_type": "markdown",
   "metadata": {},
   "source": [
    "We can use a colon `:` to ask R to retrieve rows between certain values. For instance, if we wanted the first 10 rows, all columns, we can use:"
   ]
  },
  {
   "cell_type": "code",
   "execution_count": 14,
   "metadata": {},
   "outputs": [
    {
     "data": {
      "text/html": [
       "<table>\n",
       "<caption>A data.frame: 10 × 6</caption>\n",
       "<thead>\n",
       "\t<tr><th></th><th scope=col>discipline</th><th scope=col>no_of_professors</th><th scope=col>clarity</th><th scope=col>helpfulness</th><th scope=col>overall_quality</th><th scope=col>easiness</th></tr>\n",
       "\t<tr><th></th><th scope=col>&lt;chr&gt;</th><th scope=col>&lt;int&gt;</th><th scope=col>&lt;dbl&gt;</th><th scope=col>&lt;dbl&gt;</th><th scope=col>&lt;dbl&gt;</th><th scope=col>&lt;dbl&gt;</th></tr>\n",
       "</thead>\n",
       "<tbody>\n",
       "\t<tr><th scope=row>1</th><td>English          </td><td>23343</td><td>3.756147</td><td>3.821866</td><td>3.791364</td><td>3.162754</td></tr>\n",
       "\t<tr><th scope=row>2</th><td>Mathematics      </td><td>22394</td><td>3.487379</td><td>3.641526</td><td>3.566867</td><td>3.063322</td></tr>\n",
       "\t<tr><th scope=row>3</th><td>Biology          </td><td>11774</td><td>3.608331</td><td>3.701530</td><td>3.657641</td><td>2.710459</td></tr>\n",
       "\t<tr><th scope=row>4</th><td>Psychology       </td><td>11179</td><td>3.909520</td><td>3.887536</td><td>3.900949</td><td>3.316210</td></tr>\n",
       "\t<tr><th scope=row>5</th><td>History          </td><td>11145</td><td>3.788818</td><td>3.753642</td><td>3.773746</td><td>3.053803</td></tr>\n",
       "\t<tr><th scope=row>6</th><td>Chemistry        </td><td> 7346</td><td>3.387174</td><td>3.538980</td><td>3.465485</td><td>2.652054</td></tr>\n",
       "\t<tr><th scope=row>7</th><td>Communications   </td><td> 6940</td><td>3.867349</td><td>3.878602</td><td>3.875019</td><td>3.379829</td></tr>\n",
       "\t<tr><th scope=row>8</th><td>Business         </td><td> 6120</td><td>3.640327</td><td>3.680503</td><td>3.663332</td><td>3.172033</td></tr>\n",
       "\t<tr><th scope=row>9</th><td>Political Science</td><td> 5824</td><td>3.759018</td><td>3.748676</td><td>3.756197</td><td>3.057758</td></tr>\n",
       "\t<tr><th scope=row>10</th><td>Economics        </td><td> 5540</td><td>3.382735</td><td>3.483617</td><td>3.435038</td><td>2.910078</td></tr>\n",
       "</tbody>\n",
       "</table>\n"
      ],
      "text/latex": [
       "A data.frame: 10 × 6\n",
       "\\begin{tabular}{r|llllll}\n",
       "  & discipline & no\\_of\\_professors & clarity & helpfulness & overall\\_quality & easiness\\\\\n",
       "  & <chr> & <int> & <dbl> & <dbl> & <dbl> & <dbl>\\\\\n",
       "\\hline\n",
       "\t1 & English           & 23343 & 3.756147 & 3.821866 & 3.791364 & 3.162754\\\\\n",
       "\t2 & Mathematics       & 22394 & 3.487379 & 3.641526 & 3.566867 & 3.063322\\\\\n",
       "\t3 & Biology           & 11774 & 3.608331 & 3.701530 & 3.657641 & 2.710459\\\\\n",
       "\t4 & Psychology        & 11179 & 3.909520 & 3.887536 & 3.900949 & 3.316210\\\\\n",
       "\t5 & History           & 11145 & 3.788818 & 3.753642 & 3.773746 & 3.053803\\\\\n",
       "\t6 & Chemistry         &  7346 & 3.387174 & 3.538980 & 3.465485 & 2.652054\\\\\n",
       "\t7 & Communications    &  6940 & 3.867349 & 3.878602 & 3.875019 & 3.379829\\\\\n",
       "\t8 & Business          &  6120 & 3.640327 & 3.680503 & 3.663332 & 3.172033\\\\\n",
       "\t9 & Political Science &  5824 & 3.759018 & 3.748676 & 3.756197 & 3.057758\\\\\n",
       "\t10 & Economics         &  5540 & 3.382735 & 3.483617 & 3.435038 & 2.910078\\\\\n",
       "\\end{tabular}\n"
      ],
      "text/markdown": [
       "\n",
       "A data.frame: 10 × 6\n",
       "\n",
       "| <!--/--> | discipline &lt;chr&gt; | no_of_professors &lt;int&gt; | clarity &lt;dbl&gt; | helpfulness &lt;dbl&gt; | overall_quality &lt;dbl&gt; | easiness &lt;dbl&gt; |\n",
       "|---|---|---|---|---|---|---|\n",
       "| 1 | English           | 23343 | 3.756147 | 3.821866 | 3.791364 | 3.162754 |\n",
       "| 2 | Mathematics       | 22394 | 3.487379 | 3.641526 | 3.566867 | 3.063322 |\n",
       "| 3 | Biology           | 11774 | 3.608331 | 3.701530 | 3.657641 | 2.710459 |\n",
       "| 4 | Psychology        | 11179 | 3.909520 | 3.887536 | 3.900949 | 3.316210 |\n",
       "| 5 | History           | 11145 | 3.788818 | 3.753642 | 3.773746 | 3.053803 |\n",
       "| 6 | Chemistry         |  7346 | 3.387174 | 3.538980 | 3.465485 | 2.652054 |\n",
       "| 7 | Communications    |  6940 | 3.867349 | 3.878602 | 3.875019 | 3.379829 |\n",
       "| 8 | Business          |  6120 | 3.640327 | 3.680503 | 3.663332 | 3.172033 |\n",
       "| 9 | Political Science |  5824 | 3.759018 | 3.748676 | 3.756197 | 3.057758 |\n",
       "| 10 | Economics         |  5540 | 3.382735 | 3.483617 | 3.435038 | 2.910078 |\n",
       "\n"
      ],
      "text/plain": [
       "   discipline        no_of_professors clarity  helpfulness overall_quality\n",
       "1  English           23343            3.756147 3.821866    3.791364       \n",
       "2  Mathematics       22394            3.487379 3.641526    3.566867       \n",
       "3  Biology           11774            3.608331 3.701530    3.657641       \n",
       "4  Psychology        11179            3.909520 3.887536    3.900949       \n",
       "5  History           11145            3.788818 3.753642    3.773746       \n",
       "6  Chemistry          7346            3.387174 3.538980    3.465485       \n",
       "7  Communications     6940            3.867349 3.878602    3.875019       \n",
       "8  Business           6120            3.640327 3.680503    3.663332       \n",
       "9  Political Science  5824            3.759018 3.748676    3.756197       \n",
       "10 Economics          5540            3.382735 3.483617    3.435038       \n",
       "   easiness\n",
       "1  3.162754\n",
       "2  3.063322\n",
       "3  2.710459\n",
       "4  3.316210\n",
       "5  3.053803\n",
       "6  2.652054\n",
       "7  3.379829\n",
       "8  3.172033\n",
       "9  3.057758\n",
       "10 2.910078"
      ]
     },
     "metadata": {},
     "output_type": "display_data"
    }
   ],
   "source": [
    "# show the first 10 rows, all columns\n",
    "df[1:10,]"
   ]
  },
  {
   "cell_type": "markdown",
   "metadata": {},
   "source": [
    "This method of getting data out of a dataframe is called *integer indexing* as we use integer values to tell R which rows and columns we want. We can also use the names of columns to tell R which data we want, which we will turn to now."
   ]
  },
  {
   "cell_type": "markdown",
   "metadata": {},
   "source": [
    "## Subsetting & plotting data\n",
    "To fit a linear regression model, we will need to extract entire columns from the dataframe, some columns to use as predictors, others to use as the outcome variable. We use the symbol `$` to do this.\n",
    "\n",
    "We place the `$` symbol af the name of the dataframe, followed by the name of the column. So, in the present contet, if we want the `easiness` column we would use:"
   ]
  },
  {
   "cell_type": "code",
   "execution_count": 15,
   "metadata": {
    "scrolled": false
   },
   "outputs": [
    {
     "data": {
      "text/html": [
       "<style>\n",
       ".list-inline {list-style: none; margin:0; padding: 0}\n",
       ".list-inline>li {display: inline-block}\n",
       ".list-inline>li:not(:last-child)::after {content: \"\\00b7\"; padding: 0 .5ex}\n",
       "</style>\n",
       "<ol class=list-inline><li>3.162754145</li><li>3.063322318</li><li>2.710459487</li><li>3.316209858</li><li>3.053802602</li><li>2.652054179</li><li>3.37982853</li><li>3.17203268</li><li>3.057757555</li><li>2.910077617</li><li>3.115356927</li><li>3.395819384</li><li>3.132724059</li><li>2.784706033</li><li>3.277406258</li><li>2.854412839</li><li>2.785667554</li><li>3.24804465</li><li>3.430915881</li><li>3.542272912</li><li>3.138075936</li><li>3.46801239</li><li>3.344138113</li><li>2.885713519</li><li>3.46944009</li><li>3.244433294</li><li>3.194300412</li><li>3.338845609</li><li>3.144566929</li><li>2.868762136</li><li>3.106577737</li><li>3.584508349</li><li>3.242423113</li><li>2.693512476</li><li>3.086937984</li><li>3.217886341</li><li>3.832250252</li><li>3.125377875</li><li>3.202725031</li><li>3.068774929</li><li>2.676068643</li><li>3.109658703</li><li>3.349743151</li><li>3.268292683</li><li>3.387629938</li><li>3.324155556</li><li>3.276412214</li><li>3.180846154</li><li>3.42302139</li><li>3.674700855</li><li>3.314321767</li><li>3.199716088</li><li>2.978181818</li><li>2.977254237</li><li>3.471498127</li><li>2.825019011</li><li>3.178865546</li><li>2.887939914</li><li>3.323157895</li><li>3.365544041</li><li>2.830454545</li><li>3.606081871</li><li>3.002857143</li><li>3.267098765</li><li>3.882635135</li><li>3.275238095</li><li>3.40239726</li><li>3.541439394</li><li>3.468333333</li><li>2.969416667</li><li>2.863504274</li><li>3.106727273</li><li>3.309636364</li><li>2.799134615</li><li>3.109117647</li></ol>\n"
      ],
      "text/latex": [
       "\\begin{enumerate*}\n",
       "\\item 3.162754145\n",
       "\\item 3.063322318\n",
       "\\item 2.710459487\n",
       "\\item 3.316209858\n",
       "\\item 3.053802602\n",
       "\\item 2.652054179\n",
       "\\item 3.37982853\n",
       "\\item 3.17203268\n",
       "\\item 3.057757555\n",
       "\\item 2.910077617\n",
       "\\item 3.115356927\n",
       "\\item 3.395819384\n",
       "\\item 3.132724059\n",
       "\\item 2.784706033\n",
       "\\item 3.277406258\n",
       "\\item 2.854412839\n",
       "\\item 2.785667554\n",
       "\\item 3.24804465\n",
       "\\item 3.430915881\n",
       "\\item 3.542272912\n",
       "\\item 3.138075936\n",
       "\\item 3.46801239\n",
       "\\item 3.344138113\n",
       "\\item 2.885713519\n",
       "\\item 3.46944009\n",
       "\\item 3.244433294\n",
       "\\item 3.194300412\n",
       "\\item 3.338845609\n",
       "\\item 3.144566929\n",
       "\\item 2.868762136\n",
       "\\item 3.106577737\n",
       "\\item 3.584508349\n",
       "\\item 3.242423113\n",
       "\\item 2.693512476\n",
       "\\item 3.086937984\n",
       "\\item 3.217886341\n",
       "\\item 3.832250252\n",
       "\\item 3.125377875\n",
       "\\item 3.202725031\n",
       "\\item 3.068774929\n",
       "\\item 2.676068643\n",
       "\\item 3.109658703\n",
       "\\item 3.349743151\n",
       "\\item 3.268292683\n",
       "\\item 3.387629938\n",
       "\\item 3.324155556\n",
       "\\item 3.276412214\n",
       "\\item 3.180846154\n",
       "\\item 3.42302139\n",
       "\\item 3.674700855\n",
       "\\item 3.314321767\n",
       "\\item 3.199716088\n",
       "\\item 2.978181818\n",
       "\\item 2.977254237\n",
       "\\item 3.471498127\n",
       "\\item 2.825019011\n",
       "\\item 3.178865546\n",
       "\\item 2.887939914\n",
       "\\item 3.323157895\n",
       "\\item 3.365544041\n",
       "\\item 2.830454545\n",
       "\\item 3.606081871\n",
       "\\item 3.002857143\n",
       "\\item 3.267098765\n",
       "\\item 3.882635135\n",
       "\\item 3.275238095\n",
       "\\item 3.40239726\n",
       "\\item 3.541439394\n",
       "\\item 3.468333333\n",
       "\\item 2.969416667\n",
       "\\item 2.863504274\n",
       "\\item 3.106727273\n",
       "\\item 3.309636364\n",
       "\\item 2.799134615\n",
       "\\item 3.109117647\n",
       "\\end{enumerate*}\n"
      ],
      "text/markdown": [
       "1. 3.162754145\n",
       "2. 3.063322318\n",
       "3. 2.710459487\n",
       "4. 3.316209858\n",
       "5. 3.053802602\n",
       "6. 2.652054179\n",
       "7. 3.37982853\n",
       "8. 3.17203268\n",
       "9. 3.057757555\n",
       "10. 2.910077617\n",
       "11. 3.115356927\n",
       "12. 3.395819384\n",
       "13. 3.132724059\n",
       "14. 2.784706033\n",
       "15. 3.277406258\n",
       "16. 2.854412839\n",
       "17. 2.785667554\n",
       "18. 3.24804465\n",
       "19. 3.430915881\n",
       "20. 3.542272912\n",
       "21. 3.138075936\n",
       "22. 3.46801239\n",
       "23. 3.344138113\n",
       "24. 2.885713519\n",
       "25. 3.46944009\n",
       "26. 3.244433294\n",
       "27. 3.194300412\n",
       "28. 3.338845609\n",
       "29. 3.144566929\n",
       "30. 2.868762136\n",
       "31. 3.106577737\n",
       "32. 3.584508349\n",
       "33. 3.242423113\n",
       "34. 2.693512476\n",
       "35. 3.086937984\n",
       "36. 3.217886341\n",
       "37. 3.832250252\n",
       "38. 3.125377875\n",
       "39. 3.202725031\n",
       "40. 3.068774929\n",
       "41. 2.676068643\n",
       "42. 3.109658703\n",
       "43. 3.349743151\n",
       "44. 3.268292683\n",
       "45. 3.387629938\n",
       "46. 3.324155556\n",
       "47. 3.276412214\n",
       "48. 3.180846154\n",
       "49. 3.42302139\n",
       "50. 3.674700855\n",
       "51. 3.314321767\n",
       "52. 3.199716088\n",
       "53. 2.978181818\n",
       "54. 2.977254237\n",
       "55. 3.471498127\n",
       "56. 2.825019011\n",
       "57. 3.178865546\n",
       "58. 2.887939914\n",
       "59. 3.323157895\n",
       "60. 3.365544041\n",
       "61. 2.830454545\n",
       "62. 3.606081871\n",
       "63. 3.002857143\n",
       "64. 3.267098765\n",
       "65. 3.882635135\n",
       "66. 3.275238095\n",
       "67. 3.40239726\n",
       "68. 3.541439394\n",
       "69. 3.468333333\n",
       "70. 2.969416667\n",
       "71. 2.863504274\n",
       "72. 3.106727273\n",
       "73. 3.309636364\n",
       "74. 2.799134615\n",
       "75. 3.109117647\n",
       "\n",
       "\n"
      ],
      "text/plain": [
       " [1] 3.162754 3.063322 2.710459 3.316210 3.053803 2.652054 3.379829 3.172033\n",
       " [9] 3.057758 2.910078 3.115357 3.395819 3.132724 2.784706 3.277406 2.854413\n",
       "[17] 2.785668 3.248045 3.430916 3.542273 3.138076 3.468012 3.344138 2.885714\n",
       "[25] 3.469440 3.244433 3.194300 3.338846 3.144567 2.868762 3.106578 3.584508\n",
       "[33] 3.242423 2.693512 3.086938 3.217886 3.832250 3.125378 3.202725 3.068775\n",
       "[41] 2.676069 3.109659 3.349743 3.268293 3.387630 3.324156 3.276412 3.180846\n",
       "[49] 3.423021 3.674701 3.314322 3.199716 2.978182 2.977254 3.471498 2.825019\n",
       "[57] 3.178866 2.887940 3.323158 3.365544 2.830455 3.606082 3.002857 3.267099\n",
       "[65] 3.882635 3.275238 3.402397 3.541439 3.468333 2.969417 2.863504 3.106727\n",
       "[73] 3.309636 2.799135 3.109118"
      ]
     },
     "metadata": {},
     "output_type": "display_data"
    }
   ],
   "source": [
    "# get one column from the dataframe, in this case the `easiness` column\n",
    "df$easiness"
   ]
  },
  {
   "cell_type": "markdown",
   "metadata": {},
   "source": [
    "If we just type `df$` and press the tab key, with the mouse cursor placed immediately after the `$`, R will helpfully show us all the columns which are availbe to retrieve:\n",
    "\n",
    "![](df_cols.png)"
   ]
  },
  {
   "cell_type": "markdown",
   "metadata": {},
   "source": [
    "Using column names to retrieve data is called *label-based indexing*.\n",
    "\n",
    "Once we've got the data out of the dataframe, R makes it easy to produce really high quality plots.\n",
    "\n",
    "For example, we can pass a column of the dataframe to the `hist()` function to get a histogram:"
   ]
  },
  {
   "cell_type": "code",
   "execution_count": 16,
   "metadata": {},
   "outputs": [
    {
     "data": {
      "image/png": "[encoded data removed]",
      "text/plain": [
       "Plot with title \"Histogram of df$easiness\""
      ]
     },
     "metadata": {
      "image/png": {
       "height": 420,
       "width": 420
      }
     },
     "output_type": "display_data"
    }
   ],
   "source": [
    "# plot a histograme of the `easiness` column\n",
    "hist(df$easiness)"
   ]
  },
  {
   "cell_type": "markdown",
   "metadata": {},
   "source": [
    "We can pass extra arguments to the `hist()` function, alongside the `df$easiness` column, in order to add nicer looking axis titles.\n",
    "\n",
    "The `xlab =` argument sets the x axis label, and the `main =` argument sets the plot title:"
   ]
  },
  {
   "cell_type": "code",
   "execution_count": 17,
   "metadata": {},
   "outputs": [
    {
     "data": {
      "image/png": "[encoded data removed]",
      "text/plain": [
       "Plot with title \"Histogram of Easiness Ratings\""
      ]
     },
     "metadata": {
      "image/png": {
       "height": 420,
       "width": 420
      }
     },
     "output_type": "display_data"
    }
   ],
   "source": [
    "# plot a histograme of the `easiness` column, with better axis labels\n",
    "hist(df$easiness, xlab = 'Easiness', main = 'Histogram of Easiness Ratings')"
   ]
  },
  {
   "cell_type": "markdown",
   "metadata": {},
   "source": [
    "We can use the `plot()` function to create a scatterplot, to do this we pass the function two columns from the dataframe. The data from the first column will be plotted on the x axis, the data from the second column will be plotted on the y axis:"
   ]
  },
  {
   "cell_type": "code",
   "execution_count": 18,
   "metadata": {},
   "outputs": [
    {
     "data": {
      "image/png": "[encoded data removed]",
      "text/plain": [
       "plot without title"
      ]
     },
     "metadata": {
      "image/png": {
       "height": 420,
       "width": 420
      }
     },
     "output_type": "display_data"
    }
   ],
   "source": [
    "# create a scatterplot of `easiness` against `overall_quality`\n",
    "plot(df$easiness, df$overall_quality)"
   ]
  },
  {
   "cell_type": "markdown",
   "metadata": {},
   "source": [
    "We can use the `xlab = ` and `ylab = ` arguments to add nicer axis labels:"
   ]
  },
  {
   "cell_type": "code",
   "execution_count": 19,
   "metadata": {},
   "outputs": [
    {
     "data": {
      "image/png": "[encoded data removed]",
      "text/plain": [
       "plot without title"
      ]
     },
     "metadata": {
      "image/png": {
       "height": 420,
       "width": 420
      }
     },
     "output_type": "display_data"
    }
   ],
   "source": [
    "# create a scatterplot of `easiness` against `overall_quality`, with better labels\n",
    "plot(df$easiness, df$overall_quality, xlab = 'Easiness', ylab = 'Overall Quality')"
   ]
  },
  {
   "cell_type": "markdown",
   "metadata": {},
   "source": [
    "What about if we want only a subset of the columns in a dataframe, but would like to view them in their own dataframe, rather than as separate columns?\n",
    "\n",
    "For instance, if we wanted to get the `easiness` ratings and the `overall_quality` ratings in a dataframe of their own? First, we'd need to use the `c()` function (`c` stand for 'combine'). \n",
    "\n",
    "We pass the names of the columns (each within quotation marks) to the `c()` function. We then use this as the column index, as in the cell below:"
   ]
  },
  {
   "cell_type": "code",
   "execution_count": 20,
   "metadata": {},
   "outputs": [
    {
     "data": {
      "text/html": [
       "<table>\n",
       "<caption>A data.frame: 75 × 2</caption>\n",
       "<thead>\n",
       "\t<tr><th scope=col>easiness</th><th scope=col>overall_quality</th></tr>\n",
       "\t<tr><th scope=col>&lt;dbl&gt;</th><th scope=col>&lt;dbl&gt;</th></tr>\n",
       "</thead>\n",
       "<tbody>\n",
       "\t<tr><td>3.162754</td><td>3.791364</td></tr>\n",
       "\t<tr><td>3.063322</td><td>3.566867</td></tr>\n",
       "\t<tr><td>2.710459</td><td>3.657641</td></tr>\n",
       "\t<tr><td>3.316210</td><td>3.900949</td></tr>\n",
       "\t<tr><td>3.053803</td><td>3.773746</td></tr>\n",
       "\t<tr><td>2.652054</td><td>3.465485</td></tr>\n",
       "\t<tr><td>3.379829</td><td>3.875019</td></tr>\n",
       "\t<tr><td>3.172033</td><td>3.663332</td></tr>\n",
       "\t<tr><td>3.057758</td><td>3.756197</td></tr>\n",
       "\t<tr><td>2.910078</td><td>3.435038</td></tr>\n",
       "\t<tr><td>3.115357</td><td>3.690967</td></tr>\n",
       "\t<tr><td>3.395819</td><td>3.746962</td></tr>\n",
       "\t<tr><td>3.132724</td><td>3.422907</td></tr>\n",
       "\t<tr><td>2.784706</td><td>3.531315</td></tr>\n",
       "\t<tr><td>3.277406</td><td>3.846951</td></tr>\n",
       "\t<tr><td>2.854413</td><td>3.567557</td></tr>\n",
       "\t<tr><td>2.785668</td><td>3.382020</td></tr>\n",
       "\t<tr><td>3.248045</td><td>3.701674</td></tr>\n",
       "\t<tr><td>3.430916</td><td>3.758211</td></tr>\n",
       "\t<tr><td>3.542273</td><td>3.818114</td></tr>\n",
       "\t<tr><td>3.138076</td><td>3.679887</td></tr>\n",
       "\t<tr><td>3.468012</td><td>3.891213</td></tr>\n",
       "\t<tr><td>3.344138</td><td>3.813569</td></tr>\n",
       "\t<tr><td>2.885714</td><td>3.389147</td></tr>\n",
       "\t<tr><td>3.469440</td><td>4.046702</td></tr>\n",
       "\t<tr><td>3.244433</td><td>3.667279</td></tr>\n",
       "\t<tr><td>3.194300</td><td>3.628333</td></tr>\n",
       "\t<tr><td>3.338846</td><td>3.690262</td></tr>\n",
       "\t<tr><td>3.144567</td><td>3.618733</td></tr>\n",
       "\t<tr><td>2.868762</td><td>3.724466</td></tr>\n",
       "\t<tr><td>...</td><td>...</td></tr>\n",
       "\t<tr><td>3.324156</td><td>3.778689</td></tr>\n",
       "\t<tr><td>3.276412</td><td>3.646743</td></tr>\n",
       "\t<tr><td>3.180846</td><td>3.958692</td></tr>\n",
       "\t<tr><td>3.423021</td><td>3.938663</td></tr>\n",
       "\t<tr><td>3.674701</td><td>4.119345</td></tr>\n",
       "\t<tr><td>3.314322</td><td>3.806246</td></tr>\n",
       "\t<tr><td>3.199716</td><td>3.597066</td></tr>\n",
       "\t<tr><td>2.978182</td><td>3.603367</td></tr>\n",
       "\t<tr><td>2.977254</td><td>3.646983</td></tr>\n",
       "\t<tr><td>3.471498</td><td>3.719476</td></tr>\n",
       "\t<tr><td>2.825019</td><td>3.416996</td></tr>\n",
       "\t<tr><td>3.178866</td><td>3.750966</td></tr>\n",
       "\t<tr><td>2.887940</td><td>3.576695</td></tr>\n",
       "\t<tr><td>3.323158</td><td>3.991675</td></tr>\n",
       "\t<tr><td>3.365544</td><td>3.962280</td></tr>\n",
       "\t<tr><td>2.830455</td><td>3.486591</td></tr>\n",
       "\t<tr><td>3.606082</td><td>3.979766</td></tr>\n",
       "\t<tr><td>3.002857</td><td>3.690655</td></tr>\n",
       "\t<tr><td>3.267099</td><td>3.860679</td></tr>\n",
       "\t<tr><td>3.882635</td><td>4.177500</td></tr>\n",
       "\t<tr><td>3.275238</td><td>3.916259</td></tr>\n",
       "\t<tr><td>3.402397</td><td>3.820068</td></tr>\n",
       "\t<tr><td>3.541439</td><td>3.988712</td></tr>\n",
       "\t<tr><td>3.468333</td><td>3.831500</td></tr>\n",
       "\t<tr><td>2.969417</td><td>3.688583</td></tr>\n",
       "\t<tr><td>2.863504</td><td>3.954188</td></tr>\n",
       "\t<tr><td>3.106727</td><td>3.655091</td></tr>\n",
       "\t<tr><td>3.309636</td><td>3.798182</td></tr>\n",
       "\t<tr><td>2.799135</td><td>3.489327</td></tr>\n",
       "\t<tr><td>3.109118</td><td>3.929118</td></tr>\n",
       "</tbody>\n",
       "</table>\n"
      ],
      "text/latex": [
       "A data.frame: 75 × 2\n",
       "\\begin{tabular}{ll}\n",
       " easiness & overall\\_quality\\\\\n",
       " <dbl> & <dbl>\\\\\n",
       "\\hline\n",
       "\t 3.162754 & 3.791364\\\\\n",
       "\t 3.063322 & 3.566867\\\\\n",
       "\t 2.710459 & 3.657641\\\\\n",
       "\t 3.316210 & 3.900949\\\\\n",
       "\t 3.053803 & 3.773746\\\\\n",
       "\t 2.652054 & 3.465485\\\\\n",
       "\t 3.379829 & 3.875019\\\\\n",
       "\t 3.172033 & 3.663332\\\\\n",
       "\t 3.057758 & 3.756197\\\\\n",
       "\t 2.910078 & 3.435038\\\\\n",
       "\t 3.115357 & 3.690967\\\\\n",
       "\t 3.395819 & 3.746962\\\\\n",
       "\t 3.132724 & 3.422907\\\\\n",
       "\t 2.784706 & 3.531315\\\\\n",
       "\t 3.277406 & 3.846951\\\\\n",
       "\t 2.854413 & 3.567557\\\\\n",
       "\t 2.785668 & 3.382020\\\\\n",
       "\t 3.248045 & 3.701674\\\\\n",
       "\t 3.430916 & 3.758211\\\\\n",
       "\t 3.542273 & 3.818114\\\\\n",
       "\t 3.138076 & 3.679887\\\\\n",
       "\t 3.468012 & 3.891213\\\\\n",
       "\t 3.344138 & 3.813569\\\\\n",
       "\t 2.885714 & 3.389147\\\\\n",
       "\t 3.469440 & 4.046702\\\\\n",
       "\t 3.244433 & 3.667279\\\\\n",
       "\t 3.194300 & 3.628333\\\\\n",
       "\t 3.338846 & 3.690262\\\\\n",
       "\t 3.144567 & 3.618733\\\\\n",
       "\t 2.868762 & 3.724466\\\\\n",
       "\t ... & ...\\\\\n",
       "\t 3.324156 & 3.778689\\\\\n",
       "\t 3.276412 & 3.646743\\\\\n",
       "\t 3.180846 & 3.958692\\\\\n",
       "\t 3.423021 & 3.938663\\\\\n",
       "\t 3.674701 & 4.119345\\\\\n",
       "\t 3.314322 & 3.806246\\\\\n",
       "\t 3.199716 & 3.597066\\\\\n",
       "\t 2.978182 & 3.603367\\\\\n",
       "\t 2.977254 & 3.646983\\\\\n",
       "\t 3.471498 & 3.719476\\\\\n",
       "\t 2.825019 & 3.416996\\\\\n",
       "\t 3.178866 & 3.750966\\\\\n",
       "\t 2.887940 & 3.576695\\\\\n",
       "\t 3.323158 & 3.991675\\\\\n",
       "\t 3.365544 & 3.962280\\\\\n",
       "\t 2.830455 & 3.486591\\\\\n",
       "\t 3.606082 & 3.979766\\\\\n",
       "\t 3.002857 & 3.690655\\\\\n",
       "\t 3.267099 & 3.860679\\\\\n",
       "\t 3.882635 & 4.177500\\\\\n",
       "\t 3.275238 & 3.916259\\\\\n",
       "\t 3.402397 & 3.820068\\\\\n",
       "\t 3.541439 & 3.988712\\\\\n",
       "\t 3.468333 & 3.831500\\\\\n",
       "\t 2.969417 & 3.688583\\\\\n",
       "\t 2.863504 & 3.954188\\\\\n",
       "\t 3.106727 & 3.655091\\\\\n",
       "\t 3.309636 & 3.798182\\\\\n",
       "\t 2.799135 & 3.489327\\\\\n",
       "\t 3.109118 & 3.929118\\\\\n",
       "\\end{tabular}\n"
      ],
      "text/markdown": [
       "\n",
       "A data.frame: 75 × 2\n",
       "\n",
       "| easiness &lt;dbl&gt; | overall_quality &lt;dbl&gt; |\n",
       "|---|---|\n",
       "| 3.162754 | 3.791364 |\n",
       "| 3.063322 | 3.566867 |\n",
       "| 2.710459 | 3.657641 |\n",
       "| 3.316210 | 3.900949 |\n",
       "| 3.053803 | 3.773746 |\n",
       "| 2.652054 | 3.465485 |\n",
       "| 3.379829 | 3.875019 |\n",
       "| 3.172033 | 3.663332 |\n",
       "| 3.057758 | 3.756197 |\n",
       "| 2.910078 | 3.435038 |\n",
       "| 3.115357 | 3.690967 |\n",
       "| 3.395819 | 3.746962 |\n",
       "| 3.132724 | 3.422907 |\n",
       "| 2.784706 | 3.531315 |\n",
       "| 3.277406 | 3.846951 |\n",
       "| 2.854413 | 3.567557 |\n",
       "| 2.785668 | 3.382020 |\n",
       "| 3.248045 | 3.701674 |\n",
       "| 3.430916 | 3.758211 |\n",
       "| 3.542273 | 3.818114 |\n",
       "| 3.138076 | 3.679887 |\n",
       "| 3.468012 | 3.891213 |\n",
       "| 3.344138 | 3.813569 |\n",
       "| 2.885714 | 3.389147 |\n",
       "| 3.469440 | 4.046702 |\n",
       "| 3.244433 | 3.667279 |\n",
       "| 3.194300 | 3.628333 |\n",
       "| 3.338846 | 3.690262 |\n",
       "| 3.144567 | 3.618733 |\n",
       "| 2.868762 | 3.724466 |\n",
       "| ... | ... |\n",
       "| 3.324156 | 3.778689 |\n",
       "| 3.276412 | 3.646743 |\n",
       "| 3.180846 | 3.958692 |\n",
       "| 3.423021 | 3.938663 |\n",
       "| 3.674701 | 4.119345 |\n",
       "| 3.314322 | 3.806246 |\n",
       "| 3.199716 | 3.597066 |\n",
       "| 2.978182 | 3.603367 |\n",
       "| 2.977254 | 3.646983 |\n",
       "| 3.471498 | 3.719476 |\n",
       "| 2.825019 | 3.416996 |\n",
       "| 3.178866 | 3.750966 |\n",
       "| 2.887940 | 3.576695 |\n",
       "| 3.323158 | 3.991675 |\n",
       "| 3.365544 | 3.962280 |\n",
       "| 2.830455 | 3.486591 |\n",
       "| 3.606082 | 3.979766 |\n",
       "| 3.002857 | 3.690655 |\n",
       "| 3.267099 | 3.860679 |\n",
       "| 3.882635 | 4.177500 |\n",
       "| 3.275238 | 3.916259 |\n",
       "| 3.402397 | 3.820068 |\n",
       "| 3.541439 | 3.988712 |\n",
       "| 3.468333 | 3.831500 |\n",
       "| 2.969417 | 3.688583 |\n",
       "| 2.863504 | 3.954188 |\n",
       "| 3.106727 | 3.655091 |\n",
       "| 3.309636 | 3.798182 |\n",
       "| 2.799135 | 3.489327 |\n",
       "| 3.109118 | 3.929118 |\n",
       "\n"
      ],
      "text/plain": [
       "    easiness overall_quality\n",
       "1   3.162754 3.791364       \n",
       "2   3.063322 3.566867       \n",
       "3   2.710459 3.657641       \n",
       "4   3.316210 3.900949       \n",
       "5   3.053803 3.773746       \n",
       "6   2.652054 3.465485       \n",
       "7   3.379829 3.875019       \n",
       "8   3.172033 3.663332       \n",
       "9   3.057758 3.756197       \n",
       "10  2.910078 3.435038       \n",
       "11  3.115357 3.690967       \n",
       "12  3.395819 3.746962       \n",
       "13  3.132724 3.422907       \n",
       "14  2.784706 3.531315       \n",
       "15  3.277406 3.846951       \n",
       "16  2.854413 3.567557       \n",
       "17  2.785668 3.382020       \n",
       "18  3.248045 3.701674       \n",
       "19  3.430916 3.758211       \n",
       "20  3.542273 3.818114       \n",
       "21  3.138076 3.679887       \n",
       "22  3.468012 3.891213       \n",
       "23  3.344138 3.813569       \n",
       "24  2.885714 3.389147       \n",
       "25  3.469440 4.046702       \n",
       "26  3.244433 3.667279       \n",
       "27  3.194300 3.628333       \n",
       "28  3.338846 3.690262       \n",
       "29  3.144567 3.618733       \n",
       "30  2.868762 3.724466       \n",
       "... ...      ...            \n",
       "46  3.324156 3.778689       \n",
       "47  3.276412 3.646743       \n",
       "48  3.180846 3.958692       \n",
       "49  3.423021 3.938663       \n",
       "50  3.674701 4.119345       \n",
       "51  3.314322 3.806246       \n",
       "52  3.199716 3.597066       \n",
       "53  2.978182 3.603367       \n",
       "54  2.977254 3.646983       \n",
       "55  3.471498 3.719476       \n",
       "56  2.825019 3.416996       \n",
       "57  3.178866 3.750966       \n",
       "58  2.887940 3.576695       \n",
       "59  3.323158 3.991675       \n",
       "60  3.365544 3.962280       \n",
       "61  2.830455 3.486591       \n",
       "62  3.606082 3.979766       \n",
       "63  3.002857 3.690655       \n",
       "64  3.267099 3.860679       \n",
       "65  3.882635 4.177500       \n",
       "66  3.275238 3.916259       \n",
       "67  3.402397 3.820068       \n",
       "68  3.541439 3.988712       \n",
       "69  3.468333 3.831500       \n",
       "70  2.969417 3.688583       \n",
       "71  2.863504 3.954188       \n",
       "72  3.106727 3.655091       \n",
       "73  3.309636 3.798182       \n",
       "74  2.799135 3.489327       \n",
       "75  3.109118 3.929118       "
      ]
     },
     "metadata": {},
     "output_type": "display_data"
    }
   ],
   "source": [
    "# get all the rows, from just the `easiness` and `overall_quality` columns\n",
    "df[ , c('easiness', 'overall_quality')]"
   ]
  },
  {
   "cell_type": "markdown",
   "metadata": {},
   "source": [
    "We can use a colon in the same manner as before, to ask R things like 'give me only the first 10 rows':"
   ]
  },
  {
   "cell_type": "code",
   "execution_count": 21,
   "metadata": {},
   "outputs": [
    {
     "data": {
      "text/html": [
       "<table>\n",
       "<caption>A data.frame: 10 × 2</caption>\n",
       "<thead>\n",
       "\t<tr><th></th><th scope=col>easiness</th><th scope=col>overall_quality</th></tr>\n",
       "\t<tr><th></th><th scope=col>&lt;dbl&gt;</th><th scope=col>&lt;dbl&gt;</th></tr>\n",
       "</thead>\n",
       "<tbody>\n",
       "\t<tr><th scope=row>1</th><td>3.162754</td><td>3.791364</td></tr>\n",
       "\t<tr><th scope=row>2</th><td>3.063322</td><td>3.566867</td></tr>\n",
       "\t<tr><th scope=row>3</th><td>2.710459</td><td>3.657641</td></tr>\n",
       "\t<tr><th scope=row>4</th><td>3.316210</td><td>3.900949</td></tr>\n",
       "\t<tr><th scope=row>5</th><td>3.053803</td><td>3.773746</td></tr>\n",
       "\t<tr><th scope=row>6</th><td>2.652054</td><td>3.465485</td></tr>\n",
       "\t<tr><th scope=row>7</th><td>3.379829</td><td>3.875019</td></tr>\n",
       "\t<tr><th scope=row>8</th><td>3.172033</td><td>3.663332</td></tr>\n",
       "\t<tr><th scope=row>9</th><td>3.057758</td><td>3.756197</td></tr>\n",
       "\t<tr><th scope=row>10</th><td>2.910078</td><td>3.435038</td></tr>\n",
       "</tbody>\n",
       "</table>\n"
      ],
      "text/latex": [
       "A data.frame: 10 × 2\n",
       "\\begin{tabular}{r|ll}\n",
       "  & easiness & overall\\_quality\\\\\n",
       "  & <dbl> & <dbl>\\\\\n",
       "\\hline\n",
       "\t1 & 3.162754 & 3.791364\\\\\n",
       "\t2 & 3.063322 & 3.566867\\\\\n",
       "\t3 & 2.710459 & 3.657641\\\\\n",
       "\t4 & 3.316210 & 3.900949\\\\\n",
       "\t5 & 3.053803 & 3.773746\\\\\n",
       "\t6 & 2.652054 & 3.465485\\\\\n",
       "\t7 & 3.379829 & 3.875019\\\\\n",
       "\t8 & 3.172033 & 3.663332\\\\\n",
       "\t9 & 3.057758 & 3.756197\\\\\n",
       "\t10 & 2.910078 & 3.435038\\\\\n",
       "\\end{tabular}\n"
      ],
      "text/markdown": [
       "\n",
       "A data.frame: 10 × 2\n",
       "\n",
       "| <!--/--> | easiness &lt;dbl&gt; | overall_quality &lt;dbl&gt; |\n",
       "|---|---|---|\n",
       "| 1 | 3.162754 | 3.791364 |\n",
       "| 2 | 3.063322 | 3.566867 |\n",
       "| 3 | 2.710459 | 3.657641 |\n",
       "| 4 | 3.316210 | 3.900949 |\n",
       "| 5 | 3.053803 | 3.773746 |\n",
       "| 6 | 2.652054 | 3.465485 |\n",
       "| 7 | 3.379829 | 3.875019 |\n",
       "| 8 | 3.172033 | 3.663332 |\n",
       "| 9 | 3.057758 | 3.756197 |\n",
       "| 10 | 2.910078 | 3.435038 |\n",
       "\n"
      ],
      "text/plain": [
       "   easiness overall_quality\n",
       "1  3.162754 3.791364       \n",
       "2  3.063322 3.566867       \n",
       "3  2.710459 3.657641       \n",
       "4  3.316210 3.900949       \n",
       "5  3.053803 3.773746       \n",
       "6  2.652054 3.465485       \n",
       "7  3.379829 3.875019       \n",
       "8  3.172033 3.663332       \n",
       "9  3.057758 3.756197       \n",
       "10 2.910078 3.435038       "
      ]
     },
     "metadata": {},
     "output_type": "display_data"
    }
   ],
   "source": [
    "# get the first ten rows, from just the `easiness` and `overall_quality` columns\n",
    "df[1:10, c('easiness', 'overall_quality')]"
   ]
  },
  {
   "cell_type": "markdown",
   "metadata": {},
   "source": [
    "## Conditional subsetting\n",
    "\n",
    "Often, we might want to get data out of a dataframe according to some condition.\n",
    "\n",
    "To do this we can use the `subset()` function. The first argument we give it should be the dataframe we want to get data from, in this case our dataframe is caled `df`.\n",
    "\n",
    "Then, after a comma, we can give it a set of conditions. For instance, the statement in the cell below reads 'get me the subset of rows from the dataframe `df` where `easiness` is greater than 3.5 and `overall_quality` is greater than 4':"
   ]
  },
  {
   "cell_type": "code",
   "execution_count": 22,
   "metadata": {},
   "outputs": [
    {
     "data": {
      "text/html": [
       "<table>\n",
       "<caption>A data.frame: 3 × 6</caption>\n",
       "<thead>\n",
       "\t<tr><th></th><th scope=col>discipline</th><th scope=col>no_of_professors</th><th scope=col>clarity</th><th scope=col>helpfulness</th><th scope=col>overall_quality</th><th scope=col>easiness</th></tr>\n",
       "\t<tr><th></th><th scope=col>&lt;chr&gt;</th><th scope=col>&lt;int&gt;</th><th scope=col>&lt;dbl&gt;</th><th scope=col>&lt;dbl&gt;</th><th scope=col>&lt;dbl&gt;</th><th scope=col>&lt;dbl&gt;</th></tr>\n",
       "</thead>\n",
       "<tbody>\n",
       "\t<tr><th scope=row>37</th><td>Physical Education</td><td>991</td><td>4.078698</td><td>4.030797</td><td>4.057719</td><td>3.832250</td></tr>\n",
       "\t<tr><th scope=row>50</th><td>Speech            </td><td>351</td><td>4.133191</td><td>4.101197</td><td>4.119345</td><td>3.674701</td></tr>\n",
       "\t<tr><th scope=row>65</th><td>Reading           </td><td>148</td><td>4.159392</td><td>4.188919</td><td>4.177500</td><td>3.882635</td></tr>\n",
       "</tbody>\n",
       "</table>\n"
      ],
      "text/latex": [
       "A data.frame: 3 × 6\n",
       "\\begin{tabular}{r|llllll}\n",
       "  & discipline & no\\_of\\_professors & clarity & helpfulness & overall\\_quality & easiness\\\\\n",
       "  & <chr> & <int> & <dbl> & <dbl> & <dbl> & <dbl>\\\\\n",
       "\\hline\n",
       "\t37 & Physical Education & 991 & 4.078698 & 4.030797 & 4.057719 & 3.832250\\\\\n",
       "\t50 & Speech             & 351 & 4.133191 & 4.101197 & 4.119345 & 3.674701\\\\\n",
       "\t65 & Reading            & 148 & 4.159392 & 4.188919 & 4.177500 & 3.882635\\\\\n",
       "\\end{tabular}\n"
      ],
      "text/markdown": [
       "\n",
       "A data.frame: 3 × 6\n",
       "\n",
       "| <!--/--> | discipline &lt;chr&gt; | no_of_professors &lt;int&gt; | clarity &lt;dbl&gt; | helpfulness &lt;dbl&gt; | overall_quality &lt;dbl&gt; | easiness &lt;dbl&gt; |\n",
       "|---|---|---|---|---|---|---|\n",
       "| 37 | Physical Education | 991 | 4.078698 | 4.030797 | 4.057719 | 3.832250 |\n",
       "| 50 | Speech             | 351 | 4.133191 | 4.101197 | 4.119345 | 3.674701 |\n",
       "| 65 | Reading            | 148 | 4.159392 | 4.188919 | 4.177500 | 3.882635 |\n",
       "\n"
      ],
      "text/plain": [
       "   discipline         no_of_professors clarity  helpfulness overall_quality\n",
       "37 Physical Education 991              4.078698 4.030797    4.057719       \n",
       "50 Speech             351              4.133191 4.101197    4.119345       \n",
       "65 Reading            148              4.159392 4.188919    4.177500       \n",
       "   easiness\n",
       "37 3.832250\n",
       "50 3.674701\n",
       "65 3.882635"
      ]
     },
     "metadata": {},
     "output_type": "display_data"
    }
   ],
   "source": [
    "subset(df, easiness > 3.5 & overall_quality > 4)"
   ]
  },
  {
   "cell_type": "markdown",
   "metadata": {},
   "source": [
    "## Linear regression with one predictor\n",
    "\n",
    "We have the tools we need to fit a simple linear regression model to the RateMyProfessors data.\n",
    "\n",
    "Fitting models easy with R. In fact, to fit a linear regression model to this data, all we need is the `lm()` function (`lm` standing for 'linear model').\n",
    "\n",
    "If you are using an interactive version of this notebook, run the cell below to see the documentation for the `lm()` function (an image of the documentation is also shown below the cell, in case you are not using an interactive version of this notebook):"
   ]
  },
  {
   "cell_type": "code",
   "execution_count": 23,
   "metadata": {},
   "outputs": [],
   "source": [
    "# run this cell to see the documentation for the `lm()` function\n",
    "?lm"
   ]
  },
  {
   "cell_type": "markdown",
   "metadata": {},
   "source": [
    "![](lm_documentation.png)"
   ]
  },
  {
   "cell_type": "markdown",
   "metadata": {},
   "source": [
    "To fit the linear regression model, we need only one line of code.\n",
    "\n",
    "First, we type the formula of the model in the form of:\n",
    "\n",
    "`outcome ~ predictor` (where the `~` means 'is a function of, and `outcome` and `predictor` are the names of of the dataframe which we want in the model).\n",
    "\n",
    "We then type a comman, and follow this with the argument `data = df` (where `df` is the name of our dataframe). So the code `lm(overall_quality ~ helpfulness, data = df)` reads: 'from the `df` dataframe, predict `overall_quality` from `helpfulness`, using a linear regression model:\n",
    "\n",
    "*Note*: the `mod =` part of the code stores the fitted linear regression model as a variable called `mod`, so that we can pass it to other functions (e.g. plotting functions):"
   ]
  },
  {
   "cell_type": "code",
   "execution_count": 24,
   "metadata": {},
   "outputs": [
    {
     "data": {
      "text/plain": [
       "\n",
       "Call:\n",
       "lm(formula = overall_quality ~ helpfulness, data = df)\n",
       "\n",
       "Coefficients:\n",
       "(Intercept)  helpfulness  \n",
       "    -0.1834       1.0429  \n"
      ]
     },
     "metadata": {},
     "output_type": "display_data"
    }
   ],
   "source": [
    "# fit the linear regression model, store the results of the model in a variable called `mod`\n",
    "mod = lm(overall_quality ~ helpfulness, data = df)\n",
    "\n",
    "# show the model results\n",
    "mod"
   ]
  },
  {
   "cell_type": "markdown",
   "metadata": {},
   "source": [
    "We can get a better summary table, with $F$ statistics, $p$-values and $r^2$ statistics etc, buy passing the linear model to the `summary()` function:"
   ]
  },
  {
   "cell_type": "code",
   "execution_count": 25,
   "metadata": {},
   "outputs": [
    {
     "data": {
      "text/plain": [
       "\n",
       "Call:\n",
       "lm(formula = overall_quality ~ helpfulness, data = df)\n",
       "\n",
       "Residuals:\n",
       "      Min        1Q    Median        3Q       Max \n",
       "-0.068065 -0.016090  0.001998  0.021534  0.065519 \n",
       "\n",
       "Coefficients:\n",
       "            Estimate Std. Error t value Pr(>|t|)    \n",
       "(Intercept) -0.18336    0.07367  -2.489   0.0151 *  \n",
       "helpfulness  1.04286    0.01958  53.254   <2e-16 ***\n",
       "---\n",
       "Signif. codes:  0 '***' 0.001 '**' 0.01 '*' 0.05 '.' 0.1 ' ' 1\n",
       "\n",
       "Residual standard error: 0.02876 on 73 degrees of freedom\n",
       "Multiple R-squared:  0.9749,\tAdjusted R-squared:  0.9746 \n",
       "F-statistic:  2836 on 1 and 73 DF,  p-value: < 2.2e-16\n"
      ]
     },
     "metadata": {},
     "output_type": "display_data"
    }
   ],
   "source": [
    "summary(mod)"
   ]
  },
  {
   "cell_type": "markdown",
   "metadata": {},
   "source": [
    "R very streamlined for statistical analysis, the very simple command below generates some useful diagnostic plots, to graphically checking model fit, assumption checking etc.. We pass the model to the `plot()` function and we get:"
   ]
  },
  {
   "cell_type": "code",
   "execution_count": 26,
   "metadata": {},
   "outputs": [
    {
     "data": {
      "image/png": "[encoded data removed]",
      "text/plain": [
       "Plot with title \"\""
      ]
     },
     "metadata": {
      "image/png": {
       "height": 420,
       "width": 420
      }
     },
     "output_type": "display_data"
    },
    {
     "data": {
      "image/png": "[encoded data removed]",
      "text/plain": [
       "Plot with title \"\""
      ]
     },
     "metadata": {
      "image/png": {
       "height": 420,
       "width": 420
      }
     },
     "output_type": "display_data"
    },
    {
     "data": {
      "image/png": "[encoded data removed]",
      "text/plain": [
       "Plot with title \"\""
      ]
     },
     "metadata": {
      "image/png": {
       "height": 420,
       "width": 420
      }
     },
     "output_type": "display_data"
    },
    {
     "data": {
      "image/png": "[encoded data removed]",
      "text/plain": [
       "Plot with title \"\""
      ]
     },
     "metadata": {
      "image/png": {
       "height": 420,
       "width": 420
      }
     },
     "output_type": "display_data"
    }
   ],
   "source": [
    "# generate several useful diagnositc plots from the linear regression\n",
    "plot(mod)"
   ]
  },
  {
   "cell_type": "markdown",
   "metadata": {},
   "source": [
    "## Linear regression diagnostics\n",
    "\n",
    "In addition to the diagnostic plots just shown, R contains a large number of functions for model diagnostics.\n",
    "\n",
    "Some of the main assumptions of linear regression can be summarized with the acronym:\n",
    "\n",
    "<b>L</b>inearity\n",
    "\n",
    "<b>I</b>ndependence of Observations\n",
    "\n",
    "<b>N</b>ormality (of Residuals)\n",
    "\n",
    "<b>E</b>quality (of Variance)\n",
    "\n",
    "Here are some of the ways we can check these assumptions for our model, using very few lines of code (you can see that for many of them, we pass the `mod` variable to some other function. I will not go into details about this code, but read the comments which will explain what each line is doing:"
   ]
  },
  {
   "cell_type": "code",
   "execution_count": 27,
   "metadata": {},
   "outputs": [
    {
     "data": {
      "text/html": [
       "0.974905251477535"
      ],
      "text/latex": [
       "0.974905251477535"
      ],
      "text/markdown": [
       "0.974905251477535"
      ],
      "text/plain": [
       "[1] 0.9749053"
      ]
     },
     "metadata": {},
     "output_type": "display_data"
    }
   ],
   "source": [
    "# checking linearity with the R**2 statistic (does a linear model fit well?)\n",
    "summary(mod)$r.squared"
   ]
  },
  {
   "cell_type": "code",
   "execution_count": 28,
   "metadata": {},
   "outputs": [
    {
     "data": {
      "image/png": "[encoded data removed]",
      "text/plain": [
       "Plot with title \"Normal Q-Q Plot\""
      ]
     },
     "metadata": {
      "image/png": {
       "height": 420,
       "width": 420
      }
     },
     "output_type": "display_data"
    }
   ],
   "source": [
    "# checking linearity with a quantile plot of the studentized residuals (Note: the `studentres()` function was imported at\n",
    "# the start of the notebook, using the library() function, from the `MASS` library)\n",
    "qqnorm(studres(mod))\n",
    "qqline(studres(mod))"
   ]
  },
  {
   "cell_type": "code",
   "execution_count": 29,
   "metadata": {},
   "outputs": [
    {
     "data": {
      "image/png": "[encoded data removed]",
      "text/plain": [
       "plot without title"
      ]
     },
     "metadata": {
      "image/png": {
       "height": 420,
       "width": 420
      }
     },
     "output_type": "display_data"
    }
   ],
   "source": [
    "# checking for linearity with a residual plot\n",
    "crPlots(mod)"
   ]
  },
  {
   "cell_type": "code",
   "execution_count": 30,
   "metadata": {},
   "outputs": [
    {
     "name": "stdout",
     "output_type": "stream",
     "text": [
      " lag Autocorrelation D-W Statistic p-value\n",
      "   1      0.06450216      1.867472    0.55\n",
      " Alternative hypothesis: rho != 0\n",
      "[1] \"H0 is maintained: The residuals are independent.\"\n"
     ]
    }
   ],
   "source": [
    "# checking for independence of errors with the Durbin-Watson test\n",
    "\n",
    "# perform the Durbin Watson test, on the linear regression model\n",
    "durbin_wat_test = durbinWatsonTest(mod)\n",
    "\n",
    "# show the test results\n",
    "print(durbin_wat_test)\n",
    "\n",
    "# a conditional statement that prints out when the test was significant, and the assumption violated\n",
    "if(durbin_wat_test$p <= 0.05){print('H0 is rejected: The residuals are autocorrelated!')\n",
    "                               }else{print('H0 is maintained: The residuals are independent.')}"
   ]
  },
  {
   "cell_type": "code",
   "execution_count": 31,
   "metadata": {},
   "outputs": [
    {
     "name": "stdout",
     "output_type": "stream",
     "text": [
      "\n",
      "\tShapiro-Wilk normality test\n",
      "\n",
      "data:  studres(mod)\n",
      "W = 0.98245, p-value = 0.3856\n",
      "\n",
      "[1] \"H0 is maintained: The residuals are normally distributed.\"\n"
     ]
    }
   ],
   "source": [
    "# checking for normality of residuals with the shapiro-wilk test\n",
    "\n",
    "# perform the shapiro-wilk test on the studentized residuals\n",
    "shap_test = shapiro.test(studres(mod))\n",
    "\n",
    "# print the test results\n",
    "print(shap_test)\n",
    "\n",
    "# a conditional statement that prints out when the test was significant, and the assumption violated\n",
    "if(shap_test$p.value <= 0.05){print('H0 is rejected: The residuals are not normally distributed!')\n",
    "                               }else{print('H0 is maintained: The residuals are normally distributed.')}"
   ]
  },
  {
   "cell_type": "code",
   "execution_count": 32,
   "metadata": {},
   "outputs": [
    {
     "name": "stdout",
     "output_type": "stream",
     "text": [
      "Non-constant Variance Score Test \n",
      "Variance formula: ~ fitted.values \n",
      "Chisquare = 3.343589, Df = 1, p = 0.067467\n",
      "[1] \"H0 is maintained: The outcome data are homoscedastic around the least squares line.\"\n"
     ]
    }
   ],
   "source": [
    "# checking for homoscedasticity, with the test of nonconstant variance\n",
    "homosc_test = ncvTest(mod)\n",
    "\n",
    "# print the test results\n",
    "print(homosc_test)\n",
    "\n",
    "# a conditional statement that prints out when the test was significant, and the assumption violated\n",
    "if(homosc_test$p <= 0.05){print('H0 is rejected: The outcome data are not homoscedastic around the least squares line!')\n",
    "                               }else{print('H0 is maintained: The outcome data are homoscedastic around the least squares line.')}"
   ]
  },
  {
   "cell_type": "markdown",
   "metadata": {},
   "source": [
    "## Multiple Linear Regression\n",
    "\n",
    "Fitting a multiple regression model is a simple extension of the process we have just seen.\n",
    "\n",
    "There is also a very crisp looking `scatterplot3D()` function for visualizing the relationship between multiple variables, which can use for graphical inspection, prior to fitting a multi-predictor linear regression model. We just tell the function which dataframe columns we want for the x, y and z axis:\n",
    "\n",
    "*Note*: the `scatterplot3d()` function is not built in to R, it was imported using the library() function at the start of the notebook."
   ]
  },
  {
   "cell_type": "code",
   "execution_count": 33,
   "metadata": {},
   "outputs": [
    {
     "data": {
      "image/png": "[encoded data removed]",
      "text/plain": [
       "plot without title"
      ]
     },
     "metadata": {
      "image/png": {
       "height": 420,
       "width": 420
      }
     },
     "output_type": "display_data"
    }
   ],
   "source": [
    "# create a 3D scatterplot \n",
    "scatterplot3d(x= df$easiness, z= df$overall_quality, y= df$helpfulness)"
   ]
  },
  {
   "cell_type": "markdown",
   "metadata": {},
   "source": [
    "As before, its very easy to specify extra arguments to add nicer axis labels:"
   ]
  },
  {
   "cell_type": "code",
   "execution_count": 34,
   "metadata": {},
   "outputs": [
    {
     "data": {
      "image/png": "[encoded data removed]",
      "text/plain": [
       "plot without title"
      ]
     },
     "metadata": {
      "image/png": {
       "height": 420,
       "width": 420
      }
     },
     "output_type": "display_data"
    }
   ],
   "source": [
    "# create a 3D scatterplot\n",
    "scatterplot3d(x= df$easiness, z= df$overall_quality, y= df$helpfulness, xlab = 'Easiness', ylab = 'Helpfulness',\n",
    "             zlab = 'Overall Quality')"
   ]
  },
  {
   "cell_type": "markdown",
   "metadata": {},
   "source": [
    "Now, we will fit the multiple regression model. We will predict `overall_quality` from `helpfulness` and `easiness`. To do this, we simply add the new predictor into the formula we used earlier:\n",
    "\n",
    "So the code `lm(overall_quality ~  helpfulness + easiness, data = df )` reads 'using data from the `df` dataframe, predict `overall_quality` as a function of `helpfulness` and `easiness`, using linear regression model'. We will store this model as a variable called `mod_2`:"
   ]
  },
  {
   "cell_type": "code",
   "execution_count": 35,
   "metadata": {},
   "outputs": [
    {
     "data": {
      "text/plain": [
       "\n",
       "Call:\n",
       "lm(formula = overall_quality ~ helpfulness + easiness, data = df)\n",
       "\n",
       "Coefficients:\n",
       "(Intercept)  helpfulness     easiness  \n",
       "    -0.1311       0.9842       0.0528  \n"
      ]
     },
     "metadata": {},
     "output_type": "display_data"
    }
   ],
   "source": [
    "# fit the multiple linear regression model\n",
    "mod_2 = lm(overall_quality ~  helpfulness + easiness, data = df )\n",
    "\n",
    "# show the model\n",
    "mod_2"
   ]
  },
  {
   "cell_type": "markdown",
   "metadata": {},
   "source": [
    "Once again, its easy to get a more informative summary by passing our model variable to the `summary()` function:"
   ]
  },
  {
   "cell_type": "code",
   "execution_count": 36,
   "metadata": {},
   "outputs": [
    {
     "data": {
      "text/plain": [
       "\n",
       "Call:\n",
       "lm(formula = overall_quality ~ helpfulness + easiness, data = df)\n",
       "\n",
       "Residuals:\n",
       "      Min        1Q    Median        3Q       Max \n",
       "-0.061516 -0.018656  0.002578  0.018646  0.062033 \n",
       "\n",
       "Coefficients:\n",
       "            Estimate Std. Error t value Pr(>|t|)    \n",
       "(Intercept) -0.13113    0.07179  -1.826   0.0719 .  \n",
       "helpfulness  0.98421    0.02662  36.977   <2e-16 ***\n",
       "easiness     0.05280    0.01719   3.071   0.0030 ** \n",
       "---\n",
       "Signif. codes:  0 '***' 0.001 '**' 0.01 '*' 0.05 '.' 0.1 ' ' 1\n",
       "\n",
       "Residual standard error: 0.02723 on 72 degrees of freedom\n",
       "Multiple R-squared:  0.9778,\tAdjusted R-squared:  0.9772 \n",
       "F-statistic:  1587 on 2 and 72 DF,  p-value: < 2.2e-16\n"
      ]
     },
     "metadata": {},
     "output_type": "display_data"
    }
   ],
   "source": [
    "# show a more detailed model summary\n",
    "summary(mod_2)"
   ]
  },
  {
   "cell_type": "markdown",
   "metadata": {},
   "source": [
    "We can then check the assumptions of the model in exactly the same way as for the simple linear regression above:"
   ]
  },
  {
   "cell_type": "code",
   "execution_count": 37,
   "metadata": {},
   "outputs": [
    {
     "data": {
      "image/png": "[encoded data removed]",
      "text/plain": [
       "Plot with title \"Normal Q-Q Plot\""
      ]
     },
     "metadata": {
      "image/png": {
       "height": 420,
       "width": 420
      }
     },
     "output_type": "display_data"
    }
   ],
   "source": [
    "# checking linearity with a Q-Q plot of the studentized residuals\n",
    "qqnorm(studres(mod_2))\n",
    "qqline(studres(mod_2))"
   ]
  },
  {
   "cell_type": "code",
   "execution_count": 38,
   "metadata": {},
   "outputs": [
    {
     "data": {
      "image/png": "[encoded data removed]",
      "text/plain": [
       "plot without title"
      ]
     },
     "metadata": {
      "image/png": {
       "height": 420,
       "width": 420
      }
     },
     "output_type": "display_data"
    }
   ],
   "source": [
    "# checking for linearity (this function was imported with `car` library at the start of the notebook, \n",
    "# using the library() function)\n",
    "crPlots(mod_2)"
   ]
  },
  {
   "cell_type": "code",
   "execution_count": 39,
   "metadata": {},
   "outputs": [
    {
     "name": "stdout",
     "output_type": "stream",
     "text": [
      " lag Autocorrelation D-W Statistic p-value\n",
      "   1     0.001641052      1.985258    0.92\n",
      " Alternative hypothesis: rho != 0\n",
      "[1] \"H0 is maintained: The residuals are independent.\"\n"
     ]
    }
   ],
   "source": [
    "# checking for nonindependence of errors with the Durbin Watson test\n",
    "\n",
    "# perform the test\n",
    "durbin_wat_test = durbinWatsonTest(mod_2)\n",
    "\n",
    "# show the test result\n",
    "print(durbin_wat_test)\n",
    "\n",
    "# a conditional statement that prints out when the test was significant, and the assumption violated\n",
    "if(durbin_wat_test$p <= 0.05){print('H0 is rejected: The residuals are autocorrelated!')\n",
    "                               }else{print('H0 is maintained: The residuals are independent.')}"
   ]
  },
  {
   "cell_type": "code",
   "execution_count": 40,
   "metadata": {},
   "outputs": [
    {
     "name": "stdout",
     "output_type": "stream",
     "text": [
      "\n",
      "\tShapiro-Wilk normality test\n",
      "\n",
      "data:  studres(mod_2)\n",
      "W = 0.98973, p-value = 0.8104\n",
      "\n",
      "[1] \"H0 is maintained: The residuals are normally distributed.\"\n"
     ]
    }
   ],
   "source": [
    "# checking for normality of residuals\n",
    "shap_test = shapiro.test(studres(mod_2))\n",
    "print(shap_test)\n",
    "\n",
    "# a conditional statement that prints out when the test was significant, and the assumption violated\n",
    "if(shap_test$p.value <= 0.05){print('H0 is rejected: The residuals are not normally distributed!')\n",
    "                               }else{print('H0 is maintained: The residuals are normally distributed.')}"
   ]
  },
  {
   "cell_type": "code",
   "execution_count": 41,
   "metadata": {},
   "outputs": [
    {
     "name": "stdout",
     "output_type": "stream",
     "text": [
      "Non-constant Variance Score Test \n",
      "Variance formula: ~ fitted.values \n",
      "Chisquare = 3.343589, Df = 1, p = 0.067467\n",
      "[1] \"H0 is maintained: The outcome data are homoscedastic around the least squares line.\"\n"
     ]
    }
   ],
   "source": [
    "# checking for homoscedasticity, with the test of nonconstant variance\n",
    "\n",
    "# perform the test\n",
    "homosc_test = ncvTest(mod)\n",
    "\n",
    "# print the test result\n",
    "print(homosc_test)\n",
    "\n",
    "# a conditional statement that prints out when the test was significant, and the assumption violated\n",
    "if(homosc_test$p <= 0.05){print('H0 is rejected: The outcome data are not homoscedastic around the least squares line!')\n",
    "                               }else{print('H0 is maintained: The outcome data are homoscedastic around the least squares line.')}"
   ]
  },
  {
   "cell_type": "markdown",
   "metadata": {},
   "source": [
    "### Interaction terms\n",
    "\n",
    "It's also very easy to add an interaction term to the model, we just add it to the formula, as we did with the extra predictor. In the present case, we can test for an interaction between `helpfulness` and `easiness` by adding the term `+ helpfulness * easiness` to the model formula:"
   ]
  },
  {
   "cell_type": "code",
   "execution_count": 42,
   "metadata": {},
   "outputs": [
    {
     "data": {
      "text/plain": [
       "\n",
       "Call:\n",
       "lm(formula = overall_quality ~ helpfulness + easiness + helpfulness * \n",
       "    easiness, data = df)\n",
       "\n",
       "Coefficients:\n",
       "         (Intercept)           helpfulness              easiness  \n",
       "            -0.56170               1.09843               0.18815  \n",
       "helpfulness:easiness  \n",
       "            -0.03581  \n"
      ]
     },
     "metadata": {},
     "output_type": "display_data"
    }
   ],
   "source": [
    "# fit the multiple linear regression model, with an interaction term\n",
    "mod_3 = lm(overall_quality ~  helpfulness + easiness + helpfulness * easiness, data = df )\n",
    "\n",
    "# show the model\n",
    "mod_3"
   ]
  },
  {
   "cell_type": "code",
   "execution_count": 43,
   "metadata": {},
   "outputs": [
    {
     "data": {
      "text/plain": [
       "\n",
       "Call:\n",
       "lm(formula = overall_quality ~ helpfulness + easiness + helpfulness * \n",
       "    easiness, data = df)\n",
       "\n",
       "Residuals:\n",
       "      Min        1Q    Median        3Q       Max \n",
       "-0.062211 -0.017445  0.002775  0.017802  0.060833 \n",
       "\n",
       "Coefficients:\n",
       "                     Estimate Std. Error t value Pr(>|t|)    \n",
       "(Intercept)          -0.56170    0.69811  -0.805    0.424    \n",
       "helpfulness           1.09843    0.18612   5.902 1.12e-07 ***\n",
       "easiness              0.18815    0.21895   0.859    0.393    \n",
       "helpfulness:easiness -0.03581    0.05775  -0.620    0.537    \n",
       "---\n",
       "Signif. codes:  0 '***' 0.001 '**' 0.01 '*' 0.05 '.' 0.1 ' ' 1\n",
       "\n",
       "Residual standard error: 0.02735 on 71 degrees of freedom\n",
       "Multiple R-squared:  0.9779,\tAdjusted R-squared:  0.977 \n",
       "F-statistic:  1049 on 3 and 71 DF,  p-value: < 2.2e-16\n"
      ]
     },
     "metadata": {},
     "output_type": "display_data"
    }
   ],
   "source": [
    "summary(mod_3)"
   ]
  },
  {
   "cell_type": "markdown",
   "metadata": {},
   "source": [
    "## Summary\n",
    "\n",
    "This very brief tutorial has shown how to:\n",
    "\n",
    "* import data to R from a csv file and store it in a dataframe\n",
    "* retrieve rows of the dataframe, either by intger indexing or label-based indexing\n",
    "* generate histograms, scatterplots and various diagnostic plots\n",
    "* fit linear regression models\n",
    "* run various assumption-checking tests on linear regression models\n",
    "\n",
    "I hope it is apparent that, were it not for the text cells in this notebook, all of the above can be achieved with relatively few lines of code. The numerous benefits of R include that it is free, new functionality is consistently added by the R community, enabling new types of analysis. And writing analyses in R means that the exact analysis performed (including how the data was cleaned and processed prior to model fitting) can easily be read and checked by others. "
   ]
  }
 ],
 "metadata": {
  "kernelspec": {
   "display_name": "R",
   "language": "R",
   "name": "ir"
  },
  "language_info": {
   "codemirror_mode": "r",
   "file_extension": ".r",
   "mimetype": "text/x-r-source",
   "name": "R",
   "pygments_lexer": "r",
   "version": "4.0.3"
  }
 },
 "nbformat": 4,
 "nbformat_minor": 4
}
