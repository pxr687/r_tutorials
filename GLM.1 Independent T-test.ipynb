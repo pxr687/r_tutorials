{
 "cells": [
  {
   "cell_type": "markdown",
   "id": "ef78532a",
   "metadata": {},
   "source": [
    "## Independent T-test with R\n",
    "\n",
    "\n",
    "## Reading and organizing your data\n",
    "\n",
    "https://www.kaggle.com/code/kappernielsen/independent-t-test-example/data"
   ]
  },
  {
   "cell_type": "code",
   "execution_count": 11,
   "id": "1b3033ac",
   "metadata": {},
   "outputs": [
    {
     "data": {
      "text/html": [
       "<table>\n",
       "<caption>A data.frame: 6 × 33</caption>\n",
       "<thead>\n",
       "\t<tr><th></th><th scope=col>school</th><th scope=col>sex</th><th scope=col>age</th><th scope=col>address</th><th scope=col>famsize</th><th scope=col>Pstatus</th><th scope=col>Medu</th><th scope=col>Fedu</th><th scope=col>Mjob</th><th scope=col>Fjob</th><th scope=col>...</th><th scope=col>famrel</th><th scope=col>freetime</th><th scope=col>goout</th><th scope=col>Dalc</th><th scope=col>Walc</th><th scope=col>health</th><th scope=col>absences</th><th scope=col>G1</th><th scope=col>G2</th><th scope=col>G3</th></tr>\n",
       "\t<tr><th></th><th scope=col>&lt;chr&gt;</th><th scope=col>&lt;chr&gt;</th><th scope=col>&lt;int&gt;</th><th scope=col>&lt;chr&gt;</th><th scope=col>&lt;chr&gt;</th><th scope=col>&lt;chr&gt;</th><th scope=col>&lt;int&gt;</th><th scope=col>&lt;int&gt;</th><th scope=col>&lt;chr&gt;</th><th scope=col>&lt;chr&gt;</th><th scope=col>...</th><th scope=col>&lt;int&gt;</th><th scope=col>&lt;int&gt;</th><th scope=col>&lt;int&gt;</th><th scope=col>&lt;int&gt;</th><th scope=col>&lt;int&gt;</th><th scope=col>&lt;int&gt;</th><th scope=col>&lt;int&gt;</th><th scope=col>&lt;int&gt;</th><th scope=col>&lt;int&gt;</th><th scope=col>&lt;int&gt;</th></tr>\n",
       "</thead>\n",
       "<tbody>\n",
       "\t<tr><th scope=row>1</th><td>GP</td><td>F</td><td>18</td><td>U</td><td>GT3</td><td>A</td><td>4</td><td>4</td><td>at_home </td><td>teacher </td><td>...</td><td>4</td><td>3</td><td>4</td><td>1</td><td>1</td><td>3</td><td> 6</td><td> 5</td><td> 6</td><td> 6</td></tr>\n",
       "\t<tr><th scope=row>2</th><td>GP</td><td>F</td><td>17</td><td>U</td><td>GT3</td><td>T</td><td>1</td><td>1</td><td>at_home </td><td>other   </td><td>...</td><td>5</td><td>3</td><td>3</td><td>1</td><td>1</td><td>3</td><td> 4</td><td> 5</td><td> 5</td><td> 6</td></tr>\n",
       "\t<tr><th scope=row>3</th><td>GP</td><td>F</td><td>15</td><td>U</td><td>LE3</td><td>T</td><td>1</td><td>1</td><td>at_home </td><td>other   </td><td>...</td><td>4</td><td>3</td><td>2</td><td>2</td><td>3</td><td>3</td><td>10</td><td> 7</td><td> 8</td><td>10</td></tr>\n",
       "\t<tr><th scope=row>4</th><td>GP</td><td>F</td><td>15</td><td>U</td><td>GT3</td><td>T</td><td>4</td><td>2</td><td>health  </td><td>services</td><td>...</td><td>3</td><td>2</td><td>2</td><td>1</td><td>1</td><td>5</td><td> 2</td><td>15</td><td>14</td><td>15</td></tr>\n",
       "\t<tr><th scope=row>5</th><td>GP</td><td>F</td><td>16</td><td>U</td><td>GT3</td><td>T</td><td>3</td><td>3</td><td>other   </td><td>other   </td><td>...</td><td>4</td><td>3</td><td>2</td><td>1</td><td>2</td><td>5</td><td> 4</td><td> 6</td><td>10</td><td>10</td></tr>\n",
       "\t<tr><th scope=row>6</th><td>GP</td><td>M</td><td>16</td><td>U</td><td>LE3</td><td>T</td><td>4</td><td>3</td><td>services</td><td>other   </td><td>...</td><td>5</td><td>4</td><td>2</td><td>1</td><td>2</td><td>5</td><td>10</td><td>15</td><td>15</td><td>15</td></tr>\n",
       "</tbody>\n",
       "</table>\n"
      ],
      "text/latex": [
       "A data.frame: 6 × 33\n",
       "\\begin{tabular}{r|lllllllllllllllllllll}\n",
       "  & school & sex & age & address & famsize & Pstatus & Medu & Fedu & Mjob & Fjob & ... & famrel & freetime & goout & Dalc & Walc & health & absences & G1 & G2 & G3\\\\\n",
       "  & <chr> & <chr> & <int> & <chr> & <chr> & <chr> & <int> & <int> & <chr> & <chr> & ... & <int> & <int> & <int> & <int> & <int> & <int> & <int> & <int> & <int> & <int>\\\\\n",
       "\\hline\n",
       "\t1 & GP & F & 18 & U & GT3 & A & 4 & 4 & at\\_home  & teacher  & ... & 4 & 3 & 4 & 1 & 1 & 3 &  6 &  5 &  6 &  6\\\\\n",
       "\t2 & GP & F & 17 & U & GT3 & T & 1 & 1 & at\\_home  & other    & ... & 5 & 3 & 3 & 1 & 1 & 3 &  4 &  5 &  5 &  6\\\\\n",
       "\t3 & GP & F & 15 & U & LE3 & T & 1 & 1 & at\\_home  & other    & ... & 4 & 3 & 2 & 2 & 3 & 3 & 10 &  7 &  8 & 10\\\\\n",
       "\t4 & GP & F & 15 & U & GT3 & T & 4 & 2 & health   & services & ... & 3 & 2 & 2 & 1 & 1 & 5 &  2 & 15 & 14 & 15\\\\\n",
       "\t5 & GP & F & 16 & U & GT3 & T & 3 & 3 & other    & other    & ... & 4 & 3 & 2 & 1 & 2 & 5 &  4 &  6 & 10 & 10\\\\\n",
       "\t6 & GP & M & 16 & U & LE3 & T & 4 & 3 & services & other    & ... & 5 & 4 & 2 & 1 & 2 & 5 & 10 & 15 & 15 & 15\\\\\n",
       "\\end{tabular}\n"
      ],
      "text/markdown": [
       "\n",
       "A data.frame: 6 × 33\n",
       "\n",
       "| <!--/--> | school &lt;chr&gt; | sex &lt;chr&gt; | age &lt;int&gt; | address &lt;chr&gt; | famsize &lt;chr&gt; | Pstatus &lt;chr&gt; | Medu &lt;int&gt; | Fedu &lt;int&gt; | Mjob &lt;chr&gt; | Fjob &lt;chr&gt; | ... ... | famrel &lt;int&gt; | freetime &lt;int&gt; | goout &lt;int&gt; | Dalc &lt;int&gt; | Walc &lt;int&gt; | health &lt;int&gt; | absences &lt;int&gt; | G1 &lt;int&gt; | G2 &lt;int&gt; | G3 &lt;int&gt; |\n",
       "|---|---|---|---|---|---|---|---|---|---|---|---|---|---|---|---|---|---|---|---|---|---|\n",
       "| 1 | GP | F | 18 | U | GT3 | A | 4 | 4 | at_home  | teacher  | ... | 4 | 3 | 4 | 1 | 1 | 3 |  6 |  5 |  6 |  6 |\n",
       "| 2 | GP | F | 17 | U | GT3 | T | 1 | 1 | at_home  | other    | ... | 5 | 3 | 3 | 1 | 1 | 3 |  4 |  5 |  5 |  6 |\n",
       "| 3 | GP | F | 15 | U | LE3 | T | 1 | 1 | at_home  | other    | ... | 4 | 3 | 2 | 2 | 3 | 3 | 10 |  7 |  8 | 10 |\n",
       "| 4 | GP | F | 15 | U | GT3 | T | 4 | 2 | health   | services | ... | 3 | 2 | 2 | 1 | 1 | 5 |  2 | 15 | 14 | 15 |\n",
       "| 5 | GP | F | 16 | U | GT3 | T | 3 | 3 | other    | other    | ... | 4 | 3 | 2 | 1 | 2 | 5 |  4 |  6 | 10 | 10 |\n",
       "| 6 | GP | M | 16 | U | LE3 | T | 4 | 3 | services | other    | ... | 5 | 4 | 2 | 1 | 2 | 5 | 10 | 15 | 15 | 15 |\n",
       "\n"
      ],
      "text/plain": [
       "  school sex age address famsize Pstatus Medu Fedu Mjob     Fjob     ... famrel\n",
       "1 GP     F   18  U       GT3     A       4    4    at_home  teacher  ... 4     \n",
       "2 GP     F   17  U       GT3     T       1    1    at_home  other    ... 5     \n",
       "3 GP     F   15  U       LE3     T       1    1    at_home  other    ... 4     \n",
       "4 GP     F   15  U       GT3     T       4    2    health   services ... 3     \n",
       "5 GP     F   16  U       GT3     T       3    3    other    other    ... 4     \n",
       "6 GP     M   16  U       LE3     T       4    3    services other    ... 5     \n",
       "  freetime goout Dalc Walc health absences G1 G2 G3\n",
       "1 3        4     1    1    3       6        5  6  6\n",
       "2 3        3     1    1    3       4        5  5  6\n",
       "3 3        2     2    3    3      10        7  8 10\n",
       "4 2        2     1    1    5       2       15 14 15\n",
       "5 3        2     1    2    5       4        6 10 10\n",
       "6 4        2     1    2    5      10       15 15 15"
      ]
     },
     "metadata": {},
     "output_type": "display_data"
    }
   ],
   "source": [
    "df = read.csv('data/student-mat.csv')\n",
    "\n",
    "head(df)"
   ]
  },
  {
   "cell_type": "markdown",
   "id": "95008d6b",
   "metadata": {},
   "source": [
    "## Selecting & plotting data"
   ]
  },
  {
   "cell_type": "code",
   "execution_count": 28,
   "id": "4982612b",
   "metadata": {},
   "outputs": [
    {
     "data": {
      "text/html": [
       "<table>\n",
       "<caption>A data.frame: 6 × 2</caption>\n",
       "<thead>\n",
       "\t<tr><th></th><th scope=col>sex</th><th scope=col>Walc</th></tr>\n",
       "\t<tr><th></th><th scope=col>&lt;chr&gt;</th><th scope=col>&lt;int&gt;</th></tr>\n",
       "</thead>\n",
       "<tbody>\n",
       "\t<tr><th scope=row>1</th><td>F</td><td>1</td></tr>\n",
       "\t<tr><th scope=row>2</th><td>F</td><td>1</td></tr>\n",
       "\t<tr><th scope=row>3</th><td>F</td><td>3</td></tr>\n",
       "\t<tr><th scope=row>4</th><td>F</td><td>1</td></tr>\n",
       "\t<tr><th scope=row>5</th><td>F</td><td>2</td></tr>\n",
       "\t<tr><th scope=row>6</th><td>M</td><td>2</td></tr>\n",
       "</tbody>\n",
       "</table>\n"
      ],
      "text/latex": [
       "A data.frame: 6 × 2\n",
       "\\begin{tabular}{r|ll}\n",
       "  & sex & Walc\\\\\n",
       "  & <chr> & <int>\\\\\n",
       "\\hline\n",
       "\t1 & F & 1\\\\\n",
       "\t2 & F & 1\\\\\n",
       "\t3 & F & 3\\\\\n",
       "\t4 & F & 1\\\\\n",
       "\t5 & F & 2\\\\\n",
       "\t6 & M & 2\\\\\n",
       "\\end{tabular}\n"
      ],
      "text/markdown": [
       "\n",
       "A data.frame: 6 × 2\n",
       "\n",
       "| <!--/--> | sex &lt;chr&gt; | Walc &lt;int&gt; |\n",
       "|---|---|---|\n",
       "| 1 | F | 1 |\n",
       "| 2 | F | 1 |\n",
       "| 3 | F | 3 |\n",
       "| 4 | F | 1 |\n",
       "| 5 | F | 2 |\n",
       "| 6 | M | 2 |\n",
       "\n"
      ],
      "text/plain": [
       "  sex Walc\n",
       "1 F   1   \n",
       "2 F   1   \n",
       "3 F   3   \n",
       "4 F   1   \n",
       "5 F   2   \n",
       "6 M   2   "
      ]
     },
     "metadata": {},
     "output_type": "display_data"
    }
   ],
   "source": [
    "clean_df = df[c('sex', 'Walc')]\n",
    "\n",
    "head(clean_df)"
   ]
  },
  {
   "cell_type": "code",
   "execution_count": 24,
   "id": "14d1e79a",
   "metadata": {},
   "outputs": [
    {
     "data": {
      "text/html": [
       "<table>\n",
       "<caption>A data.frame: 6 × 2</caption>\n",
       "<thead>\n",
       "\t<tr><th></th><th scope=col>sex</th><th scope=col>Walc</th></tr>\n",
       "\t<tr><th></th><th scope=col>&lt;chr&gt;</th><th scope=col>&lt;int&gt;</th></tr>\n",
       "</thead>\n",
       "<tbody>\n",
       "\t<tr><th scope=row>6</th><td>M</td><td>2</td></tr>\n",
       "\t<tr><th scope=row>7</th><td>M</td><td>1</td></tr>\n",
       "\t<tr><th scope=row>9</th><td>M</td><td>1</td></tr>\n",
       "\t<tr><th scope=row>10</th><td>M</td><td>1</td></tr>\n",
       "\t<tr><th scope=row>13</th><td>M</td><td>3</td></tr>\n",
       "\t<tr><th scope=row>14</th><td>M</td><td>2</td></tr>\n",
       "</tbody>\n",
       "</table>\n"
      ],
      "text/latex": [
       "A data.frame: 6 × 2\n",
       "\\begin{tabular}{r|ll}\n",
       "  & sex & Walc\\\\\n",
       "  & <chr> & <int>\\\\\n",
       "\\hline\n",
       "\t6 & M & 2\\\\\n",
       "\t7 & M & 1\\\\\n",
       "\t9 & M & 1\\\\\n",
       "\t10 & M & 1\\\\\n",
       "\t13 & M & 3\\\\\n",
       "\t14 & M & 2\\\\\n",
       "\\end{tabular}\n"
      ],
      "text/markdown": [
       "\n",
       "A data.frame: 6 × 2\n",
       "\n",
       "| <!--/--> | sex &lt;chr&gt; | Walc &lt;int&gt; |\n",
       "|---|---|---|\n",
       "| 6 | M | 2 |\n",
       "| 7 | M | 1 |\n",
       "| 9 | M | 1 |\n",
       "| 10 | M | 1 |\n",
       "| 13 | M | 3 |\n",
       "| 14 | M | 2 |\n",
       "\n"
      ],
      "text/plain": [
       "   sex Walc\n",
       "6  M   2   \n",
       "7  M   1   \n",
       "9  M   1   \n",
       "10 M   1   \n",
       "13 M   3   \n",
       "14 M   2   "
      ]
     },
     "metadata": {},
     "output_type": "display_data"
    }
   ],
   "source": [
    "males = subset(clean_df, sex == 'M')\n",
    "\n",
    "head(males)"
   ]
  },
  {
   "cell_type": "code",
   "execution_count": 43,
   "id": "25989d38",
   "metadata": {},
   "outputs": [
    {
     "data": {
      "text/html": [
       "<table>\n",
       "<caption>A data.frame: 6 × 2</caption>\n",
       "<thead>\n",
       "\t<tr><th></th><th scope=col>sex</th><th scope=col>Walc</th></tr>\n",
       "\t<tr><th></th><th scope=col>&lt;chr&gt;</th><th scope=col>&lt;int&gt;</th></tr>\n",
       "</thead>\n",
       "<tbody>\n",
       "\t<tr><th scope=row>1</th><td>F</td><td>1</td></tr>\n",
       "\t<tr><th scope=row>2</th><td>F</td><td>1</td></tr>\n",
       "\t<tr><th scope=row>3</th><td>F</td><td>3</td></tr>\n",
       "\t<tr><th scope=row>4</th><td>F</td><td>1</td></tr>\n",
       "\t<tr><th scope=row>5</th><td>F</td><td>2</td></tr>\n",
       "\t<tr><th scope=row>8</th><td>F</td><td>1</td></tr>\n",
       "</tbody>\n",
       "</table>\n"
      ],
      "text/latex": [
       "A data.frame: 6 × 2\n",
       "\\begin{tabular}{r|ll}\n",
       "  & sex & Walc\\\\\n",
       "  & <chr> & <int>\\\\\n",
       "\\hline\n",
       "\t1 & F & 1\\\\\n",
       "\t2 & F & 1\\\\\n",
       "\t3 & F & 3\\\\\n",
       "\t4 & F & 1\\\\\n",
       "\t5 & F & 2\\\\\n",
       "\t8 & F & 1\\\\\n",
       "\\end{tabular}\n"
      ],
      "text/markdown": [
       "\n",
       "A data.frame: 6 × 2\n",
       "\n",
       "| <!--/--> | sex &lt;chr&gt; | Walc &lt;int&gt; |\n",
       "|---|---|---|\n",
       "| 1 | F | 1 |\n",
       "| 2 | F | 1 |\n",
       "| 3 | F | 3 |\n",
       "| 4 | F | 1 |\n",
       "| 5 | F | 2 |\n",
       "| 8 | F | 1 |\n",
       "\n"
      ],
      "text/plain": [
       "  sex Walc\n",
       "1 F   1   \n",
       "2 F   1   \n",
       "3 F   3   \n",
       "4 F   1   \n",
       "5 F   2   \n",
       "8 F   1   "
      ]
     },
     "metadata": {},
     "output_type": "display_data"
    }
   ],
   "source": [
    "females = subset(clean_df, sex == 'F')\n",
    "\n",
    "head(females)"
   ]
  },
  {
   "cell_type": "markdown",
   "id": "8eee94d3",
   "metadata": {},
   "source": [
    "## Plotting your data"
   ]
  }
 ],
 "metadata": {
  "kernelspec": {
   "display_name": "R",
   "language": "R",
   "name": "ir"
  },
  "language_info": {
   "codemirror_mode": "r",
   "file_extension": ".r",
   "mimetype": "text/x-r-source",
   "name": "R",
   "pygments_lexer": "r",
   "version": "4.0.3"
  }
 },
 "nbformat": 4,
 "nbformat_minor": 5
}
