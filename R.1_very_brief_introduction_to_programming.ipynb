{
 "cells": [
  {
   "cell_type": "markdown",
   "metadata": {},
   "source": [
    "# A very brief introduction to programming\n",
    "\n",
    "This notebook is a (very) brisk introduction to the programming concepts we'll need to perform the techniques shown in the other tutorials. All the tutorials in this collection are written in the Jupyter notebook format. Jupyter notebook is a browser interface that lets you interact with a [kernal](https://jupyter-notebook-beginner-guide.readthedocs.io/en/latest/what_is_jupyter.html#kernel) running a programming languag (in this case the programming language is R). Notebooks allow for writing text cells (like the one you are reading - technically called a *markdown cell*) alongside the code cells. This format is useful for teaching, as well as writing up and sharing the results of data analysis, because text which explains the analysis can be embedded alongside the code that performs the analysis.\n",
    "\n",
    "Programming languages are, at root, fancy calculators (to borrow [Dr Juan Klopper's term](https://www.juanklopper.com/)). The cell below the markdown cell you are reading is a *code cell*. As the name suggests, this is where we can write and run code. If you are using an interactive version of this notebook (which you can download from: https://github.com/pxr687/r_tutorials), then click on the cell and press `Control` and `Enter` simultaneously to run it. This will run the code in the cell, and the output of whatever operations the code performs will be shown beneath the cell. In this case, the cell will perform a simple arithmetic operation:\n",
    "\n",
    "*Note*: text in a code cell that appears after a `#` symbol is a *comment*. This is not executed as code, but is useful for documenting what specific code statements are doing:"
   ]
  },
  {
   "cell_type": "code",
   "execution_count": 1,
   "metadata": {},
   "outputs": [
    {
     "data": {
      "text/html": [
       "20"
      ],
      "text/latex": [
       "20"
      ],
      "text/markdown": [
       "20"
      ],
      "text/plain": [
       "[1] 20"
      ]
     },
     "metadata": {},
     "output_type": "display_data"
    }
   ],
   "source": [
    "# press Contrl + Enter simultaneously to run this cell\n",
    "10 + 10"
   ]
  },
  {
   "cell_type": "markdown",
   "metadata": {},
   "source": [
    "One of the useful aspects of programming languages is that they let us store the results of computational procedures as *variables*. Variables are stored in the computer's memory and can be accessed later:"
   ]
  },
  {
   "cell_type": "code",
   "execution_count": 2,
   "metadata": {},
   "outputs": [
    {
     "data": {
      "text/html": [
       "20"
      ],
      "text/latex": [
       "20"
      ],
      "text/markdown": [
       "20"
      ],
      "text/plain": [
       "[1] 20"
      ]
     },
     "metadata": {},
     "output_type": "display_data"
    }
   ],
   "source": [
    "# store the result of 10 + 10 in a variable called `my_variable`\n",
    "my_variable = 10 + 10\n",
    "\n",
    "# show what is in my_variable (the cell output will show the contents of whatever is written in the final line of the cell)\n",
    "my_variable"
   ]
  },
  {
   "cell_type": "markdown",
   "metadata": {},
   "source": [
    "Imagine if we had a set of scores on a cognitive task:"
   ]
  },
  {
   "cell_type": "code",
   "execution_count": 3,
   "metadata": {},
   "outputs": [
    {
     "data": {
      "text/html": [
       "<style>\n",
       ".list-inline {list-style: none; margin:0; padding: 0}\n",
       ".list-inline>li {display: inline-block}\n",
       ".list-inline>li:not(:last-child)::after {content: \"\\00b7\"; padding: 0 .5ex}\n",
       "</style>\n",
       "<ol class=list-inline><li>54</li><li>28</li><li>36</li><li>65</li><li>12</li><li>39</li><li>21</li><li>17</li><li>9</li><li>97</li><li>44</li><li>60</li><li>51</li><li>29</li><li>80</li><li>20</li><li>91</li><li>2</li><li>7</li><li>43</li></ol>\n"
      ],
      "text/latex": [
       "\\begin{enumerate*}\n",
       "\\item 54\n",
       "\\item 28\n",
       "\\item 36\n",
       "\\item 65\n",
       "\\item 12\n",
       "\\item 39\n",
       "\\item 21\n",
       "\\item 17\n",
       "\\item 9\n",
       "\\item 97\n",
       "\\item 44\n",
       "\\item 60\n",
       "\\item 51\n",
       "\\item 29\n",
       "\\item 80\n",
       "\\item 20\n",
       "\\item 91\n",
       "\\item 2\n",
       "\\item 7\n",
       "\\item 43\n",
       "\\end{enumerate*}\n"
      ],
      "text/markdown": [
       "1. 54\n",
       "2. 28\n",
       "3. 36\n",
       "4. 65\n",
       "5. 12\n",
       "6. 39\n",
       "7. 21\n",
       "8. 17\n",
       "9. 9\n",
       "10. 97\n",
       "11. 44\n",
       "12. 60\n",
       "13. 51\n",
       "14. 29\n",
       "15. 80\n",
       "16. 20\n",
       "17. 91\n",
       "18. 2\n",
       "19. 7\n",
       "20. 43\n",
       "\n",
       "\n"
      ],
      "text/plain": [
       " [1] 54 28 36 65 12 39 21 17  9 97 44 60 51 29 80 20 91  2  7 43"
      ]
     },
     "metadata": {},
     "output_type": "display_data"
    }
   ],
   "source": [
    "# generate some random scores, don't worry about this code for now\n",
    "scores = c(sample(seq(1, 100), size = 20))\n",
    "\n",
    "# show the scores\n",
    "scores"
   ]
  },
  {
   "cell_type": "markdown",
   "metadata": {},
   "source": [
    "If we mean-centre the scores, we can store the mean-centred scores as a variable, for use later in our analysis:"
   ]
  },
  {
   "cell_type": "code",
   "execution_count": 4,
   "metadata": {},
   "outputs": [
    {
     "data": {
      "text/html": [
       "<style>\n",
       ".list-inline {list-style: none; margin:0; padding: 0}\n",
       ".list-inline>li {display: inline-block}\n",
       ".list-inline>li:not(:last-child)::after {content: \"\\00b7\"; padding: 0 .5ex}\n",
       "</style>\n",
       "<ol class=list-inline><li>13.75</li><li>-12.25</li><li>-4.25</li><li>24.75</li><li>-28.25</li><li>-1.25</li><li>-19.25</li><li>-23.25</li><li>-31.25</li><li>56.75</li><li>3.75</li><li>19.75</li><li>10.75</li><li>-11.25</li><li>39.75</li><li>-20.25</li><li>50.75</li><li>-38.25</li><li>-33.25</li><li>2.75</li></ol>\n"
      ],
      "text/latex": [
       "\\begin{enumerate*}\n",
       "\\item 13.75\n",
       "\\item -12.25\n",
       "\\item -4.25\n",
       "\\item 24.75\n",
       "\\item -28.25\n",
       "\\item -1.25\n",
       "\\item -19.25\n",
       "\\item -23.25\n",
       "\\item -31.25\n",
       "\\item 56.75\n",
       "\\item 3.75\n",
       "\\item 19.75\n",
       "\\item 10.75\n",
       "\\item -11.25\n",
       "\\item 39.75\n",
       "\\item -20.25\n",
       "\\item 50.75\n",
       "\\item -38.25\n",
       "\\item -33.25\n",
       "\\item 2.75\n",
       "\\end{enumerate*}\n"
      ],
      "text/markdown": [
       "1. 13.75\n",
       "2. -12.25\n",
       "3. -4.25\n",
       "4. 24.75\n",
       "5. -28.25\n",
       "6. -1.25\n",
       "7. -19.25\n",
       "8. -23.25\n",
       "9. -31.25\n",
       "10. 56.75\n",
       "11. 3.75\n",
       "12. 19.75\n",
       "13. 10.75\n",
       "14. -11.25\n",
       "15. 39.75\n",
       "16. -20.25\n",
       "17. 50.75\n",
       "18. -38.25\n",
       "19. -33.25\n",
       "20. 2.75\n",
       "\n",
       "\n"
      ],
      "text/plain": [
       " [1]  13.75 -12.25  -4.25  24.75 -28.25  -1.25 -19.25 -23.25 -31.25  56.75\n",
       "[11]   3.75  19.75  10.75 -11.25  39.75 -20.25  50.75 -38.25 -33.25   2.75"
      ]
     },
     "metadata": {},
     "output_type": "display_data"
    }
   ],
   "source": [
    "# mean centre the scores\n",
    "mean_centered_scores = scores - mean(scores)\n",
    "\n",
    "# show the mean centred scores\n",
    "mean_centered_scores"
   ]
  },
  {
   "cell_type": "markdown",
   "metadata": {},
   "source": [
    "The first line of the code in the cell above contains the code `mean(scores)`. The code which reads: `mean()`, is a built-in R *function*. A function carries out a set of steps on whatever it is supplied as input. We pass something to a function by putting it in between the parentheses `()` at the end of the function name. As the name implies, the function `mean()` will calculate the average of whatever values are passed to it:\n",
    "\n",
    "*Note*: `c()` is another function, we will come back to it later, essentially, it just combines a group of things (like numbers) into a list, so they can be passed to functions:"
   ]
  },
  {
   "cell_type": "code",
   "execution_count": 5,
   "metadata": {},
   "outputs": [
    {
     "data": {
      "text/html": [
       "38.75"
      ],
      "text/latex": [
       "38.75"
      ],
      "text/markdown": [
       "38.75"
      ],
      "text/plain": [
       "[1] 38.75"
      ]
     },
     "metadata": {},
     "output_type": "display_data"
    }
   ],
   "source": [
    "mean(c(10, 20, 100, 25))"
   ]
  },
  {
   "cell_type": "markdown",
   "metadata": {},
   "source": [
    "The function `exp()` raises the constant $e$ to the power of whatever input it is given. E.g. the code `exp(10 + 10)` is equivalent to $e^{(10 + 10)}$:"
   ]
  },
  {
   "cell_type": "code",
   "execution_count": 6,
   "metadata": {},
   "outputs": [
    {
     "data": {
      "text/html": [
       "485165195.40979"
      ],
      "text/latex": [
       "485165195.40979"
      ],
      "text/markdown": [
       "485165195.40979"
      ],
      "text/plain": [
       "[1] 485165195"
      ]
     },
     "metadata": {},
     "output_type": "display_data"
    }
   ],
   "source": [
    "exp(10 + 10)"
   ]
  },
  {
   "cell_type": "markdown",
   "metadata": {},
   "source": [
    "We can also pass variables to functions. In the cell below, the `mean_centered_scores` we stored earlier are passed to the `exp()` function. This raises $e$ to the power of each score:"
   ]
  },
  {
   "cell_type": "code",
   "execution_count": 7,
   "metadata": {},
   "outputs": [
    {
     "data": {
      "text/html": [
       "<style>\n",
       ".list-inline {list-style: none; margin:0; padding: 0}\n",
       ".list-inline>li {display: inline-block}\n",
       ".list-inline>li:not(:last-child)::after {content: \"\\00b7\"; padding: 0 .5ex}\n",
       "</style>\n",
       "<ol class=list-inline><li>936589.158232554</li><li>4.78511739212901e-06</li><li>0.0142642339089993</li><li>56077471988.9338</li><li>5.38494021775404e-13</li><li>0.28650479686019</li><li>4.3634622529437e-09</li><li>7.99195989295393e-11</li><li>2.6810038677818e-14</li><li>4.42804318780757e+24</li><li>42.5210820000628</li><li>377847034.104136</li><li>46630.0284535243</li><li>1.30072976540676e-05</li><li>183318230136142752</li><li>1.60522805518561e-09</li><li>1.09760216901507e+22</li><li>2.44475907661213e-17</li><li>3.62834417804704e-15</li><li>15.6426318841882</li></ol>\n"
      ],
      "text/latex": [
       "\\begin{enumerate*}\n",
       "\\item 936589.158232554\n",
       "\\item 4.78511739212901e-06\n",
       "\\item 0.0142642339089993\n",
       "\\item 56077471988.9338\n",
       "\\item 5.38494021775404e-13\n",
       "\\item 0.28650479686019\n",
       "\\item 4.3634622529437e-09\n",
       "\\item 7.99195989295393e-11\n",
       "\\item 2.6810038677818e-14\n",
       "\\item 4.42804318780757e+24\n",
       "\\item 42.5210820000628\n",
       "\\item 377847034.104136\n",
       "\\item 46630.0284535243\n",
       "\\item 1.30072976540676e-05\n",
       "\\item 183318230136142752\n",
       "\\item 1.60522805518561e-09\n",
       "\\item 1.09760216901507e+22\n",
       "\\item 2.44475907661213e-17\n",
       "\\item 3.62834417804704e-15\n",
       "\\item 15.6426318841882\n",
       "\\end{enumerate*}\n"
      ],
      "text/markdown": [
       "1. 936589.158232554\n",
       "2. 4.78511739212901e-06\n",
       "3. 0.0142642339089993\n",
       "4. 56077471988.9338\n",
       "5. 5.38494021775404e-13\n",
       "6. 0.28650479686019\n",
       "7. 4.3634622529437e-09\n",
       "8. 7.99195989295393e-11\n",
       "9. 2.6810038677818e-14\n",
       "10. 4.42804318780757e+24\n",
       "11. 42.5210820000628\n",
       "12. 377847034.104136\n",
       "13. 46630.0284535243\n",
       "14. 1.30072976540676e-05\n",
       "15. 183318230136142752\n",
       "16. 1.60522805518561e-09\n",
       "17. 1.09760216901507e+22\n",
       "18. 2.44475907661213e-17\n",
       "19. 3.62834417804704e-15\n",
       "20. 15.6426318841882\n",
       "\n",
       "\n"
      ],
      "text/plain": [
       " [1] 9.365892e+05 4.785117e-06 1.426423e-02 5.607747e+10 5.384940e-13\n",
       " [6] 2.865048e-01 4.363462e-09 7.991960e-11 2.681004e-14 4.428043e+24\n",
       "[11] 4.252108e+01 3.778470e+08 4.663003e+04 1.300730e-05 1.833182e+17\n",
       "[16] 1.605228e-09 1.097602e+22 2.444759e-17 3.628344e-15 1.564263e+01"
      ]
     },
     "metadata": {},
     "output_type": "display_data"
    }
   ],
   "source": [
    "# pass the mean_centered scores variable to the exp() function\n",
    "exp(mean_centered_scores)"
   ]
  },
  {
   "cell_type": "markdown",
   "metadata": {},
   "source": [
    "To get information about what a function does (e.g. to read its documentation) we can place a `?` before the function, and run the cell:"
   ]
  },
  {
   "cell_type": "code",
   "execution_count": 8,
   "metadata": {},
   "outputs": [],
   "source": [
    "# view the documentation of the exp() function\n",
    "?exp()"
   ]
  },
  {
   "cell_type": "markdown",
   "metadata": {},
   "source": [
    "In case you are not using an interactive version of this notebook, the image below shows the window that pops up when \n",
    "you run the code cell above:\n",
    "\n",
    "![](images/R_docs.png)"
   ]
  },
  {
   "cell_type": "markdown",
   "metadata": {},
   "source": [
    "`exp()` is also a built in function, part of R. Other functions, which are not part of R by default, can be easily imported, to expand the functionality of the language. In fact, the R community is constantly adding new functions to implement cutting edge research methods (like [network meta-analysis](https://bookdown.org/MathiasHarrer/Doing_Meta_Analysis_in_R/netwma.html)).\n",
    "\n",
    "In this tutorial, I will mention whenever I use functions from any libraries which are not part of the base R language. The cell below imports some additional libraries of functions.\n",
    "\n",
    "*Note*: `library()` is a function that loads a library of other functions."
   ]
  },
  {
   "cell_type": "code",
   "execution_count": 9,
   "metadata": {
    "scrolled": false
   },
   "outputs": [
    {
     "name": "stderr",
     "output_type": "stream",
     "text": [
      "Loading required package: carData\n",
      "\n"
     ]
    }
   ],
   "source": [
    "# import some libraries - these contain additional functions, which are not part of the base R language\n",
    "library(\"scatterplot3d\") \n",
    "library(car)\n",
    "library(MASS)"
   ]
  },
  {
   "cell_type": "markdown",
   "metadata": {},
   "source": [
    "That's it, that's all the R you'll need for the other tutorials!\n",
    "\n",
    "[Click here to go back to the Main Page.](0_R_tutorials_main_page.ipynb)"
   ]
  }
 ],
 "metadata": {
  "kernelspec": {
   "display_name": "R",
   "language": "R",
   "name": "ir"
  },
  "language_info": {
   "codemirror_mode": "r",
   "file_extension": ".r",
   "mimetype": "text/x-r-source",
   "name": "R",
   "pygments_lexer": "r",
   "version": "4.0.3"
  }
 },
 "nbformat": 4,
 "nbformat_minor": 4
}
