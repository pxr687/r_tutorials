{
 "cells": [
  {
   "cell_type": "markdown",
   "metadata": {},
   "source": [
    "# Multiple Linear Regression with R (Exercises)\n",
    "\n",
    "This notebook contains exercises based on the [Linear Regression page](GLM.1_Linear_Regression.ipynb). It contains automated marking, so it will check your answers for you as you go.\n",
    "\n",
    "First, run the cell below by clicking on it and pressing 'Control' and 'Enter' at the same time:"
   ]
  },
  {
   "cell_type": "code",
   "execution_count": 1,
   "metadata": {},
   "outputs": [
    {
     "name": "stderr",
     "output_type": "stream",
     "text": [
      "Loading required package: testit\n",
      "\n",
      "Warning message:\n",
      "\"package 'testit' was built under R version 4.0.5\"\n"
     ]
    }
   ],
   "source": [
    "# do not worry about this code - it just checks if a specific library is installed, and installs it if it isn't\n",
    "if (!require(\"testit\")) install.packages(\"testit\")\n",
    "\n",
    "# this loads the testit library, will is used to mark your answers\n",
    "library('testit')"
   ]
  },
  {
   "cell_type": "markdown",
   "metadata": {},
   "source": [
    "Run the cell below to read in the RateMyProfessors data, which we will use for the exercises:"
   ]
  },
  {
   "cell_type": "code",
   "execution_count": 2,
   "metadata": {},
   "outputs": [
    {
     "data": {
      "text/html": [
       "<table>\n",
       "<caption>A data.frame: 75 × 6</caption>\n",
       "<thead>\n",
       "\t<tr><th scope=col>discipline</th><th scope=col>no_of_professors</th><th scope=col>clarity</th><th scope=col>helpfulness</th><th scope=col>overall_quality</th><th scope=col>easiness</th></tr>\n",
       "\t<tr><th scope=col>&lt;chr&gt;</th><th scope=col>&lt;int&gt;</th><th scope=col>&lt;dbl&gt;</th><th scope=col>&lt;dbl&gt;</th><th scope=col>&lt;dbl&gt;</th><th scope=col>&lt;dbl&gt;</th></tr>\n",
       "</thead>\n",
       "<tbody>\n",
       "\t<tr><td>English          </td><td>23343</td><td>3.756147</td><td>3.821866</td><td>3.791364</td><td>3.162754</td></tr>\n",
       "\t<tr><td>Mathematics      </td><td>22394</td><td>3.487379</td><td>3.641526</td><td>3.566867</td><td>3.063322</td></tr>\n",
       "\t<tr><td>Biology          </td><td>11774</td><td>3.608331</td><td>3.701530</td><td>3.657641</td><td>2.710459</td></tr>\n",
       "\t<tr><td>Psychology       </td><td>11179</td><td>3.909520</td><td>3.887536</td><td>3.900949</td><td>3.316210</td></tr>\n",
       "\t<tr><td>History          </td><td>11145</td><td>3.788818</td><td>3.753642</td><td>3.773746</td><td>3.053803</td></tr>\n",
       "\t<tr><td>Chemistry        </td><td> 7346</td><td>3.387174</td><td>3.538980</td><td>3.465485</td><td>2.652054</td></tr>\n",
       "\t<tr><td>Communications   </td><td> 6940</td><td>3.867349</td><td>3.878602</td><td>3.875019</td><td>3.379829</td></tr>\n",
       "\t<tr><td>Business         </td><td> 6120</td><td>3.640327</td><td>3.680503</td><td>3.663332</td><td>3.172033</td></tr>\n",
       "\t<tr><td>Political Science</td><td> 5824</td><td>3.759018</td><td>3.748676</td><td>3.756197</td><td>3.057758</td></tr>\n",
       "\t<tr><td>Economics        </td><td> 5540</td><td>3.382735</td><td>3.483617</td><td>3.435038</td><td>2.910078</td></tr>\n",
       "\t<tr><td>Philosophy       </td><td> 4973</td><td>3.632302</td><td>3.745327</td><td>3.690967</td><td>3.115357</td></tr>\n",
       "\t<tr><td>Sociology        </td><td> 4839</td><td>3.740980</td><td>3.748169</td><td>3.746962</td><td>3.395819</td></tr>\n",
       "\t<tr><td>Computer Science </td><td> 4809</td><td>3.372618</td><td>3.468661</td><td>3.422907</td><td>3.132724</td></tr>\n",
       "\t<tr><td>Accounting       </td><td> 3895</td><td>3.484249</td><td>3.572727</td><td>3.531315</td><td>2.784706</td></tr>\n",
       "\t<tr><td>Languages        </td><td> 3867</td><td>3.772780</td><td>3.917949</td><td>3.846951</td><td>3.277406</td></tr>\n",
       "\t<tr><td>Science          </td><td> 3832</td><td>3.519402</td><td>3.611681</td><td>3.567557</td><td>2.854413</td></tr>\n",
       "\t<tr><td>Physics          </td><td> 2629</td><td>3.294321</td><td>3.464024</td><td>3.382020</td><td>2.785668</td></tr>\n",
       "\t<tr><td>Anthropology     </td><td> 2598</td><td>3.693222</td><td>3.704761</td><td>3.701674</td><td>3.248045</td></tr>\n",
       "\t<tr><td>Education        </td><td> 2544</td><td>3.707429</td><td>3.806128</td><td>3.758211</td><td>3.430916</td></tr>\n",
       "\t<tr><td>Music            </td><td> 2455</td><td>3.844509</td><td>3.787804</td><td>3.818114</td><td>3.542273</td></tr>\n",
       "\t<tr><td>Fine Arts        </td><td> 1949</td><td>3.659497</td><td>3.697229</td><td>3.679887</td><td>3.138076</td></tr>\n",
       "\t<tr><td>Health           </td><td> 1937</td><td>3.891177</td><td>3.884729</td><td>3.891213</td><td>3.468012</td></tr>\n",
       "\t<tr><td>Humanities       </td><td> 1897</td><td>3.806969</td><td>3.816299</td><td>3.813569</td><td>3.344138</td></tr>\n",
       "\t<tr><td>Engineering      </td><td> 1864</td><td>3.356679</td><td>3.418385</td><td>3.389147</td><td>2.885714</td></tr>\n",
       "\t<tr><td>Criminal Justice </td><td> 1786</td><td>4.056685</td><td>4.033779</td><td>4.046702</td><td>3.469440</td></tr>\n",
       "\t<tr><td>Geography        </td><td> 1694</td><td>3.638341</td><td>3.692072</td><td>3.667279</td><td>3.244433</td></tr>\n",
       "\t<tr><td>Marketing        </td><td> 1458</td><td>3.618333</td><td>3.634108</td><td>3.628333</td><td>3.194300</td></tr>\n",
       "\t<tr><td>Social Science   </td><td> 1412</td><td>3.683555</td><td>3.691133</td><td>3.690262</td><td>3.338846</td></tr>\n",
       "\t<tr><td>Management       </td><td> 1397</td><td>3.604395</td><td>3.625125</td><td>3.618733</td><td>3.144567</td></tr>\n",
       "\t<tr><td>Law              </td><td> 1236</td><td>3.715194</td><td>3.728366</td><td>3.724466</td><td>2.868762</td></tr>\n",
       "\t<tr><td>...</td><td>...</td><td>...</td><td>...</td><td>...</td><td>...</td></tr>\n",
       "\t<tr><td>Film                  </td><td>450</td><td>3.788933</td><td>3.764689</td><td>3.778689</td><td>3.324156</td></tr>\n",
       "\t<tr><td>Women's Studies       </td><td>393</td><td>3.639949</td><td>3.652087</td><td>3.646743</td><td>3.276412</td></tr>\n",
       "\t<tr><td>Classics              </td><td>390</td><td>3.963872</td><td>3.947333</td><td>3.958692</td><td>3.180846</td></tr>\n",
       "\t<tr><td>Government            </td><td>374</td><td>3.957540</td><td>3.916070</td><td>3.938663</td><td>3.423021</td></tr>\n",
       "\t<tr><td>Speech                </td><td>351</td><td>4.133191</td><td>4.101197</td><td>4.119345</td><td>3.674701</td></tr>\n",
       "\t<tr><td>Social Work           </td><td>317</td><td>3.770726</td><td>3.834700</td><td>3.806246</td><td>3.314322</td></tr>\n",
       "\t<tr><td>Statistics            </td><td>317</td><td>3.526814</td><td>3.663407</td><td>3.597066</td><td>3.199716</td></tr>\n",
       "\t<tr><td>Graphic Arts          </td><td>297</td><td>3.561717</td><td>3.640774</td><td>3.603367</td><td>2.978182</td></tr>\n",
       "\t<tr><td>International Studies </td><td>295</td><td>3.621356</td><td>3.666915</td><td>3.646983</td><td>2.977254</td></tr>\n",
       "\t<tr><td>Hospitality           </td><td>267</td><td>3.697228</td><td>3.744607</td><td>3.719476</td><td>3.471498</td></tr>\n",
       "\t<tr><td>Architecture          </td><td>263</td><td>3.376312</td><td>3.448555</td><td>3.416996</td><td>2.825019</td></tr>\n",
       "\t<tr><td>Astronomy             </td><td>238</td><td>3.714076</td><td>3.782521</td><td>3.750966</td><td>3.178866</td></tr>\n",
       "\t<tr><td>Design                </td><td>233</td><td>3.525880</td><td>3.624678</td><td>3.576695</td><td>2.887940</td></tr>\n",
       "\t<tr><td>Foreign Language      </td><td>209</td><td>3.914641</td><td>4.057751</td><td>3.991675</td><td>3.323158</td></tr>\n",
       "\t<tr><td>Religious Studies     </td><td>193</td><td>3.932746</td><td>3.985751</td><td>3.962280</td><td>3.365544</td></tr>\n",
       "\t<tr><td>Electrical Engineering</td><td>176</td><td>3.451534</td><td>3.513182</td><td>3.486591</td><td>2.830455</td></tr>\n",
       "\t<tr><td>Child Development     </td><td>171</td><td>3.950585</td><td>4.008070</td><td>3.979766</td><td>3.606082</td></tr>\n",
       "\t<tr><td>ESL                   </td><td>168</td><td>3.691190</td><td>3.682857</td><td>3.690655</td><td>3.002857</td></tr>\n",
       "\t<tr><td>French                </td><td>162</td><td>3.775370</td><td>3.943086</td><td>3.860679</td><td>3.267099</td></tr>\n",
       "\t<tr><td>Reading               </td><td>148</td><td>4.159392</td><td>4.188919</td><td>4.177500</td><td>3.882635</td></tr>\n",
       "\t<tr><td>Modern Languages      </td><td>147</td><td>3.858503</td><td>3.971293</td><td>3.916259</td><td>3.275238</td></tr>\n",
       "\t<tr><td>Agriculture           </td><td>146</td><td>3.767466</td><td>3.863219</td><td>3.820068</td><td>3.402397</td></tr>\n",
       "\t<tr><td>Kinesiology           </td><td>132</td><td>3.995000</td><td>3.972879</td><td>3.988712</td><td>3.541439</td></tr>\n",
       "\t<tr><td>Nutrition             </td><td>120</td><td>3.815167</td><td>3.844333</td><td>3.831500</td><td>3.468333</td></tr>\n",
       "\t<tr><td>Physical Sciences     </td><td>120</td><td>3.627333</td><td>3.750917</td><td>3.688583</td><td>2.969417</td></tr>\n",
       "\t<tr><td>Anatomy               </td><td>117</td><td>3.932991</td><td>3.974701</td><td>3.954188</td><td>2.863504</td></tr>\n",
       "\t<tr><td>Earth Science         </td><td>110</td><td>3.636182</td><td>3.671364</td><td>3.655091</td><td>3.106727</td></tr>\n",
       "\t<tr><td>Linguistics           </td><td>110</td><td>3.749000</td><td>3.834545</td><td>3.798182</td><td>3.309636</td></tr>\n",
       "\t<tr><td>Mechanical Engineering</td><td>104</td><td>3.441923</td><td>3.531154</td><td>3.489327</td><td>2.799135</td></tr>\n",
       "\t<tr><td>Medicine              </td><td>102</td><td>3.927255</td><td>3.934216</td><td>3.929118</td><td>3.109118</td></tr>\n",
       "</tbody>\n",
       "</table>\n"
      ],
      "text/latex": [
       "A data.frame: 75 × 6\n",
       "\\begin{tabular}{llllll}\n",
       " discipline & no\\_of\\_professors & clarity & helpfulness & overall\\_quality & easiness\\\\\n",
       " <chr> & <int> & <dbl> & <dbl> & <dbl> & <dbl>\\\\\n",
       "\\hline\n",
       "\t English           & 23343 & 3.756147 & 3.821866 & 3.791364 & 3.162754\\\\\n",
       "\t Mathematics       & 22394 & 3.487379 & 3.641526 & 3.566867 & 3.063322\\\\\n",
       "\t Biology           & 11774 & 3.608331 & 3.701530 & 3.657641 & 2.710459\\\\\n",
       "\t Psychology        & 11179 & 3.909520 & 3.887536 & 3.900949 & 3.316210\\\\\n",
       "\t History           & 11145 & 3.788818 & 3.753642 & 3.773746 & 3.053803\\\\\n",
       "\t Chemistry         &  7346 & 3.387174 & 3.538980 & 3.465485 & 2.652054\\\\\n",
       "\t Communications    &  6940 & 3.867349 & 3.878602 & 3.875019 & 3.379829\\\\\n",
       "\t Business          &  6120 & 3.640327 & 3.680503 & 3.663332 & 3.172033\\\\\n",
       "\t Political Science &  5824 & 3.759018 & 3.748676 & 3.756197 & 3.057758\\\\\n",
       "\t Economics         &  5540 & 3.382735 & 3.483617 & 3.435038 & 2.910078\\\\\n",
       "\t Philosophy        &  4973 & 3.632302 & 3.745327 & 3.690967 & 3.115357\\\\\n",
       "\t Sociology         &  4839 & 3.740980 & 3.748169 & 3.746962 & 3.395819\\\\\n",
       "\t Computer Science  &  4809 & 3.372618 & 3.468661 & 3.422907 & 3.132724\\\\\n",
       "\t Accounting        &  3895 & 3.484249 & 3.572727 & 3.531315 & 2.784706\\\\\n",
       "\t Languages         &  3867 & 3.772780 & 3.917949 & 3.846951 & 3.277406\\\\\n",
       "\t Science           &  3832 & 3.519402 & 3.611681 & 3.567557 & 2.854413\\\\\n",
       "\t Physics           &  2629 & 3.294321 & 3.464024 & 3.382020 & 2.785668\\\\\n",
       "\t Anthropology      &  2598 & 3.693222 & 3.704761 & 3.701674 & 3.248045\\\\\n",
       "\t Education         &  2544 & 3.707429 & 3.806128 & 3.758211 & 3.430916\\\\\n",
       "\t Music             &  2455 & 3.844509 & 3.787804 & 3.818114 & 3.542273\\\\\n",
       "\t Fine Arts         &  1949 & 3.659497 & 3.697229 & 3.679887 & 3.138076\\\\\n",
       "\t Health            &  1937 & 3.891177 & 3.884729 & 3.891213 & 3.468012\\\\\n",
       "\t Humanities        &  1897 & 3.806969 & 3.816299 & 3.813569 & 3.344138\\\\\n",
       "\t Engineering       &  1864 & 3.356679 & 3.418385 & 3.389147 & 2.885714\\\\\n",
       "\t Criminal Justice  &  1786 & 4.056685 & 4.033779 & 4.046702 & 3.469440\\\\\n",
       "\t Geography         &  1694 & 3.638341 & 3.692072 & 3.667279 & 3.244433\\\\\n",
       "\t Marketing         &  1458 & 3.618333 & 3.634108 & 3.628333 & 3.194300\\\\\n",
       "\t Social Science    &  1412 & 3.683555 & 3.691133 & 3.690262 & 3.338846\\\\\n",
       "\t Management        &  1397 & 3.604395 & 3.625125 & 3.618733 & 3.144567\\\\\n",
       "\t Law               &  1236 & 3.715194 & 3.728366 & 3.724466 & 2.868762\\\\\n",
       "\t ... & ... & ... & ... & ... & ...\\\\\n",
       "\t Film                   & 450 & 3.788933 & 3.764689 & 3.778689 & 3.324156\\\\\n",
       "\t Women's Studies        & 393 & 3.639949 & 3.652087 & 3.646743 & 3.276412\\\\\n",
       "\t Classics               & 390 & 3.963872 & 3.947333 & 3.958692 & 3.180846\\\\\n",
       "\t Government             & 374 & 3.957540 & 3.916070 & 3.938663 & 3.423021\\\\\n",
       "\t Speech                 & 351 & 4.133191 & 4.101197 & 4.119345 & 3.674701\\\\\n",
       "\t Social Work            & 317 & 3.770726 & 3.834700 & 3.806246 & 3.314322\\\\\n",
       "\t Statistics             & 317 & 3.526814 & 3.663407 & 3.597066 & 3.199716\\\\\n",
       "\t Graphic Arts           & 297 & 3.561717 & 3.640774 & 3.603367 & 2.978182\\\\\n",
       "\t International Studies  & 295 & 3.621356 & 3.666915 & 3.646983 & 2.977254\\\\\n",
       "\t Hospitality            & 267 & 3.697228 & 3.744607 & 3.719476 & 3.471498\\\\\n",
       "\t Architecture           & 263 & 3.376312 & 3.448555 & 3.416996 & 2.825019\\\\\n",
       "\t Astronomy              & 238 & 3.714076 & 3.782521 & 3.750966 & 3.178866\\\\\n",
       "\t Design                 & 233 & 3.525880 & 3.624678 & 3.576695 & 2.887940\\\\\n",
       "\t Foreign Language       & 209 & 3.914641 & 4.057751 & 3.991675 & 3.323158\\\\\n",
       "\t Religious Studies      & 193 & 3.932746 & 3.985751 & 3.962280 & 3.365544\\\\\n",
       "\t Electrical Engineering & 176 & 3.451534 & 3.513182 & 3.486591 & 2.830455\\\\\n",
       "\t Child Development      & 171 & 3.950585 & 4.008070 & 3.979766 & 3.606082\\\\\n",
       "\t ESL                    & 168 & 3.691190 & 3.682857 & 3.690655 & 3.002857\\\\\n",
       "\t French                 & 162 & 3.775370 & 3.943086 & 3.860679 & 3.267099\\\\\n",
       "\t Reading                & 148 & 4.159392 & 4.188919 & 4.177500 & 3.882635\\\\\n",
       "\t Modern Languages       & 147 & 3.858503 & 3.971293 & 3.916259 & 3.275238\\\\\n",
       "\t Agriculture            & 146 & 3.767466 & 3.863219 & 3.820068 & 3.402397\\\\\n",
       "\t Kinesiology            & 132 & 3.995000 & 3.972879 & 3.988712 & 3.541439\\\\\n",
       "\t Nutrition              & 120 & 3.815167 & 3.844333 & 3.831500 & 3.468333\\\\\n",
       "\t Physical Sciences      & 120 & 3.627333 & 3.750917 & 3.688583 & 2.969417\\\\\n",
       "\t Anatomy                & 117 & 3.932991 & 3.974701 & 3.954188 & 2.863504\\\\\n",
       "\t Earth Science          & 110 & 3.636182 & 3.671364 & 3.655091 & 3.106727\\\\\n",
       "\t Linguistics            & 110 & 3.749000 & 3.834545 & 3.798182 & 3.309636\\\\\n",
       "\t Mechanical Engineering & 104 & 3.441923 & 3.531154 & 3.489327 & 2.799135\\\\\n",
       "\t Medicine               & 102 & 3.927255 & 3.934216 & 3.929118 & 3.109118\\\\\n",
       "\\end{tabular}\n"
      ],
      "text/markdown": [
       "\n",
       "A data.frame: 75 × 6\n",
       "\n",
       "| discipline &lt;chr&gt; | no_of_professors &lt;int&gt; | clarity &lt;dbl&gt; | helpfulness &lt;dbl&gt; | overall_quality &lt;dbl&gt; | easiness &lt;dbl&gt; |\n",
       "|---|---|---|---|---|---|\n",
       "| English           | 23343 | 3.756147 | 3.821866 | 3.791364 | 3.162754 |\n",
       "| Mathematics       | 22394 | 3.487379 | 3.641526 | 3.566867 | 3.063322 |\n",
       "| Biology           | 11774 | 3.608331 | 3.701530 | 3.657641 | 2.710459 |\n",
       "| Psychology        | 11179 | 3.909520 | 3.887536 | 3.900949 | 3.316210 |\n",
       "| History           | 11145 | 3.788818 | 3.753642 | 3.773746 | 3.053803 |\n",
       "| Chemistry         |  7346 | 3.387174 | 3.538980 | 3.465485 | 2.652054 |\n",
       "| Communications    |  6940 | 3.867349 | 3.878602 | 3.875019 | 3.379829 |\n",
       "| Business          |  6120 | 3.640327 | 3.680503 | 3.663332 | 3.172033 |\n",
       "| Political Science |  5824 | 3.759018 | 3.748676 | 3.756197 | 3.057758 |\n",
       "| Economics         |  5540 | 3.382735 | 3.483617 | 3.435038 | 2.910078 |\n",
       "| Philosophy        |  4973 | 3.632302 | 3.745327 | 3.690967 | 3.115357 |\n",
       "| Sociology         |  4839 | 3.740980 | 3.748169 | 3.746962 | 3.395819 |\n",
       "| Computer Science  |  4809 | 3.372618 | 3.468661 | 3.422907 | 3.132724 |\n",
       "| Accounting        |  3895 | 3.484249 | 3.572727 | 3.531315 | 2.784706 |\n",
       "| Languages         |  3867 | 3.772780 | 3.917949 | 3.846951 | 3.277406 |\n",
       "| Science           |  3832 | 3.519402 | 3.611681 | 3.567557 | 2.854413 |\n",
       "| Physics           |  2629 | 3.294321 | 3.464024 | 3.382020 | 2.785668 |\n",
       "| Anthropology      |  2598 | 3.693222 | 3.704761 | 3.701674 | 3.248045 |\n",
       "| Education         |  2544 | 3.707429 | 3.806128 | 3.758211 | 3.430916 |\n",
       "| Music             |  2455 | 3.844509 | 3.787804 | 3.818114 | 3.542273 |\n",
       "| Fine Arts         |  1949 | 3.659497 | 3.697229 | 3.679887 | 3.138076 |\n",
       "| Health            |  1937 | 3.891177 | 3.884729 | 3.891213 | 3.468012 |\n",
       "| Humanities        |  1897 | 3.806969 | 3.816299 | 3.813569 | 3.344138 |\n",
       "| Engineering       |  1864 | 3.356679 | 3.418385 | 3.389147 | 2.885714 |\n",
       "| Criminal Justice  |  1786 | 4.056685 | 4.033779 | 4.046702 | 3.469440 |\n",
       "| Geography         |  1694 | 3.638341 | 3.692072 | 3.667279 | 3.244433 |\n",
       "| Marketing         |  1458 | 3.618333 | 3.634108 | 3.628333 | 3.194300 |\n",
       "| Social Science    |  1412 | 3.683555 | 3.691133 | 3.690262 | 3.338846 |\n",
       "| Management        |  1397 | 3.604395 | 3.625125 | 3.618733 | 3.144567 |\n",
       "| Law               |  1236 | 3.715194 | 3.728366 | 3.724466 | 2.868762 |\n",
       "| ... | ... | ... | ... | ... | ... |\n",
       "| Film                   | 450 | 3.788933 | 3.764689 | 3.778689 | 3.324156 |\n",
       "| Women's Studies        | 393 | 3.639949 | 3.652087 | 3.646743 | 3.276412 |\n",
       "| Classics               | 390 | 3.963872 | 3.947333 | 3.958692 | 3.180846 |\n",
       "| Government             | 374 | 3.957540 | 3.916070 | 3.938663 | 3.423021 |\n",
       "| Speech                 | 351 | 4.133191 | 4.101197 | 4.119345 | 3.674701 |\n",
       "| Social Work            | 317 | 3.770726 | 3.834700 | 3.806246 | 3.314322 |\n",
       "| Statistics             | 317 | 3.526814 | 3.663407 | 3.597066 | 3.199716 |\n",
       "| Graphic Arts           | 297 | 3.561717 | 3.640774 | 3.603367 | 2.978182 |\n",
       "| International Studies  | 295 | 3.621356 | 3.666915 | 3.646983 | 2.977254 |\n",
       "| Hospitality            | 267 | 3.697228 | 3.744607 | 3.719476 | 3.471498 |\n",
       "| Architecture           | 263 | 3.376312 | 3.448555 | 3.416996 | 2.825019 |\n",
       "| Astronomy              | 238 | 3.714076 | 3.782521 | 3.750966 | 3.178866 |\n",
       "| Design                 | 233 | 3.525880 | 3.624678 | 3.576695 | 2.887940 |\n",
       "| Foreign Language       | 209 | 3.914641 | 4.057751 | 3.991675 | 3.323158 |\n",
       "| Religious Studies      | 193 | 3.932746 | 3.985751 | 3.962280 | 3.365544 |\n",
       "| Electrical Engineering | 176 | 3.451534 | 3.513182 | 3.486591 | 2.830455 |\n",
       "| Child Development      | 171 | 3.950585 | 4.008070 | 3.979766 | 3.606082 |\n",
       "| ESL                    | 168 | 3.691190 | 3.682857 | 3.690655 | 3.002857 |\n",
       "| French                 | 162 | 3.775370 | 3.943086 | 3.860679 | 3.267099 |\n",
       "| Reading                | 148 | 4.159392 | 4.188919 | 4.177500 | 3.882635 |\n",
       "| Modern Languages       | 147 | 3.858503 | 3.971293 | 3.916259 | 3.275238 |\n",
       "| Agriculture            | 146 | 3.767466 | 3.863219 | 3.820068 | 3.402397 |\n",
       "| Kinesiology            | 132 | 3.995000 | 3.972879 | 3.988712 | 3.541439 |\n",
       "| Nutrition              | 120 | 3.815167 | 3.844333 | 3.831500 | 3.468333 |\n",
       "| Physical Sciences      | 120 | 3.627333 | 3.750917 | 3.688583 | 2.969417 |\n",
       "| Anatomy                | 117 | 3.932991 | 3.974701 | 3.954188 | 2.863504 |\n",
       "| Earth Science          | 110 | 3.636182 | 3.671364 | 3.655091 | 3.106727 |\n",
       "| Linguistics            | 110 | 3.749000 | 3.834545 | 3.798182 | 3.309636 |\n",
       "| Mechanical Engineering | 104 | 3.441923 | 3.531154 | 3.489327 | 2.799135 |\n",
       "| Medicine               | 102 | 3.927255 | 3.934216 | 3.929118 | 3.109118 |\n",
       "\n"
      ],
      "text/plain": [
       "    discipline             no_of_professors clarity  helpfulness\n",
       "1   English                23343            3.756147 3.821866   \n",
       "2   Mathematics            22394            3.487379 3.641526   \n",
       "3   Biology                11774            3.608331 3.701530   \n",
       "4   Psychology             11179            3.909520 3.887536   \n",
       "5   History                11145            3.788818 3.753642   \n",
       "6   Chemistry               7346            3.387174 3.538980   \n",
       "7   Communications          6940            3.867349 3.878602   \n",
       "8   Business                6120            3.640327 3.680503   \n",
       "9   Political Science       5824            3.759018 3.748676   \n",
       "10  Economics               5540            3.382735 3.483617   \n",
       "11  Philosophy              4973            3.632302 3.745327   \n",
       "12  Sociology               4839            3.740980 3.748169   \n",
       "13  Computer Science        4809            3.372618 3.468661   \n",
       "14  Accounting              3895            3.484249 3.572727   \n",
       "15  Languages               3867            3.772780 3.917949   \n",
       "16  Science                 3832            3.519402 3.611681   \n",
       "17  Physics                 2629            3.294321 3.464024   \n",
       "18  Anthropology            2598            3.693222 3.704761   \n",
       "19  Education               2544            3.707429 3.806128   \n",
       "20  Music                   2455            3.844509 3.787804   \n",
       "21  Fine Arts               1949            3.659497 3.697229   \n",
       "22  Health                  1937            3.891177 3.884729   \n",
       "23  Humanities              1897            3.806969 3.816299   \n",
       "24  Engineering             1864            3.356679 3.418385   \n",
       "25  Criminal Justice        1786            4.056685 4.033779   \n",
       "26  Geography               1694            3.638341 3.692072   \n",
       "27  Marketing               1458            3.618333 3.634108   \n",
       "28  Social Science          1412            3.683555 3.691133   \n",
       "29  Management              1397            3.604395 3.625125   \n",
       "30  Law                     1236            3.715194 3.728366   \n",
       "... ...                    ...              ...      ...        \n",
       "46  Film                   450              3.788933 3.764689   \n",
       "47  Women's Studies        393              3.639949 3.652087   \n",
       "48  Classics               390              3.963872 3.947333   \n",
       "49  Government             374              3.957540 3.916070   \n",
       "50  Speech                 351              4.133191 4.101197   \n",
       "51  Social Work            317              3.770726 3.834700   \n",
       "52  Statistics             317              3.526814 3.663407   \n",
       "53  Graphic Arts           297              3.561717 3.640774   \n",
       "54  International Studies  295              3.621356 3.666915   \n",
       "55  Hospitality            267              3.697228 3.744607   \n",
       "56  Architecture           263              3.376312 3.448555   \n",
       "57  Astronomy              238              3.714076 3.782521   \n",
       "58  Design                 233              3.525880 3.624678   \n",
       "59  Foreign Language       209              3.914641 4.057751   \n",
       "60  Religious Studies      193              3.932746 3.985751   \n",
       "61  Electrical Engineering 176              3.451534 3.513182   \n",
       "62  Child Development      171              3.950585 4.008070   \n",
       "63  ESL                    168              3.691190 3.682857   \n",
       "64  French                 162              3.775370 3.943086   \n",
       "65  Reading                148              4.159392 4.188919   \n",
       "66  Modern Languages       147              3.858503 3.971293   \n",
       "67  Agriculture            146              3.767466 3.863219   \n",
       "68  Kinesiology            132              3.995000 3.972879   \n",
       "69  Nutrition              120              3.815167 3.844333   \n",
       "70  Physical Sciences      120              3.627333 3.750917   \n",
       "71  Anatomy                117              3.932991 3.974701   \n",
       "72  Earth Science          110              3.636182 3.671364   \n",
       "73  Linguistics            110              3.749000 3.834545   \n",
       "74  Mechanical Engineering 104              3.441923 3.531154   \n",
       "75  Medicine               102              3.927255 3.934216   \n",
       "    overall_quality easiness\n",
       "1   3.791364        3.162754\n",
       "2   3.566867        3.063322\n",
       "3   3.657641        2.710459\n",
       "4   3.900949        3.316210\n",
       "5   3.773746        3.053803\n",
       "6   3.465485        2.652054\n",
       "7   3.875019        3.379829\n",
       "8   3.663332        3.172033\n",
       "9   3.756197        3.057758\n",
       "10  3.435038        2.910078\n",
       "11  3.690967        3.115357\n",
       "12  3.746962        3.395819\n",
       "13  3.422907        3.132724\n",
       "14  3.531315        2.784706\n",
       "15  3.846951        3.277406\n",
       "16  3.567557        2.854413\n",
       "17  3.382020        2.785668\n",
       "18  3.701674        3.248045\n",
       "19  3.758211        3.430916\n",
       "20  3.818114        3.542273\n",
       "21  3.679887        3.138076\n",
       "22  3.891213        3.468012\n",
       "23  3.813569        3.344138\n",
       "24  3.389147        2.885714\n",
       "25  4.046702        3.469440\n",
       "26  3.667279        3.244433\n",
       "27  3.628333        3.194300\n",
       "28  3.690262        3.338846\n",
       "29  3.618733        3.144567\n",
       "30  3.724466        2.868762\n",
       "... ...             ...     \n",
       "46  3.778689        3.324156\n",
       "47  3.646743        3.276412\n",
       "48  3.958692        3.180846\n",
       "49  3.938663        3.423021\n",
       "50  4.119345        3.674701\n",
       "51  3.806246        3.314322\n",
       "52  3.597066        3.199716\n",
       "53  3.603367        2.978182\n",
       "54  3.646983        2.977254\n",
       "55  3.719476        3.471498\n",
       "56  3.416996        2.825019\n",
       "57  3.750966        3.178866\n",
       "58  3.576695        2.887940\n",
       "59  3.991675        3.323158\n",
       "60  3.962280        3.365544\n",
       "61  3.486591        2.830455\n",
       "62  3.979766        3.606082\n",
       "63  3.690655        3.002857\n",
       "64  3.860679        3.267099\n",
       "65  4.177500        3.882635\n",
       "66  3.916259        3.275238\n",
       "67  3.820068        3.402397\n",
       "68  3.988712        3.541439\n",
       "69  3.831500        3.468333\n",
       "70  3.688583        2.969417\n",
       "71  3.954188        2.863504\n",
       "72  3.655091        3.106727\n",
       "73  3.798182        3.309636\n",
       "74  3.489327        2.799135\n",
       "75  3.929118        3.109118"
      ]
     },
     "metadata": {},
     "output_type": "display_data"
    }
   ],
   "source": [
    "# read in the data from a csv\n",
    "df = read.csv('data/rate_my_course.csv')\n",
    "\n",
    "# show the dataframe\n",
    "df"
   ]
  },
  {
   "cell_type": "markdown",
   "metadata": {},
   "source": [
    "## Question 1\n",
    "\n",
    "Sometimes, as we saw on the linear regression page, we will want to get a whole column out of a dataframe to pass it to a function. In the cell below, get the `no_of_professors` column and store it as a variable called `number_professors`:"
   ]
  },
  {
   "cell_type": "code",
   "execution_count": 3,
   "metadata": {},
   "outputs": [
    {
     "data": {
      "text/html": [
       "'...'"
      ],
      "text/latex": [
       "'...'"
      ],
      "text/markdown": [
       "'...'"
      ],
      "text/plain": [
       "[1] \"...\""
      ]
     },
     "metadata": {},
     "output_type": "display_data"
    }
   ],
   "source": [
    "number_professors = '...' # replace '...' with your answer \n",
    "\n",
    "# the code below makes this code cell show the contents of 'number_professors'\n",
    "number_professors"
   ]
  },
  {
   "cell_type": "markdown",
   "metadata": {},
   "source": [
    "Please run the cell below to mark your answer:"
   ]
  },
  {
   "cell_type": "code",
   "execution_count": 4,
   "metadata": {},
   "outputs": [
    {
     "data": {
      "text/html": [
       "'Hmmm, that is not right. The information you need to do this question is in the `Selecting &amp; plotting` data section of the linear regression tutorial.'"
      ],
      "text/latex": [
       "'Hmmm, that is not right. The information you need to do this question is in the `Selecting \\& plotting` data section of the linear regression tutorial.'"
      ],
      "text/markdown": [
       "'Hmmm, that is not right. The information you need to do this question is in the `Selecting &amp; plotting` data section of the linear regression tutorial.'"
      ],
      "text/plain": [
       "[1] \"Hmmm, that is not right. The information you need to do this question is in the `Selecting & plotting` data section of the linear regression tutorial.\""
      ]
     },
     "metadata": {},
     "output_type": "display_data"
    }
   ],
   "source": [
    "# mark your answer\n",
    "if (setequal(number_professors, df$no_of_professors)){\n",
    "    print(\"That's correct!\")\n",
    "    } else {\"Hmmm, that is not right. The information you need to do this question is in the `Selecting & plotting data` section of the linear regression tutorial.\"}"
   ]
  },
  {
   "cell_type": "markdown",
   "metadata": {},
   "source": [
    "## Question 2\n",
    "\n",
    "Use the `mean()` function on the `number_professors` variable you just created, to calculate the mean number of professors:"
   ]
  },
  {
   "cell_type": "code",
   "execution_count": 5,
   "metadata": {},
   "outputs": [
    {
     "data": {
      "text/html": [
       "'...'"
      ],
      "text/latex": [
       "'...'"
      ],
      "text/markdown": [
       "'...'"
      ],
      "text/plain": [
       "[1] \"...\""
      ]
     },
     "metadata": {},
     "output_type": "display_data"
    }
   ],
   "source": [
    "mean_professors = '...'\n",
    "\n",
    "# the code below makes this code cell show the contents of 'mean_professors'\n",
    "mean_professors"
   ]
  },
  {
   "cell_type": "code",
   "execution_count": 6,
   "metadata": {},
   "outputs": [
    {
     "data": {
      "text/html": [
       "'Hmmm, that is not right. Consider having a look at the `very brief introduction to programming` page, which shows how to use the mean() function.'"
      ],
      "text/latex": [
       "'Hmmm, that is not right. Consider having a look at the `very brief introduction to programming` page, which shows how to use the mean() function.'"
      ],
      "text/markdown": [
       "'Hmmm, that is not right. Consider having a look at the `very brief introduction to programming` page, which shows how to use the mean() function.'"
      ],
      "text/plain": [
       "[1] \"Hmmm, that is not right. Consider having a look at the `very brief introduction to programming` page, which shows how to use the mean() function.\""
      ]
     },
     "metadata": {},
     "output_type": "display_data"
    }
   ],
   "source": [
    "# mark your answer\n",
    "if (setequal(mean_professors, sum(df$no_of_professors)/length(df$no_of_professors))){\n",
    "    print(\"That's correct!\")\n",
    "    } else {\"Hmmm, that is not right. Consider having a look at the `very brief introduction to programming` page, which shows how to use the mean() function.\"}"
   ]
  },
  {
   "cell_type": "markdown",
   "metadata": {},
   "source": [
    "## Question 3\n",
    "\n",
    "Use the `subset()` function to return the rows of the dataframe named `df`, which have a `no_of_professors` score which is larger than the mean number of professors:"
   ]
  },
  {
   "cell_type": "code",
   "execution_count": 7,
   "metadata": {},
   "outputs": [
    {
     "data": {
      "text/html": [
       "'...'"
      ],
      "text/latex": [
       "'...'"
      ],
      "text/markdown": [
       "'...'"
      ],
      "text/plain": [
       "[1] \"...\""
      ]
     },
     "metadata": {},
     "output_type": "display_data"
    }
   ],
   "source": [
    "greater_than_mean_prof = '...'\n",
    "\n",
    "greater_than_mean_prof"
   ]
  },
  {
   "cell_type": "code",
   "execution_count": 8,
   "metadata": {},
   "outputs": [
    {
     "data": {
      "text/html": [
       "'Hmmm, that is not right. The information you need to do this question is in the `Conditional subsetting` section of the linear regression page.'"
      ],
      "text/latex": [
       "'Hmmm, that is not right. The information you need to do this question is in the `Conditional subsetting` section of the linear regression page.'"
      ],
      "text/markdown": [
       "'Hmmm, that is not right. The information you need to do this question is in the `Conditional subsetting` section of the linear regression page.'"
      ],
      "text/plain": [
       "[1] \"Hmmm, that is not right. The information you need to do this question is in the `Conditional subsetting` section of the linear regression page.\""
      ]
     },
     "metadata": {},
     "output_type": "display_data"
    }
   ],
   "source": [
    "# mark your answer\n",
    "if (setequal(greater_than_mean_prof, subset(df, df$no_of_professors > sum(df$no_of_professors)/length(df$no_of_professors)))){\n",
    "    print(\"That's correct!\")\n",
    "    } else {\"Hmmm, that is not right. The information you need to do this question is in the `Conditional subsetting` section of the linear regression page.\"}"
   ]
  },
  {
   "cell_type": "markdown",
   "metadata": {},
   "source": [
    "## Question 4\n",
    "\n",
    "Use the `hist()` function to crate a histogram of the `no_of_professors`. Save the graph in a variable called `histogram`:"
   ]
  },
  {
   "cell_type": "code",
   "execution_count": 9,
   "metadata": {},
   "outputs": [],
   "source": [
    "histogram = '...'"
   ]
  },
  {
   "cell_type": "code",
   "execution_count": 10,
   "metadata": {},
   "outputs": [
    {
     "data": {
      "text/html": [
       "'Hmmm, that is not right. The information you need to do this question is in the `Selecting &amp; plotting data` section of the linear regression page. The histogram should look like the one below:'"
      ],
      "text/latex": [
       "'Hmmm, that is not right. The information you need to do this question is in the `Selecting \\& plotting data` section of the linear regression page. The histogram should look like the one below:'"
      ],
      "text/markdown": [
       "'Hmmm, that is not right. The information you need to do this question is in the `Selecting &amp; plotting data` section of the linear regression page. The histogram should look like the one below:'"
      ],
      "text/plain": [
       "[1] \"Hmmm, that is not right. The information you need to do this question is in the `Selecting & plotting data` section of the linear regression page. The histogram should look like the one below:\""
      ]
     },
     "metadata": {},
     "output_type": "display_data"
    },
    {
     "data": {
      "image/png": "[encoded data removed]",
      "text/plain": [
       "Plot with title \"Histogram of df$no_of_professors\""
      ]
     },
     "metadata": {
      "image/png": {
       "height": 420,
       "width": 420
      }
     },
     "output_type": "display_data"
    }
   ],
   "source": [
    "# mark your answer\n",
    "if (setequal(histogram,  hist(df$no_of_professors))){\n",
    "    print(\"That's correct!\")\n",
    "    } else {\"Hmmm, that is not right. The information you need to do this question is in the `Selecting & plotting data` section of the linear regression page. The histogram should look like the one below:\"}"
   ]
  },
  {
   "cell_type": "markdown",
   "metadata": {},
   "source": [
    "## Question 5\n",
    "\n",
    "Use the `plot()` function to create a scatterplot with `no_of_professors` on the x-axis, and `overall_quality` on the `y_axis`. Save your answer in a variable called `scatterplot`:"
   ]
  },
  {
   "cell_type": "code",
   "execution_count": 11,
   "metadata": {},
   "outputs": [],
   "source": [
    "scatterplot = '...'"
   ]
  },
  {
   "cell_type": "code",
   "execution_count": 12,
   "metadata": {},
   "outputs": [
    {
     "data": {
      "text/html": [
       "'Hmmm, that is not right. The information you need to do this question is in the `Selecting &amp; plotting data` section of the linear regression page. The scatterplot should look like the one below:'"
      ],
      "text/latex": [
       "'Hmmm, that is not right. The information you need to do this question is in the `Selecting \\& plotting data` section of the linear regression page. The scatterplot should look like the one below:'"
      ],
      "text/markdown": [
       "'Hmmm, that is not right. The information you need to do this question is in the `Selecting &amp; plotting data` section of the linear regression page. The scatterplot should look like the one below:'"
      ],
      "text/plain": [
       "[1] \"Hmmm, that is not right. The information you need to do this question is in the `Selecting & plotting data` section of the linear regression page. The scatterplot should look like the one below:\""
      ]
     },
     "metadata": {},
     "output_type": "display_data"
    },
    {
     "data": {
      "image/png": "[encoded data removed]",
      "text/plain": [
       "plot without title"
      ]
     },
     "metadata": {
      "image/png": {
       "height": 420,
       "width": 420
      }
     },
     "output_type": "display_data"
    }
   ],
   "source": [
    "# mark your answer\n",
    "if (setequal(scatterplot,  plot(df$no_of_professors, df$overall_quality))){\n",
    "    print(\"That's correct!\")\n",
    "    } else {\"Hmmm, that is not right. The information you need to do this question is in the `Selecting & plotting data` section of the linear regression page. The scatterplot should look like the one below:\"}"
   ]
  },
  {
   "cell_type": "markdown",
   "metadata": {},
   "source": [
    "## Question 6\n",
    "\n",
    "Use the `summary()` function to show descriptive statistics for the entire `df` dataframe. Save your answer in a variable called `my_summary`:"
   ]
  },
  {
   "cell_type": "code",
   "execution_count": 13,
   "metadata": {},
   "outputs": [
    {
     "data": {
      "text/html": [
       "'...'"
      ],
      "text/latex": [
       "'...'"
      ],
      "text/markdown": [
       "'...'"
      ],
      "text/plain": [
       "[1] \"...\""
      ]
     },
     "metadata": {},
     "output_type": "display_data"
    }
   ],
   "source": [
    "my_summary = '...'\n",
    "\n",
    "my_summary"
   ]
  },
  {
   "cell_type": "code",
   "execution_count": 14,
   "metadata": {},
   "outputs": [
    {
     "data": {
      "text/html": [
       "'Hmmm, that is not right. The information you need to do this question is in the `Reading and organizing your data` section of the linear regression page.'"
      ],
      "text/latex": [
       "'Hmmm, that is not right. The information you need to do this question is in the `Reading and organizing your data` section of the linear regression page.'"
      ],
      "text/markdown": [
       "'Hmmm, that is not right. The information you need to do this question is in the `Reading and organizing your data` section of the linear regression page.'"
      ],
      "text/plain": [
       "[1] \"Hmmm, that is not right. The information you need to do this question is in the `Reading and organizing your data` section of the linear regression page.\""
      ]
     },
     "metadata": {},
     "output_type": "display_data"
    }
   ],
   "source": [
    "# mark your answer\n",
    "if (setequal(my_summary,  summary(df))){\n",
    "    print(\"That's correct!\")\n",
    "    } else {\"Hmmm, that is not right. The information you need to do this question is in the `Reading and organizing your data` section of the linear regression page.\"}"
   ]
  },
  {
   "cell_type": "markdown",
   "metadata": {},
   "source": [
    "## Question 7\n",
    "\n",
    "Use the `lm()` function to perform a simple linear regression, using `overall_quality` as your dependent variable and `no_of_professors` as your predictor. Save your model in a variable called `my_mod`:"
   ]
  },
  {
   "cell_type": "code",
   "execution_count": 15,
   "metadata": {},
   "outputs": [
    {
     "data": {
      "text/plain": [
       "   Length     Class      Mode \n",
       "        1 character character "
      ]
     },
     "metadata": {},
     "output_type": "display_data"
    }
   ],
   "source": [
    "my_mod = '...' \n",
    "\n",
    "# show the model summary\n",
    "summary(my_mod)"
   ]
  },
  {
   "cell_type": "code",
   "execution_count": 16,
   "metadata": {},
   "outputs": [
    {
     "data": {
      "text/html": [
       "'Hmmm, that is not right. The information you need to do this question is in the `Simple linear regression` section of the linear regression page.'"
      ],
      "text/latex": [
       "'Hmmm, that is not right. The information you need to do this question is in the `Simple linear regression` section of the linear regression page.'"
      ],
      "text/markdown": [
       "'Hmmm, that is not right. The information you need to do this question is in the `Simple linear regression` section of the linear regression page.'"
      ],
      "text/plain": [
       "[1] \"Hmmm, that is not right. The information you need to do this question is in the `Simple linear regression` section of the linear regression page.\""
      ]
     },
     "metadata": {},
     "output_type": "display_data"
    }
   ],
   "source": [
    "# mark your answer\n",
    "if (setequal(my_mod,  lm('overall_quality ~ no_of_professors', data = df))){\n",
    "    print(\"That's correct!\")\n",
    "    } else {\"Hmmm, that is not right. The information you need to do this question is in the `Simple linear regression` section of the linear regression page.\"}"
   ]
  }
 ],
 "metadata": {
  "kernelspec": {
   "display_name": "R",
   "language": "R",
   "name": "ir"
  },
  "language_info": {
   "codemirror_mode": "r",
   "file_extension": ".r",
   "mimetype": "text/x-r-source",
   "name": "R",
   "pygments_lexer": "r",
   "version": "4.0.3"
  }
 },
 "nbformat": 4,
 "nbformat_minor": 4
}
