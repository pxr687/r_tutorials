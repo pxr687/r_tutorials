{
 "cells": [
  {
   "cell_type": "markdown",
   "metadata": {},
   "source": [
    "# Multiple Linear Regression with R (Exercises)\n",
    "\n",
    "This notebook contains exercises based on the [Linear Regression page](GLM.1_Linear_Regression.ipynb). It contains automated marking, so it will check your answers for you as you go.\n",
    "\n",
    "First, run the cell below by clicking on it and pressing 'Control' and 'Enter' at the same time:"
   ]
  },
  {
   "cell_type": "code",
   "execution_count": null,
   "metadata": {},
   "outputs": [],
   "source": [
    "# do not worry about this code - it just checks if a specific library is installed, and installs it if it isn't\n",
    "if (!require(\"testit\")) install.packages(\"testit\")\n",
    "\n",
    "# this loads the testit library, will is used to mark your answers\n",
    "library('testit')"
   ]
  },
  {
   "cell_type": "markdown",
   "metadata": {},
   "source": [
    "Run the cell below to read in the RateMyProfessors data, which we will use for the exercises:"
   ]
  },
  {
   "cell_type": "code",
   "execution_count": null,
   "metadata": {},
   "outputs": [],
   "source": [
    "# read in the data from a csv\n",
    "df = read.csv('data/rate_my_course.csv')\n",
    "\n",
    "# show the dataframe\n",
    "df"
   ]
  },
  {
   "cell_type": "markdown",
   "metadata": {},
   "source": [
    "## Question 1\n",
    "\n",
    "Sometimes, as we saw on the linear regression page, we will want to get a whole column out of a dataframe to pass it to a function. In the cell below, get the `no_of_professors` column and store it as a variable called `number_professors`:"
   ]
  },
  {
   "cell_type": "code",
   "execution_count": null,
   "metadata": {},
   "outputs": [],
   "source": [
    "number_professors = '...' # replace '...' with your answer \n",
    "\n",
    "# the code below makes this code cell show the contents of 'number_professors'\n",
    "number_professors"
   ]
  },
  {
   "cell_type": "markdown",
   "metadata": {},
   "source": [
    "Please run the cell below to mark your answer:"
   ]
  },
  {
   "cell_type": "code",
   "execution_count": null,
   "metadata": {},
   "outputs": [],
   "source": [
    "# select this cell, then press 'Control' and 'Enter' together to mark your answer\n",
    "if (setequal(number_professors, df$no_of_professors)){\n",
    "    print(\"That's correct!\")\n",
    "    } else {\"Hmmm, that is not right. The information you need to do this question is in the `Selecting & plotting data` section of the linear regression tutorial.\"}"
   ]
  },
  {
   "cell_type": "markdown",
   "metadata": {},
   "source": [
    "## Question 2\n",
    "\n",
    "Use the `mean()` function on the `number_professors` variable you just created, to calculate the mean number of professors:"
   ]
  },
  {
   "cell_type": "code",
   "execution_count": null,
   "metadata": {},
   "outputs": [],
   "source": [
    "mean_professors = '...'\n",
    "\n",
    "# the code below makes this code cell show the contents of 'mean_professors'\n",
    "mean_professors"
   ]
  },
  {
   "cell_type": "code",
   "execution_count": null,
   "metadata": {},
   "outputs": [],
   "source": [
    "# mark your answer\n",
    "if (setequal(mean_professors, sum(df$no_of_professors)/length(df$no_of_professors))){\n",
    "    print(\"That's correct!\")\n",
    "    } else {\"Hmmm, that is not right. Consider having a look at the `very brief introduction to programming` page, which shows how to use the mean() function.\"}"
   ]
  },
  {
   "cell_type": "markdown",
   "metadata": {},
   "source": [
    "## Question 3\n",
    "\n",
    "Use the `subset()` function to return the rows of the dataframe named `df`, which have a `no_of_professors` score which is larger than the mean number of professors:"
   ]
  },
  {
   "cell_type": "code",
   "execution_count": null,
   "metadata": {},
   "outputs": [],
   "source": [
    "greater_than_mean_prof = '...'\n",
    "\n",
    "greater_than_mean_prof"
   ]
  },
  {
   "cell_type": "code",
   "execution_count": null,
   "metadata": {},
   "outputs": [],
   "source": [
    "# mark your answer\n",
    "if (setequal(greater_than_mean_prof, subset(df, df$no_of_professors > sum(df$no_of_professors)/length(df$no_of_professors)))){\n",
    "    print(\"That's correct!\")\n",
    "    } else {\"Hmmm, that is not right. The information you need to do this question is in the `Conditional subsetting` section of the linear regression page.\"}"
   ]
  },
  {
   "cell_type": "markdown",
   "metadata": {},
   "source": [
    "## Question 4\n",
    "\n",
    "Use the `hist()` function to crate a histogram of the `no_of_professors`. Save the graph in a variable called `histogram`:"
   ]
  },
  {
   "cell_type": "code",
   "execution_count": null,
   "metadata": {},
   "outputs": [],
   "source": [
    "histogram = '...'"
   ]
  },
  {
   "cell_type": "code",
   "execution_count": null,
   "metadata": {},
   "outputs": [],
   "source": [
    "# mark your answer\n",
    "if (setequal(histogram,  hist(df$no_of_professors))){\n",
    "    print(\"That's correct!\")\n",
    "    } else {\"Hmmm, that is not right. The information you need to do this question is in the `Selecting & plotting data` section of the linear regression page. The histogram should look like the one below:\"}"
   ]
  },
  {
   "cell_type": "markdown",
   "metadata": {},
   "source": [
    "## Question 5\n",
    "\n",
    "Use the `plot()` function to create a scatterplot with `no_of_professors` on the x-axis, and `overall_quality` on the `y_axis`. Save your answer in a variable called `scatterplot`:"
   ]
  },
  {
   "cell_type": "code",
   "execution_count": null,
   "metadata": {},
   "outputs": [],
   "source": [
    "scatterplot = '...'"
   ]
  },
  {
   "cell_type": "code",
   "execution_count": null,
   "metadata": {},
   "outputs": [],
   "source": [
    "# mark your answer\n",
    "if (setequal(scatterplot,  plot(df$no_of_professors, df$overall_quality))){\n",
    "    print(\"That's correct!\")\n",
    "    } else {\"Hmmm, that is not right. The information you need to do this question is in the `Selecting & plotting data` section of the linear regression page. The scatterplot should look like the one below:\"}"
   ]
  },
  {
   "cell_type": "markdown",
   "metadata": {},
   "source": [
    "## Question 6\n",
    "\n",
    "Use the `summary()` function to show descriptive statistics for the entire `df` dataframe. Save your answer in a variable called `my_summary`:"
   ]
  },
  {
   "cell_type": "code",
   "execution_count": null,
   "metadata": {},
   "outputs": [],
   "source": [
    "my_summary = '...'\n",
    "\n",
    "my_summary"
   ]
  },
  {
   "cell_type": "code",
   "execution_count": null,
   "metadata": {},
   "outputs": [],
   "source": [
    "# mark your answer\n",
    "if (setequal(my_summary,  summary(df))){\n",
    "    print(\"That's correct!\")\n",
    "    } else {\"Hmmm, that is not right. The information you need to do this question is in the `Reading and organizing your data` section of the linear regression page.\"}"
   ]
  },
  {
   "cell_type": "markdown",
   "metadata": {},
   "source": [
    "## Question 7\n",
    "\n",
    "Use the `lm()` function to perform a simple linear regression, using `overall_quality` as your dependent variable and `no_of_professors` as your predictor. Save your model in a variable called `my_mod`:"
   ]
  },
  {
   "cell_type": "code",
   "execution_count": null,
   "metadata": {},
   "outputs": [],
   "source": [
    "my_mod = '...' \n",
    "\n",
    "# show the model summary\n",
    "summary(my_mod)"
   ]
  },
  {
   "cell_type": "code",
   "execution_count": null,
   "metadata": {},
   "outputs": [],
   "source": [
    "# mark your answer\n",
    "if (setequal(my_mod,  lm('overall_quality ~ no_of_professors', data = df))){\n",
    "    print(\"That's correct!\")\n",
    "    } else {\"Hmmm, that is not right. The information you need to do this question is in the `Simple linear regression` section of the linear regression page.\"}"
   ]
  },
  {
   "cell_type": "markdown",
   "metadata": {},
   "source": [
    "Please click here to [go back to the Main Page](0_R_tutorials_main_page.ipynb)"
   ]
  }
 ],
 "metadata": {
  "kernelspec": {
   "display_name": "R",
   "language": "R",
   "name": "ir"
  },
  "language_info": {
   "codemirror_mode": "r",
   "file_extension": ".r",
   "mimetype": "text/x-r-source",
   "name": "R",
   "pygments_lexer": "r",
   "version": "4.0.3"
  }
 },
 "nbformat": 4,
 "nbformat_minor": 4
}
