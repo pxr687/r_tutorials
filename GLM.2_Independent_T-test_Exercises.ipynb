{
 "cells": [
  {
   "cell_type": "markdown",
   "metadata": {},
   "source": [
    "# Independent $t$-test with R (Exercises)\n",
    "\n",
    "This notebook contains exercises based on the [$t$-test page](GLM.2_Independent_T-test.ipynb). It contains automated marking, so it will check your answers for you as you go.\n",
    "\n",
    "First, run the cell below by clicking on it and pressing 'Control' and 'Enter' at the same time:"
   ]
  },
  {
   "cell_type": "code",
   "execution_count": null,
   "metadata": {},
   "outputs": [],
   "source": [
    "# do not worry about this code - it just checks if a specific library is installed, and installs it if it isn't\n",
    "if (!require(\"testit\")) install.packages(\"testit\")\n",
    "\n",
    "# this loads the testit library, will is used to mark your answers\n",
    "library('testit')"
   ]
  },
  {
   "cell_type": "markdown",
   "metadata": {},
   "source": [
    "Run the cell below to read in the 'Student Alcohol Consumption' dataset, which we will use for the exercises:"
   ]
  },
  {
   "cell_type": "code",
   "execution_count": null,
   "metadata": {
    "scrolled": false
   },
   "outputs": [],
   "source": [
    "# press Contrl + Enter simultaneously to run this cell, or any other cell in this notebook\n",
    "df = read.csv('data/student-mat.csv')\n",
    "\n",
    "# show the contents of the dataframe\n",
    "df"
   ]
  },
  {
   "cell_type": "markdown",
   "metadata": {},
   "source": [
    "In these exercises we will investigate whether weekend alcohol consumption (`Walc`) differs between students whose parents live togeter vs those whose parents live apart. This information is recorded in the `Pstatus` column of the dataframe:\n",
    "\n",
    "* `Pstatus` - parent's cohabitation status (binary: 'T' - living together or 'A' - apart)"
   ]
  },
  {
   "cell_type": "markdown",
   "metadata": {},
   "source": [
    "## Question 1\n",
    "\n",
    "There are a lot of variables in this dataset, and we are only interested in two of them, for this analysis.\n",
    "\n",
    "Use label-based indexing to grab just the `Pstatus` column and the `Walc` column of the `df` dataframe. Store your answer in a variable called `walc_pstatus`."
   ]
  },
  {
   "cell_type": "code",
   "execution_count": null,
   "metadata": {},
   "outputs": [],
   "source": [
    "walc_pstatus  = '[...]' # replace '...' with your answer \n",
    "\n",
    "# the code below makes the cell show the contents of the variable `walc_pstatus`\n",
    "walc_pstatus"
   ]
  },
  {
   "cell_type": "markdown",
   "metadata": {},
   "source": [
    "Please run the cell below to mark your answer:"
   ]
  },
  {
   "cell_type": "code",
   "execution_count": null,
   "metadata": {},
   "outputs": [],
   "source": [
    "# select this cell, then press 'Control' and 'Enter' together to mark your answer\n",
    "if (setequal(walc_pstatus, df[c('Pstatus', 'Walc')]) | setequal(walc_pstatus, df[c('Walc', 'Pstatus')])){\n",
    "    print(\"That's correct!\")\n",
    "    } else {\"Hmmm, that is not right. The information you need to do this question is in the `Selecting data` section of the independent t-test tutorial.\"}"
   ]
  },
  {
   "cell_type": "markdown",
   "metadata": {},
   "source": [
    "## Question 2\n",
    "\n",
    "Use the `summary()` function to show descriptive statistics for the `Walc` column <b> only </b>, of the `walc_pstatus` dataframe. Save your answer as a variable called `walc_summary`:"
   ]
  },
  {
   "cell_type": "code",
   "execution_count": null,
   "metadata": {},
   "outputs": [],
   "source": [
    "walc_summary  = '...' # replace '...' with your answer \n",
    "\n",
    "# the code below makes the cell show the contents of the variable \n",
    "walc_summary"
   ]
  },
  {
   "cell_type": "code",
   "execution_count": null,
   "metadata": {},
   "outputs": [],
   "source": [
    "# mark your answer\n",
    "if (setequal(walc_summary, summary(walc_pstatus$Walc))){\n",
    "    print(\"That's correct!\")\n",
    "     } else {\"Hmmm, that is not right. The information you need to do this question is in the `Selecting data` section of the independent t-test tutorial.\"}"
   ]
  },
  {
   "cell_type": "markdown",
   "metadata": {},
   "source": [
    "## Question 3\n",
    "\n",
    "Use the `subset()` function to get only the rows of `walc_pstatus` which equal `A`. Store your answer in a variable called `apart`:"
   ]
  },
  {
   "cell_type": "code",
   "execution_count": null,
   "metadata": {},
   "outputs": [],
   "source": [
    "apart =  '...' # replace '...' with your answer \n",
    "\n",
    "# the code below makes the cell show the contents of the variable \n",
    "apart"
   ]
  },
  {
   "cell_type": "code",
   "execution_count": null,
   "metadata": {},
   "outputs": [],
   "source": [
    "# mark your answer\n",
    "if (setequal(apart, subset(walc_pstatus, Pstatus == 'A' ))){\n",
    "    print(\"That's correct!\")\n",
    "     } else {\"Hmmm, that is not right. The information you need to do this question is in the `Selecting data` section of the independent t-test tutorial.\"}"
   ]
  },
  {
   "cell_type": "markdown",
   "metadata": {},
   "source": [
    "## Question 4\n",
    "\n",
    "Use the `subset()` function to get only the rows of `walc_pstatus` which equal `T`. Store your answer in a variable called `together`:"
   ]
  },
  {
   "cell_type": "code",
   "execution_count": null,
   "metadata": {},
   "outputs": [],
   "source": [
    "together = subset(walc_pstatus, Pstatus == 'T' ) # '...' # replace '...' with your answer \n",
    "\n",
    "# the code below makes the cell show the contents of the variable \n",
    "together "
   ]
  },
  {
   "cell_type": "code",
   "execution_count": null,
   "metadata": {},
   "outputs": [],
   "source": [
    "# mark your answer\n",
    "if (setequal(together, subset(walc_pstatus, Pstatus == 'T'))){\n",
    "    print(\"That's correct!\")\n",
    "     } else {\"Hmmm, that is not right. The information you need to do this question is in the `Selecting data` section of the independent t-test tutorial.\"}"
   ]
  },
  {
   "cell_type": "markdown",
   "metadata": {},
   "source": [
    "## Question 5\n",
    "\n",
    "Using the `hist()` function, create a histogram of the `Walc` scores in the `apart` dataframe."
   ]
  },
  {
   "cell_type": "code",
   "execution_count": null,
   "metadata": {},
   "outputs": [],
   "source": [
    "apart_hist = '...' # replace '...' with your answer "
   ]
  },
  {
   "cell_type": "code",
   "execution_count": null,
   "metadata": {},
   "outputs": [],
   "source": [
    "# mark your answer\n",
    "if (setequal(apart_hist,  hist(apart$Walc))){\n",
    "    print(\"That's correct!\")\n",
    "     } else {\"Hmmm, that is not right. The information you need to do this question is in the `Plotting your data` section of the independent t-test tutorial. The histogram should look like the one below:\"}"
   ]
  },
  {
   "cell_type": "markdown",
   "metadata": {},
   "source": [
    "## Question 6\n",
    "\n",
    "Use the `t-test()` function to test for a difference in the mean `Walc` score between the `together` dataframe and the `apart` dataframe.\n",
    "\n",
    "Save you answer in a variable called `my_t_test`"
   ]
  },
  {
   "cell_type": "code",
   "execution_count": null,
   "metadata": {},
   "outputs": [],
   "source": [
    "my_t_test =  '...' # replace '...' with your answer \n",
    "\n",
    "# show my_t_test\n",
    "my_t_test"
   ]
  },
  {
   "cell_type": "code",
   "execution_count": null,
   "metadata": {},
   "outputs": [],
   "source": [
    "# mark your answer\n",
    "if (setequal(my_t_test,  t.test(apart$Walc, together$Walc)) | setequal(my_t_test,  t.test(together$Walc, apart$Walc))){\n",
    "    print(\"That's correct!\")\n",
    "    } else {\"Hmmm, that is not right. The information you need to do this question is in the `Independent samples t-test` section of the independent t-test page.\"}"
   ]
  },
  {
   "cell_type": "markdown",
   "metadata": {},
   "source": [
    "## Question 7\n",
    "\n",
    "On the basis of the t-test we just performed, should we conclude that there is a significant different in the meann `Walc` scores of students whose parents live together, vs those whose parents live apart?\n",
    "\n",
    "Set the value of `significant` to TRUE or FALSE. Use TRUE if you think the t-test was significant, and FALSE if not:"
   ]
  },
  {
   "cell_type": "code",
   "execution_count": null,
   "metadata": {},
   "outputs": [],
   "source": [
    "significant = '...' # replace '...' with your answer \n",
    "\n",
    "significant"
   ]
  },
  {
   "cell_type": "code",
   "execution_count": null,
   "metadata": {},
   "outputs": [],
   "source": [
    "# mark your answer\n",
    "if (setequal(significant,  FALSE)){\n",
    "    print(\"That's correct! The t-test was not significant at the 0.05 level...\")\n",
    "    } else {\"Hmmm, that is not right. Have a look at the `p-value` in the output of the t-test function above.\"}"
   ]
  },
  {
   "cell_type": "markdown",
   "metadata": {},
   "source": [
    "Please click here to [go back to the Main Page](0_R_tutorials_main_page.ipynb)"
   ]
  }
 ],
 "metadata": {
  "kernelspec": {
   "display_name": "R",
   "language": "R",
   "name": "ir"
  },
  "language_info": {
   "codemirror_mode": "r",
   "file_extension": ".r",
   "mimetype": "text/x-r-source",
   "name": "R",
   "pygments_lexer": "r",
   "version": "4.0.3"
  }
 },
 "nbformat": 4,
 "nbformat_minor": 4
}
