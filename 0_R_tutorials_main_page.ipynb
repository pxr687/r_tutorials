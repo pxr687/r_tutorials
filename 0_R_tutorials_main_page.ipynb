{
 "cells": [
  {
   "cell_type": "markdown",
   "metadata": {},
   "source": [
    "<h1> <center> R Tutorials </center> </h1>\n",
    "\n",
    "<br>\n",
    "\n",
    "A collection of R tutorials and exercises which assume prior statistics knowledge, but no knowledge of R or programming. Please click on a link below to go to the tutorials/exercises:"
   ]
  },
  {
   "cell_type": "markdown",
   "metadata": {},
   "source": [
    "<b>Tutorials:</b>\n",
    "\n",
    "1. [A very brief introduction to programming in R](R.1_very_brief_introduction_to_programming.ipynb)\n",
    "2. [Linear regression](GLM.1_Linear_Regression.ipynb)\n",
    "3. [Independent samples $t$-test](GLM.2_Independent_T-test.ipynb)\n",
    "\n",
    "<b>Exercises:</b>\n",
    "1. [Linear regression exercises](GLM.1_Linear_Regression_Exercises.ipynb)\n",
    "2. [Independent $t$-test exercises](GLM.2_Independent_T-test_Exercises.ipynb)"
   ]
  },
  {
   "cell_type": "markdown",
   "metadata": {},
   "source": [
    "***\n",
    "By [pxr687](https://github.com/pxr687) "
   ]
  }
 ],
 "metadata": {
  "kernelspec": {
   "display_name": "R",
   "language": "R",
   "name": "ir"
  },
  "language_info": {
   "codemirror_mode": "r",
   "file_extension": ".r",
   "mimetype": "text/x-r-source",
   "name": "R",
   "pygments_lexer": "r",
   "version": "4.0.3"
  }
 },
 "nbformat": 4,
 "nbformat_minor": 5
}
